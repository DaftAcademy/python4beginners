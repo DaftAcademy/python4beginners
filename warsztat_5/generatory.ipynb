{
 "cells": [
  {
   "cell_type": "markdown",
   "metadata": {
    "slideshow": {
     "slide_type": "slide"
    }
   },
   "source": [
    "# Generatory, Iteratory, Virtualenv, Requests\n",
    "## Marcin Jaroszewski\n",
    "### 21.XI.2017, Python4Beginners"
   ]
  },
  {
   "cell_type": "markdown",
   "metadata": {
    "slideshow": {
     "slide_type": "slide"
    }
   },
   "source": [
    "# 1. Pytania z poprzednich zajęć"
   ]
  },
  {
   "cell_type": "markdown",
   "metadata": {
    "slideshow": {
     "slide_type": "subslide"
    }
   },
   "source": [
    "## Nie mam pojęcia jak to działa!"
   ]
  },
  {
   "cell_type": "markdown",
   "metadata": {
    "slideshow": {
     "slide_type": "subslide"
    }
   },
   "source": [
    "\"Wizualizator\" wykonania programu pythonowego: http://pythontutor.com/visualize.html#mode=editS"
   ]
  },
  {
   "cell_type": "markdown",
   "metadata": {
    "slideshow": {
     "slide_type": "subslide"
    }
   },
   "source": [
    "## Kodowanie znakow w konsoli"
   ]
  },
  {
   "cell_type": "markdown",
   "metadata": {
    "slideshow": {
     "slide_type": "subslide"
    }
   },
   "source": [
    "uruchamiamy program z: https://github.com/fluentpython/example-code/blob/master/04-text-byte/default_encodings.py"
   ]
  },
  {
   "cell_type": "markdown",
   "metadata": {
    "slideshow": {
     "slide_type": "subslide"
    }
   },
   "source": [
    "### Wyniki konsola Ubuntu 16.04\n",
    "```\n",
    " locale.getpreferredencoding() -> 'UTF-8'\n",
    "                 type(my_file) -> <class '_io.TextIOWrapper'>\n",
    "              my_file.encoding -> 'UTF-8'\n",
    "           sys.stdout.isatty() -> True\n",
    "           sys.stdout.encoding -> 'UTF-8'\n",
    "            sys.stdin.isatty() -> True\n",
    "            sys.stdin.encoding -> 'UTF-8'\n",
    "           sys.stderr.isatty() -> True\n",
    "           sys.stderr.encoding -> 'UTF-8'\n",
    "      sys.getdefaultencoding() -> 'utf-8'\n",
    "   sys.getfilesystemencoding() -> 'utf-8'\n",
    "```"
   ]
  },
  {
   "cell_type": "markdown",
   "metadata": {
    "slideshow": {
     "slide_type": "subslide"
    }
   },
   "source": [
    "### Wyniki konsola Mac\n",
    "```\n",
    " locale.getpreferredencoding() -> 'UTF-8'\n",
    "                 type(my_file) -> <class '_io.TextIOWrapper'>\n",
    "              my_file.encoding -> 'UTF-8'\n",
    "           sys.stdout.isatty() -> True\n",
    "           sys.stdout.encoding -> 'UTF-8'\n",
    "            sys.stdin.isatty() -> True\n",
    "            sys.stdin.encoding -> 'UTF-8'\n",
    "           sys.stderr.isatty() -> True\n",
    "           sys.stderr.encoding -> 'UTF-8'\n",
    "      sys.getdefaultencoding() -> 'utf-8'\n",
    "   sys.getfilesystemencoding() -> 'utf-8'\n",
    "```"
   ]
  },
  {
   "cell_type": "markdown",
   "metadata": {
    "slideshow": {
     "slide_type": "subslide"
    }
   },
   "source": [
    "### Wyniki konsola Windows 7\n",
    "```\n",
    " locale.getpreferredencoding() -> 'cp1250'\n",
    "                  type(my_file) -> <class '_io.TextIOWrapper'>\n",
    "               my_file.encoding -> 'cp1250'\n",
    "            sys.stdout.isatty() -> True\n",
    "            sys.stdout.encoding -> 'utf-8'\n",
    "             sys.stdin.isatty() -> True\n",
    "             sys.stdin.encoding -> 'utf-8'\n",
    "            sys.stderr.isatty() -> True\n",
    "            sys.stderr.encoding -> 'utf-8'\n",
    "       sys.getdefaultencoding() -> 'utf-8'\n",
    "    sys.getfilesystemencoding() -> 'utf-8'\n",
    "```"
   ]
  },
  {
   "cell_type": "markdown",
   "metadata": {
    "slideshow": {
     "slide_type": "subslide"
    }
   },
   "source": [
    "### Wyniki sublime Ubuntu\n",
    "```\n",
    " locale.getpreferredencoding() -> 'UTF-8'\n",
    "                 type(my_file) -> <class '_io.TextIOWrapper'>\n",
    "              my_file.encoding -> 'UTF-8'\n",
    "           sys.stdout.isatty() -> False\n",
    "           sys.stdout.encoding -> 'UTF-8'\n",
    "            sys.stdin.isatty() -> False\n",
    "            sys.stdin.encoding -> 'UTF-8'\n",
    "           sys.stderr.isatty() -> False\n",
    "           sys.stderr.encoding -> 'UTF-8'\n",
    "      sys.getdefaultencoding() -> 'utf-8'\n",
    "   sys.getfilesystemencoding() -> 'utf-8'\n",
    "```"
   ]
  },
  {
   "cell_type": "markdown",
   "metadata": {
    "slideshow": {
     "slide_type": "subslide"
    }
   },
   "source": [
    "### Wyniki sublime Mac\n",
    "```\n",
    " locale.getpreferredencoding() -> 'US-ASCII'                                                                                                                 \n",
    "                 type(my_file) -> <class '_io.TextIOWrapper'>                                                                                                \n",
    "              my_file.encoding -> 'US-ASCII'                                                                                                                 \n",
    "           sys.stdout.isatty() -> True                                                                                                                       \n",
    "           sys.stdout.encoding -> 'US-ASCII'                                                                                                                 \n",
    "            sys.stdin.isatty() -> True                                                                                                                       \n",
    "            sys.stdin.encoding -> 'US-ASCII'                                                                                                                 \n",
    "           sys.stderr.isatty() -> True                                                                                                                       \n",
    "           sys.stderr.encoding -> 'US-ASCII'                                                                                                                 \n",
    "      sys.getdefaultencoding() -> 'utf-8'                                                                                                                    \n",
    "   sys.getfilesystemencoding() -> 'utf-8'\n",
    "```"
   ]
  },
  {
   "cell_type": "markdown",
   "metadata": {
    "slideshow": {
     "slide_type": "subslide"
    }
   },
   "source": [
    "### Wyniki visual studio code Ubuntu\n",
    "```\n",
    " locale.getpreferredencoding() -> \"UTF-8\"\n",
    "                 type(my_file) -> \"<type 'file'>\"\n",
    "              my_file.encoding -> None\n",
    "           sys.stdout.isatty() -> False\n",
    "           sys.stdout.encoding -> None\n",
    "            sys.stdin.isatty() -> False\n",
    "            sys.stdin.encoding -> None\n",
    "           sys.stderr.isatty() -> False\n",
    "           sys.stderr.encoding -> None\n",
    "      sys.getdefaultencoding() -> \"ascii\"\n",
    "   sys.getfilesystemencoding() -> \"UTF-8\"\n",
    "```"
   ]
  },
  {
   "cell_type": "markdown",
   "metadata": {
    "slideshow": {
     "slide_type": "subslide"
    }
   },
   "source": [
    "Źródłem problemu na poprzednich zajęciach było uzycie domyślnego kodowania podczas otwierania pliku.  \n",
    "Jak widać, nawet w obrębie jednego systemu możemy mieć problemy z niezgodnością kodowań.  \n",
    "Jeśli chcemy pisać odporne programy, które można przenosić między platformami to zawsze należy podawać kodowanie.  \n",
    "Pamiętajmy o zasadzie kanapki:\n",
    "* na wejściu transformujemy dane z wszystkich możliwych kodowań do jednego spójnego dla całego programu kodowania (najlepiej `utf-8`). (Górna bułka)\n",
    "* w programie **zawsze** używamy **tego samego** kodowania dla wszystkich stringów. (Mięso)\n",
    "* na wyjściu kodujemy dane do formatu (kodowania) jaki jest od nas oczekiwany. (Dolna bułka)\n",
    "\n",
    "W ten sposób łatwo unikniemy bardzo wielu problemów.\n",
    "\n",
    "- Więcej informacji o kodowaniach: https://www.joelonsoftware.com/2003/10/08/the-absolute-minimum-every-software-developer-absolutely-positively-must-know-about-unicode-and-character-sets-no-excuses/  \n",
    "- Unnicode i python: https://docs.python.org/3/howto/unicode.html"
   ]
  },
  {
   "cell_type": "code",
   "execution_count": 14,
   "metadata": {
    "slideshow": {
     "slide_type": "subslide"
    }
   },
   "outputs": [
    {
     "name": "stdout",
     "output_type": "stream",
     "text": [
      "Help on built-in function open in module io:\n",
      "\n",
      "open(file, mode='r', buffering=-1, encoding=None, errors=None, newline=None, closefd=True, opener=None)\n",
      "    Open file and return a stream.  Raise IOError upon failure.\n",
      "    \n",
      "    file is either a text or byte string giving the name (and the path\n",
      "    if the file isn't in the current working directory) of the file to\n",
      "    be opened or an integer file descriptor of the file to be\n",
      "    wrapped. (If a file descriptor is given, it is closed when the\n",
      "    returned I/O object is closed, unless closefd is set to False.)\n",
      "    \n",
      "    mode is an optional string that specifies the mode in which the file\n",
      "    is opened. It defaults to 'r' which means open for reading in text\n",
      "    mode.  Other common values are 'w' for writing (truncating the file if\n",
      "    it already exists), 'x' for creating and writing to a new file, and\n",
      "    'a' for appending (which on some Unix systems, means that all writes\n",
      "    append to the end of the file regardless of the current seek position).\n",
      "    In text mode, if encoding is not specified the encoding used is platform\n",
      "    dependent: locale.getpreferredencoding(False) is called to get the\n",
      "    current locale encoding. (For reading and writing raw bytes use binary\n",
      "    mode and leave encoding unspecified.) The available modes are:\n",
      "    \n",
      "    ========= ===============================================================\n",
      "    Character Meaning\n",
      "    --------- ---------------------------------------------------------------\n",
      "    'r'       open for reading (default)\n",
      "    'w'       open for writing, truncating the file first\n",
      "    'x'       create a new file and open it for writing\n",
      "    'a'       open for writing, appending to the end of the file if it exists\n",
      "    'b'       binary mode\n",
      "    't'       text mode (default)\n",
      "    '+'       open a disk file for updating (reading and writing)\n",
      "    'U'       universal newline mode (deprecated)\n",
      "    ========= ===============================================================\n",
      "    \n",
      "    The default mode is 'rt' (open for reading text). For binary random\n",
      "    access, the mode 'w+b' opens and truncates the file to 0 bytes, while\n",
      "    'r+b' opens the file without truncation. The 'x' mode implies 'w' and\n",
      "    raises an `FileExistsError` if the file already exists.\n",
      "    \n",
      "    Python distinguishes between files opened in binary and text modes,\n",
      "    even when the underlying operating system doesn't. Files opened in\n",
      "    binary mode (appending 'b' to the mode argument) return contents as\n",
      "    bytes objects without any decoding. In text mode (the default, or when\n",
      "    't' is appended to the mode argument), the contents of the file are\n",
      "    returned as strings, the bytes having been first decoded using a\n",
      "    platform-dependent encoding or using the specified encoding if given.\n",
      "    \n",
      "    'U' mode is deprecated and will raise an exception in future versions\n",
      "    of Python.  It has no effect in Python 3.  Use newline to control\n",
      "    universal newlines mode.\n",
      "    \n",
      "    buffering is an optional integer used to set the buffering policy.\n",
      "    Pass 0 to switch buffering off (only allowed in binary mode), 1 to select\n",
      "    line buffering (only usable in text mode), and an integer > 1 to indicate\n",
      "    the size of a fixed-size chunk buffer.  When no buffering argument is\n",
      "    given, the default buffering policy works as follows:\n",
      "    \n",
      "    * Binary files are buffered in fixed-size chunks; the size of the buffer\n",
      "      is chosen using a heuristic trying to determine the underlying device's\n",
      "      \"block size\" and falling back on `io.DEFAULT_BUFFER_SIZE`.\n",
      "      On many systems, the buffer will typically be 4096 or 8192 bytes long.\n",
      "    \n",
      "    * \"Interactive\" text files (files for which isatty() returns True)\n",
      "      use line buffering.  Other text files use the policy described above\n",
      "      for binary files.\n",
      "    \n",
      "    encoding is the name of the encoding used to decode or encode the\n",
      "    file. This should only be used in text mode. The default encoding is\n",
      "    platform dependent, but any encoding supported by Python can be\n",
      "    passed.  See the codecs module for the list of supported encodings.\n",
      "    \n",
      "    errors is an optional string that specifies how encoding errors are to\n",
      "    be handled---this argument should not be used in binary mode. Pass\n",
      "    'strict' to raise a ValueError exception if there is an encoding error\n",
      "    (the default of None has the same effect), or pass 'ignore' to ignore\n",
      "    errors. (Note that ignoring encoding errors can lead to data loss.)\n",
      "    See the documentation for codecs.register or run 'help(codecs.Codec)'\n",
      "    for a list of the permitted encoding error strings.\n",
      "    \n",
      "    newline controls how universal newlines works (it only applies to text\n",
      "    mode). It can be None, '', '\\n', '\\r', and '\\r\\n'.  It works as\n",
      "    follows:\n",
      "    \n",
      "    * On input, if newline is None, universal newlines mode is\n",
      "      enabled. Lines in the input can end in '\\n', '\\r', or '\\r\\n', and\n",
      "      these are translated into '\\n' before being returned to the\n",
      "      caller. If it is '', universal newline mode is enabled, but line\n",
      "      endings are returned to the caller untranslated. If it has any of\n",
      "      the other legal values, input lines are only terminated by the given\n",
      "      string, and the line ending is returned to the caller untranslated.\n",
      "    \n",
      "    * On output, if newline is None, any '\\n' characters written are\n",
      "      translated to the system default line separator, os.linesep. If\n",
      "      newline is '' or '\\n', no translation takes place. If newline is any\n",
      "      of the other legal values, any '\\n' characters written are translated\n",
      "      to the given string.\n",
      "    \n",
      "    If closefd is False, the underlying file descriptor will be kept open\n",
      "    when the file is closed. This does not work when a file name is given\n",
      "    and must be True in that case.\n",
      "    \n",
      "    A custom opener can be used by passing a callable as *opener*. The\n",
      "    underlying file descriptor for the file object is then obtained by\n",
      "    calling *opener* with (*file*, *flags*). *opener* must return an open\n",
      "    file descriptor (passing os.open as *opener* results in functionality\n",
      "    similar to passing None).\n",
      "    \n",
      "    open() returns a file object whose type depends on the mode, and\n",
      "    through which the standard file operations such as reading and writing\n",
      "    are performed. When open() is used to open a file in a text mode ('w',\n",
      "    'r', 'wt', 'rt', etc.), it returns a TextIOWrapper. When used to open\n",
      "    a file in a binary mode, the returned class varies: in read binary\n",
      "    mode, it returns a BufferedReader; in write binary and append binary\n",
      "    modes, it returns a BufferedWriter, and in read/write mode, it returns\n",
      "    a BufferedRandom.\n",
      "    \n",
      "    It is also possible to use a string or bytearray as a file for both\n",
      "    reading and writing. For strings StringIO can be used like a file\n",
      "    opened in a text mode, and for bytes a BytesIO can be used like a file\n",
      "    opened in a binary mode.\n",
      "\n"
     ]
    }
   ],
   "source": [
    "help(open)"
   ]
  },
  {
   "cell_type": "markdown",
   "metadata": {
    "slideshow": {
     "slide_type": "subslide"
    }
   },
   "source": [
    "## Hierarchia wyjątków"
   ]
  },
  {
   "cell_type": "markdown",
   "metadata": {
    "slideshow": {
     "slide_type": "subslide"
    }
   },
   "source": [
    "https://docs.python.org/3/library/exceptions.html#exception-hierarchy"
   ]
  },
  {
   "cell_type": "markdown",
   "metadata": {
    "slideshow": {
     "slide_type": "subslide"
    }
   },
   "source": [
    "### Uwagi\n",
    "Nigdy nie łapiemy `BaseException`.  \n",
    "Nigdy nie dziedziczymy po `BaseException`.  \n",
    "Pierwsze po czym możemy dziedziczyć i łapać to `Exception`.  \n",
    "Lepiej łapać konkretne wyjątki, których są możliwe niż wszystkie jakie tylko są.  "
   ]
  },
  {
   "cell_type": "markdown",
   "metadata": {
    "slideshow": {
     "slide_type": "slide"
    }
   },
   "source": [
    "# 2. Praca domowa"
   ]
  },
  {
   "cell_type": "markdown",
   "metadata": {
    "slideshow": {
     "slide_type": "subslide"
    }
   },
   "source": [
    "## zadanie 1"
   ]
  },
  {
   "cell_type": "markdown",
   "metadata": {
    "slideshow": {
     "slide_type": "subslide"
    }
   },
   "source": [
    "## zadanie 2"
   ]
  },
  {
   "cell_type": "markdown",
   "metadata": {
    "slideshow": {
     "slide_type": "subslide"
    }
   },
   "source": [
    "#### Problemy:\n",
    "* Złe nazwy elementów\n",
    "* Kodowanie plików, domyślny rodzaj kodowania w windowsie to cp1250. Ludzie dostawali taki błąd: \n",
    "    `UnicodeDecodeError: 'charmap' codec can't decode byte X in position Y: character maps to <undefined>`\n",
    "  Należało zastosować rozwiązanie:\n",
    "      `file = open(filename, encoding=\"utf8\")`"
   ]
  },
  {
   "cell_type": "markdown",
   "metadata": {
    "slideshow": {
     "slide_type": "subslide"
    }
   },
   "source": [
    "## zadanie 3"
   ]
  },
  {
   "cell_type": "markdown",
   "metadata": {
    "slideshow": {
     "slide_type": "subslide"
    }
   },
   "source": [
    "## zadanie 4"
   ]
  },
  {
   "cell_type": "markdown",
   "metadata": {
    "slideshow": {
     "slide_type": "subslide"
    }
   },
   "source": [
    "#### Problemy:\n",
    "* Czytanie ze zrozumieniem.\n",
    "* Niezrozumienie zagnieżdżonych pętli.\n",
    "* Pretensje o to, że testy znalazły błąd.\n",
    "* Pomylenie szerokości z wysokością."
   ]
  },
  {
   "cell_type": "code",
   "execution_count": 15,
   "metadata": {
    "slideshow": {
     "slide_type": "subslide"
    }
   },
   "outputs": [
    {
     "name": "stdout",
     "output_type": "stream",
     "text": [
      "a 1\n",
      "a 2\n",
      "a 3\n",
      "b 1\n",
      "b 2\n",
      "b 3\n",
      "c 1\n",
      "c 2\n",
      "c 3\n"
     ]
    }
   ],
   "source": [
    "# Przypomnienie pętli zagnieżdżonych (nested loops)\n",
    "for letter in 'abc':\n",
    "    for number in [1, 2, 3]:\n",
    "        print(letter, number)"
   ]
  },
  {
   "cell_type": "markdown",
   "metadata": {
    "slideshow": {
     "slide_type": "subslide"
    }
   },
   "source": [
    "### Zalecenia na przyszłość odnośnie prac domowych:\n",
    "* zwracajcie wartości z funkcji\n",
    "* wrzucajcie treść funkcji/klasy bez assertów\n",
    "* zadbajcie o to aby były wszystkie importy\n",
    "* korzystajcie z podstawowych pakietów (`pandas` :P)"
   ]
  },
  {
   "cell_type": "markdown",
   "metadata": {
    "slideshow": {
     "slide_type": "slide"
    }
   },
   "source": [
    "# 3. Iteratory, Generatory "
   ]
  },
  {
   "cell_type": "markdown",
   "metadata": {
    "slideshow": {
     "slide_type": "subslide"
    }
   },
   "source": [
    "## Podstawowe generatory"
   ]
  },
  {
   "cell_type": "code",
   "execution_count": 110,
   "metadata": {
    "slideshow": {
     "slide_type": "subslide"
    }
   },
   "outputs": [
    {
     "name": "stdout",
     "output_type": "stream",
     "text": [
      "['a', 'b', 'c', 'd', 'e', 'f']\n"
     ]
    }
   ],
   "source": [
    "a = [x for x in 'abcdef']  # list comprehension\n",
    "print(a)"
   ]
  },
  {
   "cell_type": "markdown",
   "metadata": {
    "slideshow": {
     "slide_type": "subslide"
    }
   },
   "source": [
    "Ale gdybyśmy chcieli dostać tuplę to napotkamy na niespodziankę."
   ]
  },
  {
   "cell_type": "code",
   "execution_count": 111,
   "metadata": {
    "slideshow": {
     "slide_type": "subslide"
    }
   },
   "outputs": [
    {
     "name": "stdout",
     "output_type": "stream",
     "text": [
      "<generator object <genexpr> at 0x7faf1c4b6938>\n"
     ]
    }
   ],
   "source": [
    "a = (x for x in 'abcdef')  # generator expression (genexp)\n",
    "print(a)"
   ]
  },
  {
   "cell_type": "markdown",
   "metadata": {
    "slideshow": {
     "slide_type": "subslide"
    }
   },
   "source": [
    "### Co można z generatorem zrobić?"
   ]
  },
  {
   "cell_type": "code",
   "execution_count": 112,
   "metadata": {
    "slideshow": {
     "slide_type": "subslide"
    }
   },
   "outputs": [
    {
     "name": "stdout",
     "output_type": "stream",
     "text": [
      "pierszy obieg\n",
      "a\n",
      "b\n",
      "c\n",
      "d\n",
      "e\n",
      "f\n",
      "drugi obieg\n",
      "[]\n"
     ]
    }
   ],
   "source": [
    "# po generatore można iterować, ale tylko raz\n",
    "print('pierszy obieg')\n",
    "for letter in a:\n",
    "    print(letter)\n",
    "print('drugi obieg')\n",
    "for letter in a:\n",
    "    print(letter)\n",
    "print(list(a))"
   ]
  },
  {
   "cell_type": "markdown",
   "metadata": {
    "slideshow": {
     "slide_type": "subslide"
    }
   },
   "source": [
    "Generatory to obiekty, po których można iterować. W podstawowej wersji tworzymy je za pomocą nawiasów okrągłych i wyrażenia w stylu list-comprehension w środku."
   ]
  },
  {
   "cell_type": "markdown",
   "metadata": {
    "slideshow": {
     "slide_type": "subslide"
    }
   },
   "source": [
    "## Bardziej rozbudowane generatory"
   ]
  },
  {
   "cell_type": "code",
   "execution_count": 113,
   "metadata": {
    "slideshow": {
     "slide_type": "subslide"
    }
   },
   "outputs": [],
   "source": [
    "# Chcielibyśmy, żeby ta funkcja \"zwracała\" za każdym wywołaniek kolejną literę.\n",
    "def my_abc(run):\n",
    "    return 'abc'[run]"
   ]
  },
  {
   "cell_type": "code",
   "execution_count": 114,
   "metadata": {
    "slideshow": {
     "slide_type": "subslide"
    }
   },
   "outputs": [
    {
     "name": "stdout",
     "output_type": "stream",
     "text": [
      "a\n",
      "b\n",
      "c\n"
     ]
    }
   ],
   "source": [
    "print(my_abc(0))\n",
    "print(my_abc(1))\n",
    "print(my_abc(2))"
   ]
  },
  {
   "cell_type": "code",
   "execution_count": 115,
   "metadata": {
    "slideshow": {
     "slide_type": "subslide"
    }
   },
   "outputs": [],
   "source": [
    "def my_abc():\n",
    "    for x in 'abc':\n",
    "        yield x  # nowe słowo kluczowe - yield"
   ]
  },
  {
   "cell_type": "code",
   "execution_count": 116,
   "metadata": {
    "slideshow": {
     "slide_type": "subslide"
    }
   },
   "outputs": [
    {
     "name": "stdout",
     "output_type": "stream",
     "text": [
      "a\n",
      "b\n",
      "c\n"
     ]
    }
   ],
   "source": [
    "for letter in my_abc():\n",
    "    print(letter)"
   ]
  },
  {
   "cell_type": "code",
   "execution_count": 117,
   "metadata": {
    "slideshow": {
     "slide_type": "subslide"
    }
   },
   "outputs": [
    {
     "name": "stdout",
     "output_type": "stream",
     "text": [
      "type(my_abc): <class 'function'>\n",
      "type(my_abc()): <class 'generator'>\n"
     ]
    }
   ],
   "source": [
    "print('type(my_abc):', type(my_abc))\n",
    "print('type(my_abc()):', type(my_abc()))"
   ]
  },
  {
   "cell_type": "code",
   "execution_count": 7,
   "metadata": {
    "slideshow": {
     "slide_type": "subslide"
    }
   },
   "outputs": [
    {
     "name": "stdout",
     "output_type": "stream",
     "text": [
      "a\n",
      "b\n",
      "c\n"
     ]
    },
    {
     "ename": "StopIteration",
     "evalue": "",
     "output_type": "error",
     "traceback": [
      "\u001b[0;31m---------------------------------------------------------------------------\u001b[0m",
      "\u001b[0;31mStopIteration\u001b[0m                             Traceback (most recent call last)",
      "\u001b[0;32m<ipython-input-7-f757cb512c0a>\u001b[0m in \u001b[0;36m<module>\u001b[0;34m()\u001b[0m\n\u001b[1;32m      3\u001b[0m \u001b[0mprint\u001b[0m\u001b[0;34m(\u001b[0m\u001b[0mnext\u001b[0m\u001b[0;34m(\u001b[0m\u001b[0ma\u001b[0m\u001b[0;34m)\u001b[0m\u001b[0;34m)\u001b[0m\u001b[0;34m\u001b[0m\u001b[0m\n\u001b[1;32m      4\u001b[0m \u001b[0mprint\u001b[0m\u001b[0;34m(\u001b[0m\u001b[0mnext\u001b[0m\u001b[0;34m(\u001b[0m\u001b[0ma\u001b[0m\u001b[0;34m)\u001b[0m\u001b[0;34m)\u001b[0m\u001b[0;34m\u001b[0m\u001b[0m\n\u001b[0;32m----> 5\u001b[0;31m \u001b[0mprint\u001b[0m\u001b[0;34m(\u001b[0m\u001b[0mnext\u001b[0m\u001b[0;34m(\u001b[0m\u001b[0ma\u001b[0m\u001b[0;34m)\u001b[0m\u001b[0;34m)\u001b[0m\u001b[0;34m\u001b[0m\u001b[0m\n\u001b[0m",
      "\u001b[0;31mStopIteration\u001b[0m: "
     ]
    }
   ],
   "source": [
    "a = my_abc()\n",
    "print(next(a))\n",
    "print(next(a))\n",
    "print(next(a))\n",
    "print(next(a))"
   ]
  },
  {
   "cell_type": "code",
   "execution_count": 3,
   "metadata": {
    "slideshow": {
     "slide_type": "subslide"
    }
   },
   "outputs": [],
   "source": [
    "def my_abc():\n",
    "    yield 'a'\n",
    "    yield 'b' # można używać więcej niż jednego yield\n",
    "    yield 'c'"
   ]
  },
  {
   "cell_type": "code",
   "execution_count": 119,
   "metadata": {
    "slideshow": {
     "slide_type": "subslide"
    }
   },
   "outputs": [
    {
     "name": "stdout",
     "output_type": "stream",
     "text": [
      "a\n",
      "b\n",
      "c\n"
     ]
    }
   ],
   "source": [
    "for letter in my_abc():\n",
    "    print(letter)"
   ]
  },
  {
   "cell_type": "code",
   "execution_count": 4,
   "metadata": {
    "slideshow": {
     "slide_type": "subslide"
    }
   },
   "outputs": [
    {
     "name": "stdout",
     "output_type": "stream",
     "text": [
      "a a\n",
      "a b\n",
      "a c\n",
      "b a\n",
      "b b\n",
      "b c\n",
      "c a\n",
      "c b\n",
      "c c\n"
     ]
    }
   ],
   "source": [
    "for letter1 in my_abc():\n",
    "    for letter2 in my_abc():  # za każdym razem nowy generator\n",
    "        print(letter1, letter2)"
   ]
  },
  {
   "cell_type": "markdown",
   "metadata": {
    "slideshow": {
     "slide_type": "subslide"
    }
   },
   "source": [
    "### Podsumowanie generatorów\n",
    "Generatory pamiętają swój stan pomiędzy kolejnymi wywołaniami `yield`.  \n",
    "Pozwalają na opakowanie w standardowy sposób wielu różnych przypadków - wygenerowanie następnego elementu może trwać bardzo długo i wymagać np wielu odwołań do zasobów poza naszym komputerem.  \n",
    "Słowo `yield` ma większe możliwości niż pokazano na przykładach, ale to już trudniejszy temat."
   ]
  },
  {
   "cell_type": "markdown",
   "metadata": {
    "slideshow": {
     "slide_type": "subslide"
    }
   },
   "source": [
    "## Jak działa petla for?"
   ]
  },
  {
   "cell_type": "code",
   "execution_count": 121,
   "metadata": {
    "slideshow": {
     "slide_type": "subslide"
    }
   },
   "outputs": [],
   "source": [
    "def my_own_for(seq):\n",
    "    try:\n",
    "        while True:\n",
    "            val = next(seq)\n",
    "            print('val: ', val)\n",
    "    except Exception as e:\n",
    "        print('Exception occurred.')\n",
    "        print('Terminating loop execution')\n",
    "        print('Exception type: `{}`, {}'.format(e.__class__.__name__, e))"
   ]
  },
  {
   "cell_type": "code",
   "execution_count": 122,
   "metadata": {
    "slideshow": {
     "slide_type": "subslide"
    }
   },
   "outputs": [
    {
     "name": "stdout",
     "output_type": "stream",
     "text": [
      "Exception occurred.\n",
      "Terminating loop execution\n",
      "Exception type: `TypeError`, 'range' object is not an iterator\n"
     ]
    }
   ],
   "source": [
    "my_own_for(range(3))"
   ]
  },
  {
   "cell_type": "code",
   "execution_count": 123,
   "metadata": {
    "slideshow": {
     "slide_type": "subslide"
    }
   },
   "outputs": [
    {
     "name": "stdout",
     "output_type": "stream",
     "text": [
      "Exception occurred.\n",
      "Terminating loop execution\n",
      "Exception type: `TypeError`, 'list' object is not an iterator\n"
     ]
    }
   ],
   "source": [
    "my_own_for([1, 2, 3])"
   ]
  },
  {
   "cell_type": "code",
   "execution_count": 124,
   "metadata": {
    "slideshow": {
     "slide_type": "subslide"
    }
   },
   "outputs": [
    {
     "name": "stdout",
     "output_type": "stream",
     "text": [
      "Help on built-in function next in module builtins:\n",
      "\n",
      "next(...)\n",
      "    next(iterator[, default])\n",
      "    \n",
      "    Return the next item from the iterator. If default is given and the iterator\n",
      "    is exhausted, it is returned instead of raising StopIteration.\n",
      "\n"
     ]
    }
   ],
   "source": [
    "help(next)"
   ]
  },
  {
   "cell_type": "code",
   "execution_count": 125,
   "metadata": {
    "slideshow": {
     "slide_type": "subslide"
    }
   },
   "outputs": [
    {
     "name": "stdout",
     "output_type": "stream",
     "text": [
      "Help on built-in function iter in module builtins:\n",
      "\n",
      "iter(...)\n",
      "    iter(iterable) -> iterator\n",
      "    iter(callable, sentinel) -> iterator\n",
      "    \n",
      "    Get an iterator from an object.  In the first form, the argument must\n",
      "    supply its own iterator, or be a sequence.\n",
      "    In the second form, the callable is called until it returns the sentinel.\n",
      "\n"
     ]
    }
   ],
   "source": [
    "help(iter)"
   ]
  },
  {
   "cell_type": "code",
   "execution_count": 132,
   "metadata": {
    "slideshow": {
     "slide_type": "subslide"
    }
   },
   "outputs": [],
   "source": [
    "def my_better_own_for(seq, callback):\n",
    "    seq_iterator = iter(seq)\n",
    "    try:\n",
    "        while True:\n",
    "            val = next(seq_iterator)\n",
    "            callback(val)\n",
    "    except StopIteration as e:\n",
    "        pass # end of sequence"
   ]
  },
  {
   "cell_type": "code",
   "execution_count": 134,
   "metadata": {
    "slideshow": {
     "slide_type": "subslide"
    }
   },
   "outputs": [
    {
     "name": "stdout",
     "output_type": "stream",
     "text": [
      "1\n",
      "2\n",
      "3\n"
     ]
    }
   ],
   "source": [
    "my_better_own_for([1, 2, 3], print)"
   ]
  },
  {
   "cell_type": "code",
   "execution_count": 135,
   "metadata": {
    "slideshow": {
     "slide_type": "subslide"
    }
   },
   "outputs": [
    {
     "name": "stdout",
     "output_type": "stream",
     "text": [
      "(0, 'a')\n",
      "(1, 'b')\n",
      "(2, 'c')\n",
      "(3, 'd')\n",
      "(4, 'e')\n",
      "(5, 'f')\n"
     ]
    }
   ],
   "source": [
    "my_better_own_for(enumerate('abcdef'), print)"
   ]
  },
  {
   "cell_type": "code",
   "execution_count": 129,
   "metadata": {
    "slideshow": {
     "slide_type": "subslide"
    }
   },
   "outputs": [
    {
     "name": "stdout",
     "output_type": "stream",
     "text": [
      "type([1, 2, 3]): <class 'list'>\n",
      "type(iter([1, 2, 3])): <class 'list_iterator'>\n",
      "type(range(3)): <class 'range'>\n",
      "type(iter(range(3))): <class 'range_iterator'>\n"
     ]
    }
   ],
   "source": [
    "print('type([1, 2, 3]):', type([1, 2, 3]))\n",
    "print('type(iter([1, 2, 3])):', type(iter([1, 2, 3])))\n",
    "print('type(range(3)):', type(range(3)))\n",
    "print('type(iter(range(3))):', type(iter(range(3))))"
   ]
  },
  {
   "cell_type": "markdown",
   "metadata": {
    "slideshow": {
     "slide_type": "subslide"
    }
   },
   "source": [
    "### Coś więcej o iteratorach"
   ]
  },
  {
   "cell_type": "code",
   "execution_count": 130,
   "metadata": {
    "slideshow": {
     "slide_type": "subslide"
    }
   },
   "outputs": [
    {
     "name": "stdout",
     "output_type": "stream",
     "text": [
      "id(it_1): 140390071378384\n",
      "id(it_2): 140390071677560\n",
      "id(it_3): 140390071378384\n",
      "it_1: 1, 2, 3, 4, 5\n",
      "it_2: 1, 2, 3, 4, 5\n",
      "it_3: \n"
     ]
    }
   ],
   "source": [
    "a = [1, 2, 3, 4, 5]\n",
    "it_1 = iter(a)\n",
    "it_2 = iter(a)\n",
    "it_3 = iter(it_1)\n",
    "print('id(it_1):', id(it_1))\n",
    "print('id(it_2):', id(it_2))\n",
    "print('id(it_3):', id(it_3))\n",
    "print('it_1: {}'.format(', '.join(str(x) for x in it_1)))\n",
    "print('it_2: {}'.format(', '.join(str(x) for x in it_2)))\n",
    "print('it_3: {}'.format(', '.join(str(x) for x in it_3)))"
   ]
  },
  {
   "cell_type": "markdown",
   "metadata": {
    "slideshow": {
     "slide_type": "subslide"
    }
   },
   "source": [
    "Funkcja `iter` uruchomiona na obiekcie, który nie jest iteratorem zwraca **nowy** iterator (jeśli to możliwe).\n",
    "Uruchomiona na iteratorze zwraca ten sam iterator.\n",
    "Nie ma standardowej opcji resetowania iteratora → iteratory są jednoobiegowe.\n"
   ]
  },
  {
   "cell_type": "markdown",
   "metadata": {
    "slideshow": {
     "slide_type": "subslide"
    }
   },
   "source": [
    "## Pełny przykład"
   ]
  },
  {
   "cell_type": "code",
   "execution_count": 141,
   "metadata": {
    "slideshow": {
     "slide_type": "subslide"
    }
   },
   "outputs": [],
   "source": [
    "class MyDumbPerson:\n",
    "    def __init__(self, name, surname, age, city):\n",
    "        self.name = name\n",
    "        self.surname = surname\n",
    "        self.age = age\n",
    "        self.city = city        \n",
    "    \n",
    "    def __iter__(self):\n",
    "        return MyDumbIterator(self)\n",
    "    \n",
    "    \n",
    "class MyDumbIterator:\n",
    "    def __init__(self, person):\n",
    "        self.person = person\n",
    "        self.order = ('name', 'surname', 'age', 'city')\n",
    "        self.pos = 0\n",
    "    \n",
    "    def __iter__(self):\n",
    "        return self\n",
    "    \n",
    "    def __next__(self):\n",
    "        if self.pos < len(self.order):\n",
    "            val = getattr(self.person, self.order[self.pos])\n",
    "            self.pos += 1\n",
    "            return val\n",
    "        else:\n",
    "            raise StopIteration"
   ]
  },
  {
   "cell_type": "code",
   "execution_count": 144,
   "metadata": {
    "slideshow": {
     "slide_type": "subslide"
    }
   },
   "outputs": [
    {
     "name": "stdout",
     "output_type": "stream",
     "text": [
      "Jan\n",
      "Kos\n",
      "17\n",
      "Gdańsk\n"
     ]
    }
   ],
   "source": [
    "Janek = MyDumbPerson('Jan', 'Kos', '17', 'Gdańsk')\n",
    "for x in Janek:\n",
    "    print(x)"
   ]
  },
  {
   "cell_type": "code",
   "execution_count": 146,
   "metadata": {
    "slideshow": {
     "slide_type": "subslide"
    }
   },
   "outputs": [],
   "source": [
    "def my_dumb_person_generator(person):\n",
    "    yield person.name\n",
    "    yield person.surneme\n",
    "    yield person.age\n",
    "    yield person.city"
   ]
  },
  {
   "cell_type": "code",
   "execution_count": 9,
   "metadata": {
    "slideshow": {
     "slide_type": "subslide"
    }
   },
   "outputs": [
    {
     "ename": "NameError",
     "evalue": "name 'MyDumbPerson' is not defined",
     "output_type": "error",
     "traceback": [
      "\u001b[0;31m---------------------------------------------------------------------------\u001b[0m",
      "\u001b[0;31mNameError\u001b[0m                                 Traceback (most recent call last)",
      "\u001b[0;32m<ipython-input-9-7560d8149dd0>\u001b[0m in \u001b[0;36m<module>\u001b[0;34m()\u001b[0m\n\u001b[0;32m----> 1\u001b[0;31m \u001b[0mJanek\u001b[0m \u001b[0;34m=\u001b[0m \u001b[0mMyDumbPerson\u001b[0m\u001b[0;34m(\u001b[0m\u001b[0;34m'Jan'\u001b[0m\u001b[0;34m,\u001b[0m \u001b[0;34m'Kos'\u001b[0m\u001b[0;34m,\u001b[0m \u001b[0;34m'17'\u001b[0m\u001b[0;34m,\u001b[0m \u001b[0;34m'Gdańsk'\u001b[0m\u001b[0;34m)\u001b[0m\u001b[0;34m\u001b[0m\u001b[0m\n\u001b[0m\u001b[1;32m      2\u001b[0m \u001b[0;32mfor\u001b[0m \u001b[0mx\u001b[0m \u001b[0;32min\u001b[0m \u001b[0mJanek\u001b[0m\u001b[0;34m:\u001b[0m\u001b[0;34m\u001b[0m\u001b[0m\n\u001b[1;32m      3\u001b[0m     \u001b[0mprint\u001b[0m\u001b[0;34m(\u001b[0m\u001b[0mx\u001b[0m\u001b[0;34m)\u001b[0m\u001b[0;34m\u001b[0m\u001b[0m\n",
      "\u001b[0;31mNameError\u001b[0m: name 'MyDumbPerson' is not defined"
     ]
    }
   ],
   "source": [
    "Janek = MyDumbPerson('Jan', 'Kos', '17', 'Gdańsk')\n",
    "for x in Janek:\n",
    "    print(x)"
   ]
  },
  {
   "cell_type": "code",
   "execution_count": 11,
   "metadata": {
    "slideshow": {
     "slide_type": "subslide"
    }
   },
   "outputs": [],
   "source": [
    "class MyDumbPerson:\n",
    "    def __init__(self, name, surname, age, city):\n",
    "        self.name = name\n",
    "        self.surname = surname\n",
    "        self.age = age\n",
    "        self.city = city\n",
    "        self.order = ('name', 'surname', 'age', 'city')\n",
    "    \n",
    "    def __iter__(self):\n",
    "        pos = 0\n",
    "        while pos < len(self.order):\n",
    "            val = getattr(self, self.order[pos])\n",
    "            pos += 1\n",
    "            yield val"
   ]
  },
  {
   "cell_type": "code",
   "execution_count": 12,
   "metadata": {
    "slideshow": {
     "slide_type": "subslide"
    }
   },
   "outputs": [
    {
     "name": "stdout",
     "output_type": "stream",
     "text": [
      "Jan\n",
      "Kos\n",
      "17\n",
      "Gdańsk\n"
     ]
    }
   ],
   "source": [
    "Janek = MyDumbPerson('Jan', 'Kos', '17', 'Gdańsk')\n",
    "for x in Janek:\n",
    "    print(x)"
   ]
  },
  {
   "cell_type": "markdown",
   "metadata": {
    "slideshow": {
     "slide_type": "subslide"
    }
   },
   "source": [
    "Często napisanie generatora jest szybsze i łatwiejsze niż niapisanie własnego iteratora."
   ]
  },
  {
   "cell_type": "markdown",
   "metadata": {
    "slideshow": {
     "slide_type": "subslide"
    }
   },
   "source": [
    "## Podsumowanie\n",
    "* jeden obraz wart tysiąca słów: http://nvie.com/img/relationships.png\n",
    "* iterator - obiekt, po którym można iterować.\n",
    "* iterowanie - czynność pobierania kolejnej wartości z jakiegoś obiektu (w kolejności).\n",
    "* `next` - funkcja wbudowana realizująca czynność iterowania.\n",
    "* `__next__` - metoda specjalna, uruchamiana na obiekcie przez `next`\n",
    "* `iter` - funkcja wbudowana - musi zwracać iterator. Wywołuje na obiekcie metodę `__iter__`.\n",
    "* `__iter__` - metoda specjalna, w przypadku obiektu kolekcji powinna zwrócic **nowy** iterator, w przypadku iteratora powinna zwrócić **ten sam** iterator.\n",
    "* `StopIteration` - specjalny wyjątek sygnalizujący \"koniec\" iteratora.\n",
    "* generator - standardowy sposób na tworzenie iteratorów.\n",
    "* `yield` - słowo kluczowe, jego użycie pozwala na użycie funkcji jako generatora."
   ]
  },
  {
   "cell_type": "markdown",
   "metadata": {
    "slideshow": {
     "slide_type": "subslide"
    }
   },
   "source": [
    "## linki dla spragnionych wiedzy\n",
    "* iteratory: https://docs.python.org/3/library/stdtypes.html#iterator-types\n",
    "* `__iter__`: https://docs.python.org/3/reference/datamodel.html#object.__iter__\n",
    "* generatory:\n",
    "    * https://docs.python.org/3/library/stdtypes.html#generator-types  \n",
    "    * https://docs.python.org/3/tutorial/classes.html#generators\n",
    "* yield: https://docs.python.org/3/reference/expressions.html#yieldexpr\n",
    "* next: https://docs.python.org/3/library/functions.html#next\n",
    "* `__next__`: https://docs.python.org/3/library/stdtypes.html#iterator.__next__\n",
    "* `StopIteration`: https://docs.python.org/3/library/exceptions.html#StopIteration"
   ]
  },
  {
   "cell_type": "markdown",
   "metadata": {
    "slideshow": {
     "slide_type": "subslide"
    }
   },
   "source": [
    "## Pytania do sali\n",
    "* Co to iterator?\n",
    "* Czym jest generator?\n",
    "* W jaki sposób tworzymy generator?\n",
    "* Jak przywrócić iterator do stanu pierwotnego?\n",
    "* Co robi `next`?\n",
    "* Do czego służy wyjątek `StopIteration`?\n",
    "* Czy iteratory/generatory zawsze muszą rzucać wyjątek `StopIteration`?\n",
    "* Czemu np `range` jest iteratorem w python3.6, a w python2.7 nie był?\n",
    "* Co zwróci `iter` uruchomione na liście?\n",
    "* Co zwróci `iter` uruchomione na wyniku poprzedniego pytania?"
   ]
  },
  {
   "cell_type": "code",
   "execution_count": 153,
   "metadata": {
    "slideshow": {
     "slide_type": "subslide"
    }
   },
   "outputs": [
    {
     "name": "stdout",
     "output_type": "stream",
     "text": [
      "size a: 48\n",
      "size b: 9000112\n",
      "187502.33333333334\n"
     ]
    }
   ],
   "source": [
    "import sys\n",
    "a = range(10**6)\n",
    "b = list(range(10**6))\n",
    "print('size a:', sys.getsizeof(a))\n",
    "print('size b:', sys.getsizeof(b))\n",
    "print(sys.getsizeof(b)/sys.getsizeof(a))"
   ]
  },
  {
   "cell_type": "markdown",
   "metadata": {
    "slideshow": {
     "slide_type": "slide"
    }
   },
   "source": [
    "# 3. Środowiska wirtualne"
   ]
  },
  {
   "cell_type": "markdown",
   "metadata": {
    "slideshow": {
     "slide_type": "subslide"
    }
   },
   "source": [
    "## Po co?"
   ]
  },
  {
   "cell_type": "markdown",
   "metadata": {
    "slideshow": {
     "slide_type": "subslide"
    }
   },
   "source": [
    "Lokalnie możemy więcej niż jeden projekt rozwijać. Te projekty mogą mieć sprzeczne zależności. Potrzebujemy osobnych środowisk dla każdego projektu. Maszyny wirtualne to za duży narzut. Python ma specjalny moduł służący separacji środowisk. Niezaśmiecanie głównej instalcji pythona też jest istotne - nie wiemy do czego będziemy go w przyszłości wykorzystywać."
   ]
  },
  {
   "cell_type": "markdown",
   "metadata": {
    "slideshow": {
     "slide_type": "subslide"
    }
   },
   "source": [
    "## Jak stworzyć?"
   ]
  },
  {
   "cell_type": "markdown",
   "metadata": {
    "slideshow": {
     "slide_type": "subslide"
    }
   },
   "source": [
    "1. Tworzymy katalog, w którym będziemy przechowywać środowisko wirtualne\n",
    "2. wchodzimy do włąśnie utworzonego katalogu\n",
    "3. `python3 -m venv PEŁNA_ŚCIEŻKA_DO_KATALOGU`"
   ]
  },
  {
   "cell_type": "markdown",
   "metadata": {
    "slideshow": {
     "slide_type": "subslide"
    }
   },
   "source": [
    "## Jak używać?"
   ]
  },
  {
   "cell_type": "markdown",
   "metadata": {
    "slideshow": {
     "slide_type": "subslide"
    }
   },
   "source": [
    "#### Windows\n",
    "`Scripts\\activate.bat`\n",
    "\n",
    "#### Linux\n",
    "`source bin/activate`"
   ]
  },
  {
   "cell_type": "markdown",
   "metadata": {
    "slideshow": {
     "slide_type": "subslide"
    }
   },
   "source": [
    "## Dokładniejsze opisy\n",
    "* wbudowany w pythona: https://docs.python.org/3.6/library/venv.html (ten staje się dominujący)\n",
    "* zewnętrzny virtualenv: https://virtualenv.pypa.io/en/stable/ (był super, ale ostatnio niekiedy płata figle)"
   ]
  },
  {
   "cell_type": "markdown",
   "metadata": {
    "slideshow": {
     "slide_type": "subslide"
    }
   },
   "source": [
    "## Pytania do sali\n",
    "* Po co jest możliwość tworzenia środowisk wirtualnych?\n",
    "* Jak stworzyć środowisko wirtualne?\n",
    "* Jak użyć środowiska wirtualnego?\n",
    "* Czy jest limit na ilość środowisk wirtualnych?\n",
    "* W jaki sposób instaluje się dodatkowe pakiety?\n",
    "* Jak sprawdzić, które pakiety i w jakiej wersji mamy już zainstalowane?"
   ]
  },
  {
   "cell_type": "markdown",
   "metadata": {
    "slideshow": {
     "slide_type": "subslide"
    }
   },
   "source": [
    "instalacja nowego pakietu: `pip install requests`"
   ]
  },
  {
   "cell_type": "markdown",
   "metadata": {
    "slideshow": {
     "slide_type": "subslide"
    }
   },
   "source": [
    "sprawdzenie wersji pakietów: `pip freeze`"
   ]
  },
  {
   "cell_type": "markdown",
   "metadata": {
    "slideshow": {
     "slide_type": "subslide"
    }
   },
   "source": [
    "# 4. Requests"
   ]
  },
  {
   "cell_type": "markdown",
   "metadata": {
    "slideshow": {
     "slide_type": "subslide"
    }
   },
   "source": [
    "dokumentacja: http://docs.python-requests.org/en/master/"
   ]
  },
  {
   "cell_type": "markdown",
   "metadata": {
    "slideshow": {
     "slide_type": "subslide"
    }
   },
   "source": [
    "## Z czego składa się URL"
   ]
  },
  {
   "cell_type": "markdown",
   "metadata": {
    "slideshow": {
     "slide_type": "subslide"
    }
   },
   "source": [
    "### **scheme:[//[user:password@]host[:port]][/]path[?query][#fragment]**\n",
    "wikipedia: https://en.wikipedia.org/wiki/Uniform_Resource_Locator"
   ]
  },
  {
   "cell_type": "markdown",
   "metadata": {
    "slideshow": {
     "slide_type": "subslide"
    }
   },
   "source": [
    "## Składowe żądania"
   ]
  },
  {
   "cell_type": "markdown",
   "metadata": {
    "slideshow": {
     "slide_type": "subslide"
    }
   },
   "source": [
    "### Nagłówki"
   ]
  },
  {
   "cell_type": "markdown",
   "metadata": {
    "slideshow": {
     "slide_type": "subslide"
    }
   },
   "source": [
    "### Metoda: GET/POST/PUT/PATCH/DELETE"
   ]
  },
  {
   "cell_type": "markdown",
   "metadata": {
    "slideshow": {
     "slide_type": "subslide"
    }
   },
   "source": [
    "### Payload"
   ]
  },
  {
   "cell_type": "markdown",
   "metadata": {
    "slideshow": {
     "slide_type": "subslide"
    }
   },
   "source": [
    "## Połączenie z prawdziywym zewnętrznym api"
   ]
  },
  {
   "cell_type": "markdown",
   "metadata": {
    "slideshow": {
     "slide_type": "subslide"
    }
   },
   "source": [
    "### Co nam wolno?"
   ]
  },
  {
   "cell_type": "markdown",
   "metadata": {
    "slideshow": {
     "slide_type": "subslide"
    }
   },
   "source": [
    "#### robots.txt\n",
    "* opis \"standardu\": http://www.robotstxt.org/\n",
    "* przykładowe: http://www.nbp.pl/robots.txt"
   ]
  },
  {
   "cell_type": "markdown",
   "metadata": {
    "slideshow": {
     "slide_type": "subslide"
    }
   },
   "source": [
    "Będziemy pracować na: http://api.nbp.pl/"
   ]
  },
  {
   "cell_type": "markdown",
   "metadata": {
    "slideshow": {
     "slide_type": "subslide"
    }
   },
   "source": [
    "### Pobranie aktualnej tabeli A kursów walut"
   ]
  },
  {
   "cell_type": "code",
   "execution_count": 16,
   "metadata": {
    "slideshow": {
     "slide_type": "subslide"
    }
   },
   "outputs": [
    {
     "name": "stdout",
     "output_type": "stream",
     "text": [
      "<Response [200]>\n"
     ]
    }
   ],
   "source": [
    "import requests\n",
    "\n",
    "url = 'http://api.nbp.pl/api/exchangerates/tables/A'\n",
    "r = requests.get(url=url)\n",
    "print(r)"
   ]
  },
  {
   "cell_type": "code",
   "execution_count": 17,
   "metadata": {
    "slideshow": {
     "slide_type": "subslide"
    }
   },
   "outputs": [
    {
     "name": "stdout",
     "output_type": "stream",
     "text": [
      "['__attrs__', '__bool__', '__class__', '__delattr__', '__dict__', '__dir__', '__doc__', '__enter__', '__eq__', '__exit__', '__format__', '__ge__', '__getattribute__', '__getstate__', '__gt__', '__hash__', '__init__', '__iter__', '__le__', '__lt__', '__module__', '__ne__', '__new__', '__nonzero__', '__reduce__', '__reduce_ex__', '__repr__', '__setattr__', '__setstate__', '__sizeof__', '__str__', '__subclasshook__', '__weakref__', '_content', '_content_consumed', '_next', 'apparent_encoding', 'close', 'connection', 'content', 'cookies', 'elapsed', 'encoding', 'headers', 'history', 'is_permanent_redirect', 'is_redirect', 'iter_content', 'iter_lines', 'json', 'links', 'next', 'ok', 'raise_for_status', 'raw', 'reason', 'request', 'status_code', 'text', 'url']\n"
     ]
    }
   ],
   "source": [
    "print(dir(r))"
   ]
  },
  {
   "cell_type": "code",
   "execution_count": 26,
   "metadata": {
    "slideshow": {
     "slide_type": "subslide"
    }
   },
   "outputs": [
    {
     "name": "stdout",
     "output_type": "stream",
     "text": [
      "headers\n",
      "{'Content-Length': '845', 'Content-Encoding': 'gzip', 'Expires': '-1', 'Content-Type': 'application/json; charset=utf-8', 'Cache-Control': 'no-cache', 'ETag': '\"0974nqM+1DvWmkJxsI/+v8h5D9qaFz3CTMJzvmqH9VE=\"', 'Pragma': 'no-cache', 'Date': 'Tue, 21 Nov 2017 14:08:28 GMT'}\n",
      "--------------------------------------------------------------------------------\n",
      "raw\n",
      "<urllib3.response.HTTPResponse object at 0x7ff1c78a6c88>\n",
      "--------------------------------------------------------------------------------\n",
      "status_code\n",
      "200\n",
      "--------------------------------------------------------------------------------\n",
      "ok\n",
      "True\n",
      "--------------------------------------------------------------------------------\n",
      "request\n",
      "<PreparedRequest [GET]>\n",
      "--------------------------------------------------------------------------------\n",
      "url\n",
      "'http://api.nbp.pl/api/exchangerates/tables/A'\n",
      "--------------------------------------------------------------------------------\n",
      "content\n",
      "(b'[{\"table\":\"A\",\"no\":\"225/A/NBP/2017\",\"effectiveDate\":\"2017-11-21\",\"rates\":[{\"'\n",
      " b'currency\":\"bat (Tajlandia)\",\"code\":\"THB\",\"mid\":0.1101},{\"currency\":\"dolar am'\n",
      " b'eryka\\xc5\\x84ski\",\"code\":\"USD\",\"mid\":3.6060},{\"currency\":\"dolar australijs'\n",
      " b'ki\",\"code\":\"AUD\",\"mid\":2.7282},{\"currency\":\"dolar Hongkongu\",\"code\":\"HKD\",\"m'\n",
      " b'id\":0.4616},{\"currency\":\"dolar kanadyjski\",\"code\":\"CAD\",\"mid\":2.8153},{\"curr'\n",
      " b'ency\":\"dolar nowozelandzki\",\"code\":\"NZD\",\"mid\":2.4570},{\"currency\":\"dolar si'\n",
      " b'ngapurski\",\"code\":\"SGD\",\"mid\":2.6606},{\"currency\":\"euro\",\"code\":\"EUR\",\"mid\":'\n",
      " b'4.2296},{\"currency\":\"forint (W\\xc4\\x99gry)\",\"code\":\"HUF\",\"mid\":0.013531},{'\n",
      " b'\"currency\":\"frank szwajcarski\",\"code\":\"CHF\",\"mid\":3.6313},{\"currency\":\"funt '\n",
      " b'szterling\",\"code\":\"GBP\",\"mid\":4.7738},{\"currency\":\"hrywna (Ukraina)\",\"code\":'\n",
      " b'\"UAH\",\"mid\":0.1362},{\"currency\":\"jen (Japonia)\",\"code\":\"JPY\",\"mid\":0.032075}'\n",
      " b',{\"currency\":\"korona czeska\",\"code\":\"CZK\",\"mid\":0.1656},{\"currency\":\"korona '\n",
      " b'du\\xc5\\x84ska\",\"code\":\"DKK\",\"mid\":0.5684},{\"currency\":\"korona islandzka\",\"'\n",
      " b'code\":\"ISK\",\"mid\":0.034754},{\"currency\":\"korona norweska\",\"code\":\"NOK\",\"mid\"'\n",
      " b':0.4358},{\"currency\":\"korona szwedzka\",\"code\":\"SEK\",\"mid\":0.4238},{\"currency'\n",
      " b'\":\"kuna (Chorwacja)\",\"code\":\"HRK\",\"mid\":0.5591},{\"currency\":\"lej rum'\n",
      " b'u\\xc5\\x84ski\",\"code\":\"RON\",\"mid\":0.9098},{\"currency\":\"lew (Bu\\xc5\\x82garia)\"'\n",
      " b',\"code\":\"BGN\",\"mid\":2.1626},{\"currency\":\"lira turecka\",\"code\":\"TRY\",\"mid\":0.'\n",
      " b'9121},{\"currency\":\"nowy izraelski szekel\",\"code\":\"ILS\",\"mid\":1.0233},{\"curre'\n",
      " b'ncy\":\"peso chilijskie\",\"code\":\"CLP\",\"mid\":0.005664},{\"currency\":\"peso filipi'\n",
      " b'\\xc5\\x84skie\",\"code\":\"PHP\",\"mid\":0.0712},{\"currency\":\"peso meksyka\\xc5\\x84sk'\n",
      " b'ie\",\"code\":\"MXN\",\"mid\":0.1898},{\"currency\":\"rand (Republika Po\\xc5\\x82udni'\n",
      " b'owej Afryki)\",\"code\":\"ZAR\",\"mid\":0.2559},{\"currency\":\"real (Brazylia)\",\"code'\n",
      " b'\":\"BRL\",\"mid\":1.1070},{\"currency\":\"ringgit (Malezja)\",\"code\":\"MYR\",\"mid\":0.8'\n",
      " b'710},{\"currency\":\"rubel rosyjski\",\"code\":\"RUB\",\"mid\":0.0607},{\"currency\":\"ru'\n",
      " b'pia indonezyjska\",\"code\":\"IDR\",\"mid\":0.00026645},{\"currency\":\"rupia indyjska'\n",
      " b'\",\"code\":\"INR\",\"mid\":0.055547},{\"currency\":\"won po\\xc5\\x82udniowokorea'\n",
      " b'\\xc5\\x84ski\",\"code\":\"KRW\",\"mid\":0.003314},{\"currency\":\"yuan renminbi (Chin'\n",
      " b'y)\",\"code\":\"CNY\",\"mid\":0.5435},{\"currency\":\"SDR (MFW)\",\"code\":\"XDR\",\"mid\":5.'\n",
      " b'0655}]}]')\n",
      "--------------------------------------------------------------------------------\n",
      "text\n",
      "('[{\"table\":\"A\",\"no\":\"225/A/NBP/2017\",\"effectiveDate\":\"2017-11-21\",\"rates\":[{\"currency\":\"bat '\n",
      " '(Tajlandia)\",\"code\":\"THB\",\"mid\":0.1101},{\"currency\":\"dolar '\n",
      " 'amerykański\",\"code\":\"USD\",\"mid\":3.6060},{\"currency\":\"dolar '\n",
      " 'australijski\",\"code\":\"AUD\",\"mid\":2.7282},{\"currency\":\"dolar '\n",
      " 'Hongkongu\",\"code\":\"HKD\",\"mid\":0.4616},{\"currency\":\"dolar '\n",
      " 'kanadyjski\",\"code\":\"CAD\",\"mid\":2.8153},{\"currency\":\"dolar '\n",
      " 'nowozelandzki\",\"code\":\"NZD\",\"mid\":2.4570},{\"currency\":\"dolar '\n",
      " 'singapurski\",\"code\":\"SGD\",\"mid\":2.6606},{\"currency\":\"euro\",\"code\":\"EUR\",\"mid\":4.2296},{\"currency\":\"forint '\n",
      " '(Węgry)\",\"code\":\"HUF\",\"mid\":0.013531},{\"currency\":\"frank '\n",
      " 'szwajcarski\",\"code\":\"CHF\",\"mid\":3.6313},{\"currency\":\"funt '\n",
      " 'szterling\",\"code\":\"GBP\",\"mid\":4.7738},{\"currency\":\"hrywna '\n",
      " '(Ukraina)\",\"code\":\"UAH\",\"mid\":0.1362},{\"currency\":\"jen '\n",
      " '(Japonia)\",\"code\":\"JPY\",\"mid\":0.032075},{\"currency\":\"korona '\n",
      " 'czeska\",\"code\":\"CZK\",\"mid\":0.1656},{\"currency\":\"korona '\n",
      " 'duńska\",\"code\":\"DKK\",\"mid\":0.5684},{\"currency\":\"korona '\n",
      " 'islandzka\",\"code\":\"ISK\",\"mid\":0.034754},{\"currency\":\"korona '\n",
      " 'norweska\",\"code\":\"NOK\",\"mid\":0.4358},{\"currency\":\"korona '\n",
      " 'szwedzka\",\"code\":\"SEK\",\"mid\":0.4238},{\"currency\":\"kuna '\n",
      " '(Chorwacja)\",\"code\":\"HRK\",\"mid\":0.5591},{\"currency\":\"lej '\n",
      " 'rumuński\",\"code\":\"RON\",\"mid\":0.9098},{\"currency\":\"lew '\n",
      " '(Bułgaria)\",\"code\":\"BGN\",\"mid\":2.1626},{\"currency\":\"lira '\n",
      " 'turecka\",\"code\":\"TRY\",\"mid\":0.9121},{\"currency\":\"nowy izraelski '\n",
      " 'szekel\",\"code\":\"ILS\",\"mid\":1.0233},{\"currency\":\"peso '\n",
      " 'chilijskie\",\"code\":\"CLP\",\"mid\":0.005664},{\"currency\":\"peso '\n",
      " 'filipińskie\",\"code\":\"PHP\",\"mid\":0.0712},{\"currency\":\"peso '\n",
      " 'meksykańskie\",\"code\":\"MXN\",\"mid\":0.1898},{\"currency\":\"rand (Republika '\n",
      " 'Południowej Afryki)\",\"code\":\"ZAR\",\"mid\":0.2559},{\"currency\":\"real '\n",
      " '(Brazylia)\",\"code\":\"BRL\",\"mid\":1.1070},{\"currency\":\"ringgit '\n",
      " '(Malezja)\",\"code\":\"MYR\",\"mid\":0.8710},{\"currency\":\"rubel '\n",
      " 'rosyjski\",\"code\":\"RUB\",\"mid\":0.0607},{\"currency\":\"rupia '\n",
      " 'indonezyjska\",\"code\":\"IDR\",\"mid\":0.00026645},{\"currency\":\"rupia '\n",
      " 'indyjska\",\"code\":\"INR\",\"mid\":0.055547},{\"currency\":\"won '\n",
      " 'południowokoreański\",\"code\":\"KRW\",\"mid\":0.003314},{\"currency\":\"yuan renminbi '\n",
      " '(Chiny)\",\"code\":\"CNY\",\"mid\":0.5435},{\"currency\":\"SDR '\n",
      " '(MFW)\",\"code\":\"XDR\",\"mid\":5.0655}]}]')\n",
      "--------------------------------------------------------------------------------\n",
      "json\n",
      "<bound method Response.json of <Response [200]>>\n",
      "--------------------------------------------------------------------------------\n",
      "json\n",
      "[{'effectiveDate': '2017-11-21',\n",
      "  'no': '225/A/NBP/2017',\n",
      "  'rates': [{'code': 'THB', 'currency': 'bat (Tajlandia)', 'mid': 0.1101},\n",
      "            {'code': 'USD', 'currency': 'dolar amerykański', 'mid': 3.606},\n",
      "            {'code': 'AUD', 'currency': 'dolar australijski', 'mid': 2.7282},\n",
      "            {'code': 'HKD', 'currency': 'dolar Hongkongu', 'mid': 0.4616},\n",
      "            {'code': 'CAD', 'currency': 'dolar kanadyjski', 'mid': 2.8153},\n",
      "            {'code': 'NZD', 'currency': 'dolar nowozelandzki', 'mid': 2.457},\n",
      "            {'code': 'SGD', 'currency': 'dolar singapurski', 'mid': 2.6606},\n",
      "            {'code': 'EUR', 'currency': 'euro', 'mid': 4.2296},\n",
      "            {'code': 'HUF', 'currency': 'forint (Węgry)', 'mid': 0.013531},\n",
      "            {'code': 'CHF', 'currency': 'frank szwajcarski', 'mid': 3.6313},\n",
      "            {'code': 'GBP', 'currency': 'funt szterling', 'mid': 4.7738},\n",
      "            {'code': 'UAH', 'currency': 'hrywna (Ukraina)', 'mid': 0.1362},\n",
      "            {'code': 'JPY', 'currency': 'jen (Japonia)', 'mid': 0.032075},\n",
      "            {'code': 'CZK', 'currency': 'korona czeska', 'mid': 0.1656},\n",
      "            {'code': 'DKK', 'currency': 'korona duńska', 'mid': 0.5684},\n",
      "            {'code': 'ISK', 'currency': 'korona islandzka', 'mid': 0.034754},\n",
      "            {'code': 'NOK', 'currency': 'korona norweska', 'mid': 0.4358},\n",
      "            {'code': 'SEK', 'currency': 'korona szwedzka', 'mid': 0.4238},\n",
      "            {'code': 'HRK', 'currency': 'kuna (Chorwacja)', 'mid': 0.5591},\n",
      "            {'code': 'RON', 'currency': 'lej rumuński', 'mid': 0.9098},\n",
      "            {'code': 'BGN', 'currency': 'lew (Bułgaria)', 'mid': 2.1626},\n",
      "            {'code': 'TRY', 'currency': 'lira turecka', 'mid': 0.9121},\n",
      "            {'code': 'ILS', 'currency': 'nowy izraelski szekel', 'mid': 1.0233},\n",
      "            {'code': 'CLP', 'currency': 'peso chilijskie', 'mid': 0.005664},\n",
      "            {'code': 'PHP', 'currency': 'peso filipińskie', 'mid': 0.0712},\n",
      "            {'code': 'MXN', 'currency': 'peso meksykańskie', 'mid': 0.1898},\n",
      "            {'code': 'ZAR',\n",
      "             'currency': 'rand (Republika Południowej Afryki)',\n",
      "             'mid': 0.2559},\n",
      "            {'code': 'BRL', 'currency': 'real (Brazylia)', 'mid': 1.107},\n",
      "            {'code': 'MYR', 'currency': 'ringgit (Malezja)', 'mid': 0.871},\n",
      "            {'code': 'RUB', 'currency': 'rubel rosyjski', 'mid': 0.0607},\n",
      "            {'code': 'IDR',\n",
      "             'currency': 'rupia indonezyjska',\n",
      "             'mid': 0.00026645},\n",
      "            {'code': 'INR', 'currency': 'rupia indyjska', 'mid': 0.055547},\n",
      "            {'code': 'KRW',\n",
      "             'currency': 'won południowokoreański',\n",
      "             'mid': 0.003314},\n",
      "            {'code': 'CNY', 'currency': 'yuan renminbi (Chiny)', 'mid': 0.5435},\n",
      "            {'code': 'XDR', 'currency': 'SDR (MFW)', 'mid': 5.0655}],\n",
      "  'table': 'A'}]\n"
     ]
    }
   ],
   "source": [
    "from pprint import pprint\n",
    "order = ('headers', 'raw', 'status_code', 'ok', 'request', 'url', 'content', 'text', 'json')\n",
    "for attr in order:\n",
    "    print(attr)\n",
    "    pprint(getattr(r, attr))\n",
    "    print(80 * '-')\n",
    "print('json')\n",
    "pprint(r.json())"
   ]
  },
  {
   "cell_type": "code",
   "execution_count": 27,
   "metadata": {
    "slideshow": {
     "slide_type": "subslide"
    }
   },
   "outputs": [
    {
     "name": "stdout",
     "output_type": "stream",
     "text": [
      "type(x): <class 'list'>\n"
     ]
    }
   ],
   "source": [
    "x = r.json()\n",
    "print('type(x):', type(x))"
   ]
  }
 ],
 "metadata": {
  "celltoolbar": "Slideshow",
  "kernelspec": {
   "display_name": "Python 3",
   "language": "python",
   "name": "python3"
  },
  "language_info": {
   "codemirror_mode": {
    "name": "ipython",
    "version": 3
   },
   "file_extension": ".py",
   "mimetype": "text/x-python",
   "name": "python",
   "nbconvert_exporter": "python",
   "pygments_lexer": "ipython3",
   "version": "3.5.2"
  }
 },
 "nbformat": 4,
 "nbformat_minor": 2
}
