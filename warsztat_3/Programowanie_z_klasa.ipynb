{
 "cells": [
  {
   "cell_type": "markdown",
   "metadata": {
    "slideshow": {
     "slide_type": "slide"
    }
   },
   "source": [
    "# Programowanie z klasą\n",
    "## Marcin Jaroszewski\n",
    "### 07.XI.2017, Python4Beginners"
   ]
  },
  {
   "cell_type": "markdown",
   "metadata": {
    "slideshow": {
     "slide_type": "slide"
    }
   },
   "source": [
    "## 1. Po co komu klasy"
   ]
  },
  {
   "cell_type": "markdown",
   "metadata": {
    "slideshow": {
     "slide_type": "subslide"
    }
   },
   "source": [
    "### A long time ago in the Milky Way Galaxy\n",
    "Nie było klas.  \n",
    "Programy składały się z danych (zmienne, tablice, struktury) i z funkcji.  \n",
    "Tworzenie rozbudowanych programów okazało się trudne.  \n",
    "Ciężko było utrzymać reżim podziału na dane i funkcje je obrabiające.  \n",
    "Bardzo łatwo było użyć nieodpowiedniej funkcji do danych.  "
   ]
  },
  {
   "cell_type": "markdown",
   "metadata": {
    "slideshow": {
     "slide_type": "subslide"
    }
   },
   "source": [
    "### Back to the future\n",
    "Ludzie próbowali rozwiązac problem programów/projektów uginających sie pod swym rozmiarem.  \n",
    "Jednym z pomysłów było coś co zostało nazwane Programowaniem Zorientowanym Obiektowo.  \n",
    "Po ang. Object Oriented Programming (**OOP**)."
   ]
  },
  {
   "cell_type": "markdown",
   "metadata": {
    "slideshow": {
     "slide_type": "subslide"
    }
   },
   "source": [
    "### Co daje OOP\n",
    "Ogólnie podział kodu źródłowego.  \n",
    "Wprowadza przestrzenie nazw.   \n",
    "Połączenie danych i operacji w klasy.  \n",
    "Dzięki tym usprawnieniom tworzenie większych programów stało się łatwiejsze.  \n",
    "Częstotliwość użycia metody Copiego-Pasty też się zmniejszyła. (powinna)"
   ]
  },
  {
   "cell_type": "markdown",
   "metadata": {
    "slideshow": {
     "slide_type": "subslide"
    }
   },
   "source": [
    "### There is no silver bullet\n",
    "Po początkowym entuzjaźmie okazało się, że OOP nie jest łatwe!  \n",
    "Rozwiązuje część problemów.  \n",
    "Ale dokłada swoje np: dziedziczenie (wielokrotne, długie łancuchy, ...).  \n",
    "Przede wszystkim jednak wciąż **trzeba myśleć**."
   ]
  },
  {
   "cell_type": "markdown",
   "metadata": {
    "slideshow": {
     "slide_type": "slide"
    }
   },
   "source": [
    "## 1. Ogólne pojęcie klasy"
   ]
  },
  {
   "cell_type": "markdown",
   "metadata": {
    "slideshow": {
     "slide_type": "subslide"
    }
   },
   "source": [
    "Klasa to złączenie danych i funkcjonalności w jeden obiekt.  \n",
    "Klasy są \"uznawane\" za rzeczowniki.  \n",
    "Funkcje są \"uznawane\" za czasowniki.  "
   ]
  },
  {
   "cell_type": "markdown",
   "metadata": {
    "slideshow": {
     "slide_type": "subslide"
    }
   },
   "source": [
    "Stworzenie nowej klasy tworzy nowy **typ**.  \n",
    "To umożliwia tworzenie **instancji** tego typu"
   ]
  },
  {
   "cell_type": "markdown",
   "metadata": {
    "slideshow": {
     "slide_type": "subslide"
    }
   },
   "source": [
    "Klasy są definicją (\"przepisem\") sposobu w jaki instancje powninny być tworzone."
   ]
  },
  {
   "cell_type": "markdown",
   "metadata": {
    "slideshow": {
     "slide_type": "subslide"
    }
   },
   "source": [
    "Ogólne właściwości klas w python:\n",
    "- metody i pola klas/instancji są **publiczne** (jak wszystko w python)\n",
    "- funkcje są **virtualne** co znaczy, że odwołania są rozwiązywane w runtime\n",
    "- można dziedziczyć po typach wbudowanych\n",
    "- operatory mogą być nadpisywane\n",
    "- klasy są obiektami\n",
    "- instancje są obiektami"
   ]
  },
  {
   "cell_type": "markdown",
   "metadata": {
    "slideshow": {
     "slide_type": "subslide"
    }
   },
   "source": [
    "Więcej informacji:\n",
    "* https://docs.python.org/3/tutorial/classes.html\n",
    "* https://en.wikipedia.org/wiki/Virtual_function\n",
    "* https://en.wikipedia.org/wiki/Polymorphism_(computer_science)\n",
    "* https://en.wikipedia.org/wiki/Method_(computer_programming)\n",
    "* https://www.digitalocean.com/community/tutorials/how-to-apply-polymorphism-to-classes-in-python-3\n",
    "* https://www.python.org/download/releases/2.3/mro/"
   ]
  },
  {
   "cell_type": "markdown",
   "metadata": {
    "slideshow": {
     "slide_type": "subslide"
    }
   },
   "source": [
    "### Pytania do sali\n",
    "- Czym jest metoda?\n",
    "- Czym jest polimorfizm?\n",
    "- Czy polimorfizm jest dostępny w Python?\n",
    "- Czym jest \"duck typing\"?"
   ]
  },
  {
   "cell_type": "markdown",
   "metadata": {
    "slideshow": {
     "slide_type": "slide"
    }
   },
   "source": [
    "## 2. Przestrzeń nazw"
   ]
  },
  {
   "cell_type": "markdown",
   "metadata": {
    "slideshow": {
     "slide_type": "subslide"
    }
   },
   "source": [
    "#### Pytanie z zajęć nr 2"
   ]
  },
  {
   "cell_type": "code",
   "execution_count": 47,
   "metadata": {
    "slideshow": {
     "slide_type": "subslide"
    }
   },
   "outputs": [
    {
     "ename": "UnboundLocalError",
     "evalue": "local variable 'n' referenced before assignment",
     "output_type": "error",
     "traceback": [
      "\u001b[0;31m---------------------------------------------------------------------------\u001b[0m",
      "\u001b[0;31mUnboundLocalError\u001b[0m                         Traceback (most recent call last)",
      "\u001b[0;32m<ipython-input-47-751e10c330fc>\u001b[0m in \u001b[0;36m<module>\u001b[0;34m()\u001b[0m\n\u001b[1;32m      5\u001b[0m     \u001b[0mn\u001b[0m \u001b[0;34m=\u001b[0m \u001b[0;36m200\u001b[0m\u001b[0;34m\u001b[0m\u001b[0m\n\u001b[1;32m      6\u001b[0m \u001b[0;34m\u001b[0m\u001b[0m\n\u001b[0;32m----> 7\u001b[0;31m \u001b[0mchange_1\u001b[0m\u001b[0;34m(\u001b[0m\u001b[0;34m)\u001b[0m\u001b[0;34m\u001b[0m\u001b[0m\n\u001b[0m",
      "\u001b[0;32m<ipython-input-47-751e10c330fc>\u001b[0m in \u001b[0;36mchange_1\u001b[0;34m()\u001b[0m\n\u001b[1;32m      2\u001b[0m \u001b[0mn\u001b[0m \u001b[0;34m=\u001b[0m \u001b[0;36m100\u001b[0m\u001b[0;34m\u001b[0m\u001b[0m\n\u001b[1;32m      3\u001b[0m \u001b[0;32mdef\u001b[0m \u001b[0mchange_1\u001b[0m\u001b[0;34m(\u001b[0m\u001b[0;34m)\u001b[0m\u001b[0;34m:\u001b[0m\u001b[0;34m\u001b[0m\u001b[0m\n\u001b[0;32m----> 4\u001b[0;31m     \u001b[0mprint\u001b[0m\u001b[0;34m(\u001b[0m\u001b[0mn\u001b[0m\u001b[0;34m)\u001b[0m\u001b[0;34m\u001b[0m\u001b[0m\n\u001b[0m\u001b[1;32m      5\u001b[0m     \u001b[0mn\u001b[0m \u001b[0;34m=\u001b[0m \u001b[0;36m200\u001b[0m\u001b[0;34m\u001b[0m\u001b[0m\n\u001b[1;32m      6\u001b[0m \u001b[0;34m\u001b[0m\u001b[0m\n",
      "\u001b[0;31mUnboundLocalError\u001b[0m: local variable 'n' referenced before assignment"
     ]
    }
   ],
   "source": [
    "# dlaczego ten kod rzuca wyjątkiem?\n",
    "n = 100\n",
    "def change_1():\n",
    "    print(n)\n",
    "    n = 200\n",
    "\n",
    "change_1()"
   ]
  },
  {
   "cell_type": "code",
   "execution_count": 48,
   "metadata": {
    "slideshow": {
     "slide_type": "subslide"
    }
   },
   "outputs": [
    {
     "name": "stdout",
     "output_type": "stream",
     "text": [
      "100\n"
     ]
    }
   ],
   "source": [
    "# a ten nie?\n",
    "n = 100\n",
    "def change_2():\n",
    "    print(n)\n",
    "\n",
    "change_2()"
   ]
  },
  {
   "cell_type": "code",
   "execution_count": 49,
   "metadata": {
    "slideshow": {
     "slide_type": "subslide"
    }
   },
   "outputs": [
    {
     "name": "stdout",
     "output_type": "stream",
     "text": [
      "200\n"
     ]
    }
   ],
   "source": [
    "# ten też nie\n",
    "n = 100\n",
    "def change_3():\n",
    "    n = 200\n",
    "    print(n)\n",
    "    \n",
    "change_3()"
   ]
  },
  {
   "cell_type": "markdown",
   "metadata": {
    "slideshow": {
     "slide_type": "subslide"
    }
   },
   "source": [
    "Odpowiedź \"dokumentacyjna\": \n",
    "* https://docs.python.org/3/faq/programming.html#why-am-i-getting-an-unboundlocalerror-when-the-variable-has-a-value\n",
    "* https://docs.python.org/3/reference/executionmodel.html#naming-and-binding"
   ]
  },
  {
   "cell_type": "code",
   "execution_count": 50,
   "metadata": {
    "slideshow": {
     "slide_type": "subslide"
    }
   },
   "outputs": [
    {
     "name": "stdout",
     "output_type": "stream",
     "text": [
      "change_1\n",
      "  4           0 LOAD_GLOBAL              0 (print)\n",
      "              3 LOAD_FAST                0 (n)\n",
      "              6 CALL_FUNCTION            1 (1 positional, 0 keyword pair)\n",
      "              9 POP_TOP\n",
      "\n",
      "  5          10 LOAD_CONST               1 (200)\n",
      "             13 STORE_FAST               0 (n)\n",
      "             16 LOAD_CONST               0 (None)\n",
      "             19 RETURN_VALUE\n",
      "None\n"
     ]
    }
   ],
   "source": [
    "# odpowiedź cześciowa w kodzie:\n",
    "from dis import dis\n",
    "print('change_1')\n",
    "print(dis(change_1))"
   ]
  },
  {
   "cell_type": "code",
   "execution_count": 51,
   "metadata": {
    "slideshow": {
     "slide_type": "subslide"
    }
   },
   "outputs": [
    {
     "name": "stdout",
     "output_type": "stream",
     "text": [
      "change_2\n",
      "  4           0 LOAD_GLOBAL              0 (print)\n",
      "              3 LOAD_GLOBAL              1 (n)\n",
      "              6 CALL_FUNCTION            1 (1 positional, 0 keyword pair)\n",
      "              9 POP_TOP\n",
      "             10 LOAD_CONST               0 (None)\n",
      "             13 RETURN_VALUE\n",
      "None\n"
     ]
    }
   ],
   "source": [
    "# odpowiedź cześciowa w kodzie:\n",
    "from dis import dis\n",
    "print('change_2')\n",
    "print(dis(change_2))"
   ]
  },
  {
   "cell_type": "markdown",
   "metadata": {
    "slideshow": {
     "slide_type": "subslide"
    }
   },
   "source": [
    "Czyli w `change_1` zostało użyte `LOAD_FAST` do załadowania `n`.  \n",
    "A w `change_2` zostało użyte `LOAD_GLOBAL` do załoadowania `n`.  \n",
    "* https://docs.python.org/3/library/dis.html#opcode-LOAD_GLOBAL\n",
    "* https://docs.python.org/3/library/dis.html#opcode-LOAD_FAST"
   ]
  },
  {
   "cell_type": "markdown",
   "metadata": {
    "slideshow": {
     "slide_type": "subslide"
    }
   },
   "source": [
    "Więcej informacji na temat zasięgu zmiennych w python:\n",
    "* https://stackoverflow.com/questions/291978/short-description-of-the-scoping-rules"
   ]
  },
  {
   "cell_type": "markdown",
   "metadata": {
    "slideshow": {
     "slide_type": "subslide"
    }
   },
   "source": [
    "#### Pytanie z zajęć nr 1"
   ]
  },
  {
   "cell_type": "code",
   "execution_count": 52,
   "metadata": {
    "slideshow": {
     "slide_type": "subslide"
    }
   },
   "outputs": [
    {
     "name": "stdout",
     "output_type": "stream",
     "text": [
      "  2           0 LOAD_FAST                0 (a)\n",
      "              3 LOAD_FAST                1 (b)\n",
      "              6 BINARY_TRUE_DIVIDE\n",
      "              7 RETURN_VALUE\n",
      "None\n",
      "  5           0 LOAD_FAST                0 (c)\n",
      "              3 LOAD_FAST                1 (d)\n",
      "              6 BINARY_FLOOR_DIVIDE\n",
      "              7 RETURN_VALUE\n",
      "None\n"
     ]
    }
   ],
   "source": [
    "def dzielenie_1(a, b):\n",
    "    return a / b\n",
    "\n",
    "def dzielenie_2(c, d):\n",
    "    return c // d\n",
    "\n",
    "from dis import dis\n",
    "print(dis(dzielenie_1))\n",
    "print(dis(dzielenie_2))"
   ]
  },
  {
   "cell_type": "markdown",
   "metadata": {
    "slideshow": {
     "slide_type": "subslide"
    }
   },
   "source": [
    "### Pytania do sali\n",
    "* Czy python jest kompilowany?\n",
    "* Do czego służy moduł dis?\n",
    "* Czym jest LEGB?"
   ]
  },
  {
   "cell_type": "markdown",
   "metadata": {
    "slideshow": {
     "slide_type": "slide"
    }
   },
   "source": [
    "## 3. Klasy"
   ]
  },
  {
   "cell_type": "markdown",
   "metadata": {
    "slideshow": {
     "slide_type": "subslide"
    }
   },
   "source": [
    "Klasa definiuje jak instancje mają być tworzone."
   ]
  },
  {
   "cell_type": "markdown",
   "metadata": {
    "slideshow": {
     "slide_type": "subslide"
    }
   },
   "source": [
    "```python\n",
    "class MyFirst():\n",
    "    pass\n",
    "```"
   ]
  },
  {
   "cell_type": "markdown",
   "metadata": {
    "slideshow": {
     "slide_type": "subslide"
    }
   },
   "source": [
    "Definicja klas są wykonywane → obiekty klas (**class object**)"
   ]
  },
  {
   "cell_type": "markdown",
   "metadata": {
    "slideshow": {
     "slide_type": "subslide"
    }
   },
   "source": [
    "Na obiektach klas można wykonywać dwa typy opreacji:\n",
    "+ odwołanie do atrybutu (**attribute references**)\n",
    "+ instancjonowanie (**instantiation**)"
   ]
  },
  {
   "cell_type": "markdown",
   "metadata": {
    "slideshow": {
     "slide_type": "subslide"
    }
   },
   "source": [
    "Odwołanie do atrybutu w python wygląda następująco:\n",
    "```python\n",
    "obiekt.nazwa_atrybutu\n",
    "```\n",
    "\n",
    "Atrybutem moze być dowolny obiekt (funkcja, klasa, instancja, metoda, ...)"
   ]
  },
  {
   "cell_type": "markdown",
   "metadata": {
    "slideshow": {
     "slide_type": "subslide"
    }
   },
   "source": [
    "### Pytania do sali\n",
    "- Czy klasy są obiektami?\n",
    "- Czym są atrybuty?\n",
    "- W jaki sposób możemy się dostać do atrybutu?\n"
   ]
  },
  {
   "cell_type": "markdown",
   "metadata": {
    "slideshow": {
     "slide_type": "slide"
    }
   },
   "source": [
    "## 4. Instancje"
   ]
  },
  {
   "cell_type": "code",
   "execution_count": 53,
   "metadata": {
    "slideshow": {
     "slide_type": "subslide"
    }
   },
   "outputs": [
    {
     "name": "stdout",
     "output_type": "stream",
     "text": [
      "<class 'type'>\n",
      "<class '__main__.MyFirst'>\n"
     ]
    }
   ],
   "source": [
    "# tworzenie obiektu klasy\n",
    "class MyFirst():\n",
    "    pass\n",
    "\n",
    "print(type(MyFirst))\n",
    "\n",
    "# instancjonowanie\n",
    "pierwszy = MyFirst()\n",
    "print(type(pierwszy))"
   ]
  },
  {
   "cell_type": "markdown",
   "metadata": {
    "slideshow": {
     "slide_type": "subslide"
    }
   },
   "source": [
    "Instancjonowanie tworzy nowy \"pusty\" obiekt.\n",
    "Jeśli chcemy, żeby w instancja miała jakieś dane to powinniśmy użyć `__init__` - specjalna metoda.\n",
    "`__init__` zostanie zawołane przez mechanizm tworzący nowe instancje.\n",
    "Wywołanie jest jednorazowe i następuje tylko przy tworzeniu nowych instancji.\n",
    "`__init__` nie nest konstruktorem tylko inicjalizatorem.\n",
    "Konstruktorem jest `__new__`, ale zazwyczaj `__init__` wystarcza."
   ]
  },
  {
   "cell_type": "code",
   "execution_count": 54,
   "metadata": {
    "slideshow": {
     "slide_type": "subslide"
    }
   },
   "outputs": [
    {
     "name": "stdout",
     "output_type": "stream",
     "text": [
      "<class 'type'>\n",
      "<class '__main__.Person'> Jan Kos\n",
      "--------------------------------------------------------------------------------\n",
      "<class '__main__.Person'> Gustaw Jeleń\n",
      "--------------------------------------------------------------------------------\n"
     ]
    }
   ],
   "source": [
    "class Person():\n",
    "    def __init__(self, name, surname):\n",
    "        self.name = name\n",
    "        self.surname = surname\n",
    "        \n",
    "janek = Person('Jan', 'Kos')\n",
    "gustlik = Person('Gustaw', 'Jeleń')\n",
    "\n",
    "print(type(Person))\n",
    "for x in (janek, gustlik):\n",
    "    print(type(x), x.name, x.surname)\n",
    "    print(80 * '-')"
   ]
  },
  {
   "cell_type": "markdown",
   "metadata": {
    "slideshow": {
     "slide_type": "subslide"
    }
   },
   "source": [
    "W powyższym przykładzie widzimy, że `__init__` przyjmuje 3 argumenty pozycyjne, a podczas tworzenia nowych instancji klasy `Person` podajemy tylko 2 argumenty. W dodatku ostatnie 2. Pierwszy argument `self` został jakby pominięty, a wyjątek nie poleciał. Wygląda to dziwnie, ale to standardowe zachowanie. Każda funkcja zdefiniowana wewnątrz klasy przyjmuje za pierwszy argument instancję (instancja zostanie przekazana automatycznie). Nazwa `self` nie jest obowiązkowa, możemy używać dowolnej, ale konwencjajest taka, że zalecane jest `self` - dla czytelności. W Python konwencje są ważne."
   ]
  },
  {
   "cell_type": "markdown",
   "metadata": {
    "slideshow": {
     "slide_type": "subslide"
    }
   },
   "source": [
    "Instancje w zasadzie umieją robić tylko jedną rzecz - odwołania do atrybutów.  \n",
    "Atrybut moze być dowolnym obiektem (liczbą, napisem, funkcją, ...).  "
   ]
  },
  {
   "cell_type": "markdown",
   "metadata": {
    "slideshow": {
     "slide_type": "subslide"
    }
   },
   "source": [
    "### Pytania do sali\n",
    "- Czym się różni klasa od instancji?\n",
    "- Czy instancje są obiektami?\n",
    "- Czy dwie instancje tej samej klasy są różnymi obiektami?\n",
    "- A jeśli bardzo byśmy chcieli, żeby dwie instancje były tymi samymi obiektami?\n",
    "- Czy takie obiekty są w Python używane?\n",
    "- Czy instancje mogą współdzielić jakiś obszar pamięci?"
   ]
  },
  {
   "cell_type": "markdown",
   "metadata": {
    "slideshow": {
     "slide_type": "slide"
    }
   },
   "source": [
    "## 5. Dane - co w klasie a co w instancji"
   ]
  },
  {
   "cell_type": "markdown",
   "metadata": {
    "slideshow": {
     "slide_type": "subslide"
    }
   },
   "source": [
    "### Atrybuty klasy i instancji"
   ]
  },
  {
   "cell_type": "markdown",
   "metadata": {
    "slideshow": {
     "slide_type": "subslide"
    }
   },
   "source": [
    "Podział jest prosty - co zdefiniujemy w klasie należy do klasy a co na (w) instancji należy do instancji.  \n",
    "Wydaje się proste, ale można się zaskoczyć."
   ]
  },
  {
   "cell_type": "code",
   "execution_count": 55,
   "metadata": {
    "slideshow": {
     "slide_type": "subslide"
    }
   },
   "outputs": [
    {
     "name": "stdout",
     "output_type": "stream",
     "text": [
      "<class '__main__.Surprise'> 44 []\n",
      "<__main__.Surprise object at 0x7fe4342560b8> 44 [] pierwsza\n",
      "<__main__.Surprise object at 0x7fe4342560f0> 44 [] druga\n"
     ]
    }
   ],
   "source": [
    "class Surprise():\n",
    "    a = 44\n",
    "    b = []\n",
    "    def __init__(self, name):\n",
    "        self.name = name\n",
    "        \n",
    "sup1 = Surprise('pierwsza')\n",
    "sup2 = Surprise('druga')\n",
    "\n",
    "def print_surprises():\n",
    "    print(Surprise, Surprise.a, Surprise.b) # ,Surprise.name) <- tego się nie da bo jeszcze nie jest dostępne\n",
    "    print(sup1, sup1.a, sup1.b, sup1.name)\n",
    "    print(sup2, sup2.a, sup2.b, sup2.name)\n",
    "    \n",
    "print_surprises()"
   ]
  },
  {
   "cell_type": "code",
   "execution_count": 56,
   "metadata": {
    "slideshow": {
     "slide_type": "subslide"
    }
   },
   "outputs": [
    {
     "name": "stdout",
     "output_type": "stream",
     "text": [
      "<class '__main__.Surprise'> 44 []\n",
      "<__main__.Surprise object at 0x7fe4342560b8> 23 [] pierwsza\n",
      "<__main__.Surprise object at 0x7fe4342560f0> 44 [] druga\n"
     ]
    }
   ],
   "source": [
    "sup1.a = 23\n",
    "print_surprises()"
   ]
  },
  {
   "cell_type": "code",
   "execution_count": 57,
   "metadata": {
    "slideshow": {
     "slide_type": "subslide"
    }
   },
   "outputs": [
    {
     "name": "stdout",
     "output_type": "stream",
     "text": [
      "<class '__main__.Surprise'> 55 []\n",
      "<__main__.Surprise object at 0x7fe4342560b8> 23 [] pierwsza\n",
      "<__main__.Surprise object at 0x7fe4342560f0> 55 [] druga\n"
     ]
    }
   ],
   "source": [
    "Surprise.a = 55\n",
    "print_surprises()"
   ]
  },
  {
   "cell_type": "code",
   "execution_count": 58,
   "metadata": {
    "slideshow": {
     "slide_type": "subslide"
    }
   },
   "outputs": [
    {
     "name": "stdout",
     "output_type": "stream",
     "text": [
      "<class '__main__.Surprise'> 55 ['niespodzianka :)']\n",
      "<__main__.Surprise object at 0x7fe4342560b8> 23 ['niespodzianka :)'] pierwsza\n",
      "<__main__.Surprise object at 0x7fe4342560f0> 55 ['niespodzianka :)'] druga\n"
     ]
    }
   ],
   "source": [
    "sup1.b.append('niespodzianka :)')\n",
    "print_surprises()"
   ]
  },
  {
   "cell_type": "code",
   "execution_count": 59,
   "metadata": {
    "slideshow": {
     "slide_type": "subslide"
    }
   },
   "outputs": [
    {
     "name": "stdout",
     "output_type": "stream",
     "text": [
      "<class '__main__.Surprise'> 55 ['niespodzianka :)']\n",
      "<__main__.Surprise object at 0x7fe4342560b8> 23 ['niespodzianka :)'] pierwsza\n",
      "<__main__.Surprise object at 0x7fe4342560f0> 55 ['całkiem inna niespodzianka'] druga\n"
     ]
    }
   ],
   "source": [
    "sup2.b = ['całkiem inna niespodzianka']\n",
    "print_surprises()"
   ]
  },
  {
   "cell_type": "code",
   "execution_count": 60,
   "metadata": {
    "slideshow": {
     "slide_type": "subslide"
    }
   },
   "outputs": [
    {
     "ename": "AttributeError",
     "evalue": "'Surprise' object has no attribute 'nowy'",
     "output_type": "error",
     "traceback": [
      "\u001b[0;31m---------------------------------------------------------------------------\u001b[0m",
      "\u001b[0;31mAttributeError\u001b[0m                            Traceback (most recent call last)",
      "\u001b[0;32m<ipython-input-60-a089a7dd7dc7>\u001b[0m in \u001b[0;36m<module>\u001b[0;34m()\u001b[0m\n\u001b[0;32m----> 1\u001b[0;31m \u001b[0mprint\u001b[0m\u001b[0;34m(\u001b[0m\u001b[0msup2\u001b[0m\u001b[0;34m.\u001b[0m\u001b[0mnowy\u001b[0m\u001b[0;34m)\u001b[0m\u001b[0;34m\u001b[0m\u001b[0m\n\u001b[0m",
      "\u001b[0;31mAttributeError\u001b[0m: 'Surprise' object has no attribute 'nowy'"
     ]
    }
   ],
   "source": [
    "print(sup2.nowy)"
   ]
  },
  {
   "cell_type": "code",
   "execution_count": 61,
   "metadata": {
    "slideshow": {
     "slide_type": "subslide"
    }
   },
   "outputs": [
    {
     "name": "stdout",
     "output_type": "stream",
     "text": [
      "czary mary\n"
     ]
    }
   ],
   "source": [
    "Surprise.nowy = 'czary mary'\n",
    "print(sup2.nowy)"
   ]
  },
  {
   "cell_type": "markdown",
   "metadata": {
    "slideshow": {
     "slide_type": "subslide"
    }
   },
   "source": [
    "Powyższy przykład działa, ponieważ najpierw atrybut jest wyszukiwany w instancji, a jeśli nie zostanie znaleziony to w klasie."
   ]
  },
  {
   "cell_type": "markdown",
   "metadata": {
    "slideshow": {
     "slide_type": "subslide"
    }
   },
   "source": [
    "Zazwyczaj współdzielenie stanu między instancjami jest bardzo ryzykowne. Łatwo się pomylić, ciężko taki błąd znaleźć."
   ]
  },
  {
   "cell_type": "markdown",
   "metadata": {
    "slideshow": {
     "slide_type": "subslide"
    }
   },
   "source": [
    "### Kontrola dostępu"
   ]
  },
  {
   "cell_type": "markdown",
   "metadata": {
    "slideshow": {
     "slide_type": "subslide"
    }
   },
   "source": [
    "Możliwa jedynie za pomocą konwencji. W python nie ma mechanizmów blokujących dostęp do wnętrza (implementacji) klasy. Każdy klient może gmerać wszędzie. Co nie jest dobrym pomysłem, ale jesteśmy dorośli nie biadolimy jak sami zrobimy sobie krzywdę."
   ]
  },
  {
   "cell_type": "markdown",
   "metadata": {
    "slideshow": {
     "slide_type": "subslide"
    }
   },
   "source": [
    "#### Konwencja\n",
    "Wszystkie nazwy zaczynające się od pojedyńczego podkreślnika (`_`) są uznawane, za prywatne. Nieważne od poziomu na którym zostaną zdefiniowane (moduł, funkcja, zmienna, pole klasy, ...). Zmiana zawartości takich atrybutów odbywa się na własne ryzyko. W nowszej wersji np jakiejś biblioteki sposób działania kodu moze się zmienić i nasza zmiana spowoduje katastrofę. Ludzie starają się przestrzegać tej konwencji. Nazwy z podwójnymi podkreśleniami z przodu i z tyłu są zarezerwowane: częśc już jest używana przez python, a w każdej chwili mogą dojść nowe."
   ]
  },
  {
   "cell_type": "markdown",
   "metadata": {
    "slideshow": {
     "slide_type": "subslide"
    }
   },
   "source": [
    "#### Pseudoprywatność\n",
    "Nazwy zaczynające się od `__` są jakby \"bardziej\" prywatne. Kompilator/interpreter w locie je zmieni. Aktualnie od wielu wersji interpretera wstecz dokleji na początku nazwy `_` i nazwe klasy, ale \"może\" się to zmienić w przyszłości.\n",
    "W dalszym ciągu nie załatwia nam to prywatności, jedynie nieco utrudnia grzebanie w atrybutach. Moje zdanie jest takie, że pojedyńczy podkreślnik w zupełności wystarcza. Podwójne podkreślenie wprowadza zamieszanie, które później trzeba odkręcać (nawet po kilku latach)."
   ]
  },
  {
   "cell_type": "code",
   "execution_count": 62,
   "metadata": {
    "slideshow": {
     "slide_type": "subslide"
    }
   },
   "outputs": [
    {
     "name": "stdout",
     "output_type": "stream",
     "text": [
      "{'_Alfa__shadow': 'nie ma mnie'}\n"
     ]
    }
   ],
   "source": [
    "class Alfa():\n",
    "    def __init__(self):\n",
    "        self.__shadow = 'nie ma mnie'\n",
    "        \n",
    "a = Alfa()\n",
    "from pprint import pprint\n",
    "pprint(a.__dict__)"
   ]
  },
  {
   "cell_type": "markdown",
   "metadata": {
    "slideshow": {
     "slide_type": "subslide"
    }
   },
   "source": [
    "### Odwoływanie się do atrybutów instancji wewnątrz metody"
   ]
  },
  {
   "cell_type": "code",
   "execution_count": 63,
   "metadata": {
    "slideshow": {
     "slide_type": "subslide"
    }
   },
   "outputs": [
    {
     "name": "stdout",
     "output_type": "stream",
     "text": [
      "Imię: Jan, Nazwisko: Kos\n",
      "{'surname': 'Kos', 'name': 'Jan'}\n"
     ]
    }
   ],
   "source": [
    "class Person():\n",
    "    def __init__(self, name, surname):\n",
    "        self.name = name\n",
    "        self.surname = surname\n",
    "        \n",
    "    def formalize(self):\n",
    "        # do atrybutów odwołujemy się poprzez pierwszy argument metody (self)\n",
    "        return 'Imię: {}, Nazwisko: {}'.format(self.name, self.surname)\n",
    "        \n",
    "janek = Person('Jan', 'Kos')\n",
    "\n",
    "print(janek.formalize())\n",
    "print(janek.__dict__)"
   ]
  },
  {
   "cell_type": "markdown",
   "metadata": {
    "slideshow": {
     "slide_type": "subslide"
    }
   },
   "source": [
    "### Pytania do sali\n",
    "- Czy jest sposób na kontrolowanie dostępu do atrybutów w python?\n",
    "- Jaka jest różnica między atrybutami zaczynającymi się od `_` a od `__`?\n",
    "- Jaka jest róznica między atrybutami klasy a instancji?\n",
    "- Gdzie powinniśmy definiować atrybuty instancji?\n",
    "- Gdzie możemy definiować atrybuty klasy?"
   ]
  },
  {
   "cell_type": "markdown",
   "metadata": {
    "slideshow": {
     "slide_type": "slide"
    }
   },
   "source": [
    "## 6. Metody instancji i klasy"
   ]
  },
  {
   "cell_type": "markdown",
   "metadata": {
    "slideshow": {
     "slide_type": "subslide"
    }
   },
   "source": [
    "### Metody klas\n",
    "W Python nie mamy dostępnego przeładowywania metod w zależności od typu argumentów. Między innymi z tego powodu mamy jeden konstruktor. Jeśli bardzo chcielibyśmy mieć alternatywny konstruktor (jak np w `datetime`) to możemy użyć metody klasy.  \n",
    "Metoda klasy (`classmethod`) to funkcja zdefiniowana w klasie (metoda), która za pierwszy argument nie przyjmuje instancji tylko obiekt klasy. "
   ]
  },
  {
   "cell_type": "code",
   "execution_count": 64,
   "metadata": {
    "slideshow": {
     "slide_type": "subslide"
    }
   },
   "outputs": [
    {
     "name": "stdout",
     "output_type": "stream",
     "text": [
      "Jestem w __init__\n",
      "type(self):  <class '__main__.MyAbc'>\n",
      "self:  <__main__.MyAbc object at 0x7fe434250e48>\n",
      "Jestem w some_method\n",
      "type(self):  <class '__main__.MyAbc'>\n",
      "self:  <__main__.MyAbc object at 0x7fe434250e48>\n",
      "Jestem w from_string\n",
      "type(cls):  <class 'type'>\n",
      "cls:  <class '__main__.MyAbc'>\n",
      "Jestem w __init__\n",
      "type(self):  <class '__main__.MyAbc'>\n",
      "self:  <__main__.MyAbc object at 0x7fe4342459e8>\n",
      "zinita.__dict__:  {'b': 2, 'c': 3, 'a': 1}\n",
      "zstringa.__dict__:  {'b': 'ma', 'c': 'Asa', 'a': 'Ala'}\n"
     ]
    }
   ],
   "source": [
    "class MyAbc():\n",
    "    def __init__(self, a, b, c):\n",
    "        print('Jestem w __init__')\n",
    "        print('type(self): ', type(self))\n",
    "        print('self: ', self)\n",
    "        self.a = a\n",
    "        self.b = b\n",
    "        self.c = c\n",
    "        \n",
    "    def some_method(self):\n",
    "        print('Jestem w some_method')\n",
    "        print('type(self): ', type(self))\n",
    "        print('self: ', self)\n",
    "        \n",
    "    @classmethod # to jest dekorator, czym są dokładnie dowiemy się na zajęciach levelUp\n",
    "    def from_string(cls, str_in):\n",
    "        print('Jestem w from_string')\n",
    "        print('type(cls): ', type(cls))\n",
    "        print('cls: ', cls)\n",
    "        a, b, c = str_in.split('.')\n",
    "        return cls(a, b, c)\n",
    "    \n",
    "zinita = MyAbc(1, 2, 3)\n",
    "zinita.some_method()\n",
    "zstringa = MyAbc.from_string('Ala.ma.Asa')\n",
    "print('zinita.__dict__: ', zinita.__dict__)\n",
    "print('zstringa.__dict__: ', zstringa.__dict__)"
   ]
  },
  {
   "cell_type": "markdown",
   "metadata": {
    "slideshow": {
     "slide_type": "subslide"
    }
   },
   "source": [
    "### Pytania do sali\n",
    "- Jakie zastosowania może mieć `classmethod`?\n",
    "- Co jest zawsze pierwszym argumentem metody?"
   ]
  },
  {
   "cell_type": "markdown",
   "metadata": {
    "slideshow": {
     "slide_type": "slide"
    }
   },
   "source": [
    "## 7. Dziedziczenie"
   ]
  },
  {
   "cell_type": "code",
   "execution_count": 65,
   "metadata": {
    "slideshow": {
     "slide_type": "subslide"
    }
   },
   "outputs": [
    {
     "name": "stdout",
     "output_type": "stream",
     "text": [
      "<class '__main__.B'>\n",
      "isinstance(b, B):  True\n",
      "issubclass(B, A):  True\n",
      "issubclass(A, B):  False\n"
     ]
    }
   ],
   "source": [
    "class A():\n",
    "    pass\n",
    "\n",
    "class B(A): # klasa B dziedziczy po A\n",
    "    pass\n",
    "\n",
    "a = A()\n",
    "b = B()\n",
    "print(type(b))\n",
    "print('isinstance(b, B): ', isinstance(b, B))\n",
    "print('issubclass(B, A): ', issubclass(B, A))\n",
    "print('issubclass(A, B): ', issubclass(A, B))"
   ]
  },
  {
   "cell_type": "code",
   "execution_count": 66,
   "metadata": {
    "slideshow": {
     "slide_type": "subslide"
    }
   },
   "outputs": [
    {
     "name": "stdout",
     "output_type": "stream",
     "text": [
      "<class '__main__.C'>\n",
      "isinstance(c, A):  True\n",
      "isinstance(c, B):  True\n",
      "isinstance(c, C):  True\n"
     ]
    }
   ],
   "source": [
    "# dziedziczenie wielokrotne\n",
    "class A():\n",
    "    pass\n",
    "\n",
    "class B():\n",
    "    pass\n",
    "\n",
    "class C(A, B): # klasa C dziedziczy po A i B\n",
    "    pass\n",
    "\n",
    "c = C()\n",
    "print(type(c))\n",
    "print('isinstance(c, A): ', isinstance(c, A))\n",
    "print('isinstance(c, B): ', isinstance(c, B))\n",
    "print('isinstance(c, C): ', isinstance(c, C))"
   ]
  },
  {
   "cell_type": "markdown",
   "metadata": {
    "slideshow": {
     "slide_type": "subslide"
    }
   },
   "source": [
    "Tak na prawdę wszystkie klasy definiowane przez użytkowików dziedziczą po `object` więck każde dziedziczenie jest wielokrotne. Problem diamentów jest częsty. Python ma algorytm wyznaczamia kolejności poszukiwania atrybutów w drzewie dziedziczenia - `Method Resolution Order` (MRO). Na potrzebu kursu nie będziemy zajmować się dziedziczeniem wielokrotnym - dziedziczenie i tak bywa problematyczne, a wielokrotne poziom trudności zwiększa. W prosty sposób można sobie bardzo życie utrudnić."
   ]
  },
  {
   "cell_type": "markdown",
   "metadata": {
    "slideshow": {
     "slide_type": "subslide"
    }
   },
   "source": [
    "### Pytania do sali\n",
    "- Czym jest dziedziczenie?\n",
    "- Czy dziedziczenie wielokrotne jest dostępne w python?\n",
    "- Jak Python radzi sobie z dziedziczeniem diamentowym?"
   ]
  },
  {
   "cell_type": "markdown",
   "metadata": {
    "slideshow": {
     "slide_type": "slide"
    }
   },
   "source": [
    "## 8. Nadpisywanie metod klasy bazowej"
   ]
  },
  {
   "cell_type": "code",
   "execution_count": 67,
   "metadata": {
    "slideshow": {
     "slide_type": "subslide"
    }
   },
   "outputs": [
    {
     "name": "stdout",
     "output_type": "stream",
     "text": [
      "<class '__main__.Baza'>\n",
      "<class '__main__.Potomek'>\n",
      "--------------------------------------------------------------------------------\n",
      "nazwa Baza\n",
      "self.__class__.__name__:  Baza\n",
      "None\n",
      "--------------------------------------------------------------------------------\n",
      "nazwa Potomek\n",
      "self.__class__.__name__:  Potomek\n",
      "None\n"
     ]
    }
   ],
   "source": [
    "class Baza():\n",
    "    pass\n",
    "\n",
    "    def who_am_I(self):\n",
    "        self.primitive_who_am_I()\n",
    "        self.detailed_who_am_I()\n",
    "\n",
    "    def primitive_who_am_I(self):\n",
    "        print(\"nazwa Baza\")\n",
    "        \n",
    "    def detailed_who_am_I(self):\n",
    "        print('self.__class__.__name__: ', self.__class__.__name__)\n",
    "\n",
    "\n",
    "class Potomek(Baza): # Potomek dziedziczy po Baza\n",
    "    def primitive_who_am_I(self):\n",
    "        print(\"nazwa Potomek\")\n",
    "\n",
    "b = Baza()\n",
    "p = Potomek()\n",
    "\n",
    "print(type(b))\n",
    "print(type(p))\n",
    "print(80 * '-')\n",
    "print(b.who_am_I())\n",
    "print(80 * '-')\n",
    "print(p.who_am_I())"
   ]
  },
  {
   "cell_type": "markdown",
   "metadata": {
    "slideshow": {
     "slide_type": "subslide"
    }
   },
   "source": [
    "### Pytania do sali\n",
    "- Czy można nadpisywać metody klas bazowych?\n",
    "- Czy można się dostać do nadpisanych metod?"
   ]
  },
  {
   "cell_type": "markdown",
   "metadata": {
    "slideshow": {
     "slide_type": "slide"
    }
   },
   "source": [
    "## 9. Wywoływanie metod klasy bazowej"
   ]
  },
  {
   "cell_type": "code",
   "execution_count": 68,
   "metadata": {
    "slideshow": {
     "slide_type": "subslide"
    }
   },
   "outputs": [
    {
     "name": "stdout",
     "output_type": "stream",
     "text": [
      "<class '__main__.Baza'>\n",
      "<class '__main__.Potomek'>\n",
      "--------------------------------------------------------------------------------\n",
      "nazwa Baza\n",
      "self.__class__.__name__:  Baza\n",
      "None\n",
      "--------------------------------------------------------------------------------\n",
      "cos:  <super: <class 'Potomek'>, <Potomek object>>\n",
      "nazwa Baza\n",
      "nazwa Potomek\n",
      "self.__class__.__name__:  Potomek\n",
      "None\n"
     ]
    }
   ],
   "source": [
    "class Baza():\n",
    "    pass\n",
    "\n",
    "    def who_am_I(self):\n",
    "        self.primitive_who_am_I()\n",
    "        self.detailed_who_am_I()\n",
    "\n",
    "    def primitive_who_am_I(self):\n",
    "        print(\"nazwa Baza\")\n",
    "        \n",
    "    def detailed_who_am_I(self):\n",
    "        print('self.__class__.__name__: ', self.__class__.__name__)\n",
    "\n",
    "\n",
    "class Potomek(Baza): # Potomek dziedziczy po Baza\n",
    "    def primitive_who_am_I(self):\n",
    "        cos = super()\n",
    "        print('cos: ', cos)\n",
    "        cos.primitive_who_am_I()\n",
    "        print(\"nazwa Potomek\")\n",
    "\n",
    "b = Baza()\n",
    "p = Potomek()\n",
    "\n",
    "print(type(b))\n",
    "print(type(p))\n",
    "print(80 * '-')\n",
    "print(b.who_am_I())\n",
    "print(80 * '-')\n",
    "print(p.who_am_I())"
   ]
  },
  {
   "cell_type": "markdown",
   "metadata": {
    "slideshow": {
     "slide_type": "subslide"
    }
   },
   "source": [
    "#### Uczmy się od najlepszych:\n",
    "* https://www.youtube.com/watch?v=EiOglTERPEo\n",
    "* https://rhettinger.wordpress.com/2011/05/26/super-considered-super/"
   ]
  },
  {
   "cell_type": "markdown",
   "metadata": {
    "slideshow": {
     "slide_type": "subslide"
    }
   },
   "source": [
    "### Pytania do sali\n",
    "- W jaki sposób odstać się do nadpisanych metod w klasie bazowej?"
   ]
  },
  {
   "cell_type": "markdown",
   "metadata": {
    "slideshow": {
     "slide_type": "slide"
    }
   },
   "source": [
    "## 10. Metody \"magiczne\""
   ]
  },
  {
   "cell_type": "code",
   "execution_count": 28,
   "metadata": {
    "slideshow": {
     "slide_type": "notes"
    }
   },
   "outputs": [],
   "source": [
    "class Vector():\n",
    "    def __init__(self, *args):\n",
    "        self.coords = [x for x in args]\n",
    "        \n",
    "    def __len__(self):\n",
    "        return len(self.coords)\n",
    "\n",
    "    def __repr__(self):\n",
    "        # lepiej użyć repr zamisat str, ale nie było poruszane na wykładzie\n",
    "        return '{}({})'.format(\n",
    "            self.__class__.__name__, ', '.join((str(x) for x in self.coords))\n",
    "        )\n",
    "\n",
    "    def __add__(self, other):\n",
    "        n = len(self.coords)\n",
    "        new_coords = [self.coords[i] + other.coords[i] for i in range(n)]\n",
    "        return Vector(*new_coords)\n",
    "    \n",
    "    def __iadd__(self, other):\n",
    "        for i, x in enumerate(self.coords):\n",
    "            self.coords[i] += other.coords[i]\n",
    "        return self\n",
    "    \n",
    "    def __eq__(self, other):\n",
    "        return self.coords == other.coords\n",
    "\n",
    "    def __mul__(self, other):\n",
    "        new_coords = [x * other for x in self.coords]\n",
    "        return Vector(*new_coords)\n",
    "\n",
    "    def __rmul__(self, other):\n",
    "        return self * other"
   ]
  },
  {
   "cell_type": "markdown",
   "metadata": {
    "slideshow": {
     "slide_type": "subslide"
    }
   },
   "source": [
    "Proszę zaimplementować klasę `Vector`.  \n",
    "Ta klasa będzie reprezentować wektor o rozmiarze n.  \n",
    "Przykładowe tworzenie instancji klasy:\n",
    "```python\n",
    "Vector(5) # tworzy wektor jednowymiarowy o długości 5 (n = 1)\n",
    "Vector(1, 2, 3) # tworzy wektor trójwymiarowy (n = 3)\n",
    "```"
   ]
  },
  {
   "cell_type": "markdown",
   "metadata": {
    "slideshow": {
     "slide_type": "subslide"
    }
   },
   "source": [
    "### \\_\\_len\\_\\_\n",
    "Powinno dać się \"zmierzyć\" liczbę wymiarów wektora za pomocą funkcji wbudowanej `len`."
   ]
  },
  {
   "cell_type": "code",
   "execution_count": 17,
   "metadata": {
    "slideshow": {
     "slide_type": "subslide"
    }
   },
   "outputs": [
    {
     "name": "stdout",
     "output_type": "stream",
     "text": [
      "3\n",
      "2\n"
     ]
    }
   ],
   "source": [
    "print(len(Vector(1, 2, 3)))\n",
    "print(len(Vector(4, 5)))"
   ]
  },
  {
   "cell_type": "markdown",
   "metadata": {
    "slideshow": {
     "slide_type": "subslide"
    }
   },
   "source": [
    "### \\_\\_repr\\_\\_\n",
    "Instancje klasy Vector powinno dać się zrzutować na stringa:\n",
    "\n",
    "* Wskazówka 1: https://docs.python.org/3/reference/datamodel.html#object.__str__\n",
    "* Wskazówka 2: https://docs.python.org/3/reference/datamodel.html#object.__repr__\n",
    "\n",
    "\n"
   ]
  },
  {
   "cell_type": "code",
   "execution_count": 18,
   "metadata": {
    "slideshow": {
     "slide_type": "subslide"
    }
   },
   "outputs": [
    {
     "name": "stdout",
     "output_type": "stream",
     "text": [
      "v:  Vector(1, 2)\n",
      "v1:  Vector(2, 4, 5.6, 7, 8)\n"
     ]
    }
   ],
   "source": [
    "v = Vector(1, 2)\n",
    "print('v: ', v)\n",
    "v1 = Vector(2, 4, 5.6, 7,8)\n",
    "print('v1: ', v1)"
   ]
  },
  {
   "cell_type": "markdown",
   "metadata": {
    "slideshow": {
     "slide_type": "subslide"
    }
   },
   "source": [
    "### \\_\\_str\\_\\_"
   ]
  },
  {
   "cell_type": "markdown",
   "metadata": {
    "slideshow": {
     "slide_type": "subslide"
    }
   },
   "source": [
    "### \\_\\_add\\_\\_\n",
    "Dodawanie dwóch wektorów o tym samym wymiarze powinno tworzyć nowy wektor o tym samym wymiarze:\n",
    "\n",
    "* Wskazówka: https://docs.python.org/3/reference/datamodel.html#object.__add__\n",
    "\n",
    "Zakładamy, że operacja na wektorach o różnym wymiarze nie wystąpi"
   ]
  },
  {
   "cell_type": "code",
   "execution_count": 19,
   "metadata": {
    "slideshow": {
     "slide_type": "subslide"
    }
   },
   "outputs": [
    {
     "name": "stdout",
     "output_type": "stream",
     "text": [
      "Vector(1, 2)\n",
      "Vector(3, 4)\n",
      "Vector(4, 6)\n",
      "140160957091176\n",
      "140160957091232\n",
      "140160956994056\n"
     ]
    }
   ],
   "source": [
    "v1 = Vector(1, 2)\n",
    "v2 = Vector(3, 4)\n",
    "v3 = v1 + v2\n",
    "print(v1)\n",
    "print(v2)\n",
    "print(v3)\n",
    "print(id(v1))\n",
    "print(id(v2))\n",
    "print(id(v3))"
   ]
  },
  {
   "cell_type": "markdown",
   "metadata": {
    "slideshow": {
     "slide_type": "subslide"
    }
   },
   "source": [
    "### \\_\\_iadd\\_\\_\n",
    "Chcemy umożliwić \"zwiększanie wartości\" wektora o inny wektor."
   ]
  },
  {
   "cell_type": "code",
   "execution_count": 23,
   "metadata": {
    "slideshow": {
     "slide_type": "subslide"
    }
   },
   "outputs": [
    {
     "name": "stdout",
     "output_type": "stream",
     "text": [
      "id(v1):  140160956965608\n",
      "id(v2):  140160956965664\n",
      "Vector(4, 6)\n",
      "Vector(3, 4)\n",
      "id(v1):  140160956965608\n",
      "id(v2):  140160956965664\n"
     ]
    }
   ],
   "source": [
    "v1 = Vector(1, 2)\n",
    "v2 = Vector(3, 4)\n",
    "print('id(v1): ', id(v1))\n",
    "print('id(v2): ', id(v2))\n",
    "v1 += v2\n",
    "print(v1)\n",
    "print(v2)\n",
    "print('id(v1): ', id(v1))\n",
    "print('id(v2): ', id(v2))"
   ]
  },
  {
   "cell_type": "markdown",
   "metadata": {
    "slideshow": {
     "slide_type": "subslide"
    }
   },
   "source": [
    "### \\_\\_eq\\_\\_\n",
    "Powinno dać się porównać czy dwie różne instancje klasy wektor są sobie równe:\n",
    "\n",
    "* Wskazówka 1: https://docs.python.org/3/reference/datamodel.html#object.__eq__\n",
    "\n",
    "zakładamy, że operacja na wektorach o różnym wymiarze nie wystąpi"
   ]
  },
  {
   "cell_type": "code",
   "execution_count": 26,
   "metadata": {
    "slideshow": {
     "slide_type": "subslide"
    }
   },
   "outputs": [
    {
     "name": "stdout",
     "output_type": "stream",
     "text": [
      "id(v1):  140160956967568\n",
      "id(v2):  140160956967624\n",
      "v1 is v2:  False\n",
      "v1 == v2:  True\n",
      "v1 == v3:  False\n",
      "id(v3):  140160956968408\n"
     ]
    }
   ],
   "source": [
    "v1 = Vector(1, 2, 3)\n",
    "v2 = Vector(1, 2, 3)\n",
    "print('id(v1): ', id(v1))\n",
    "print('id(v2): ', id(v2))\n",
    "print('v1 is v2: ', v1 is v2)\n",
    "print('v1 == v2: ', v1 == v2)  # dwa wektory powinny być uznane za równe tylko jeśli mają te same \"współrzędne\"\n",
    "v3 = Vector(1, 2, 4)\n",
    "print('v1 == v3: ', v1 == v3)  # dwa wektory z różnymi \"współrzędnymi\" powinny być uznane za nierówne\n",
    "print('id(v3): ', id(v3))"
   ]
  },
  {
   "cell_type": "markdown",
   "metadata": {
    "slideshow": {
     "slide_type": "subslide"
    }
   },
   "source": [
    "### \\_\\_mul\\_\\_\n",
    "\n",
    "Mnożenie wektora przez liczbę powinno dawać nowy wektor o tym samym wymiarze z \n",
    "odpowiednio przemnożonymi \"współrzędnymi\":\n",
    "\n",
    "* Wskazówka: https://docs.python.org/3/reference/datamodel.html#object.__mul__"
   ]
  },
  {
   "cell_type": "code",
   "execution_count": 29,
   "metadata": {
    "slideshow": {
     "slide_type": "subslide"
    }
   },
   "outputs": [
    {
     "name": "stdout",
     "output_type": "stream",
     "text": [
      "Vector(1.1, 2.2, 3, 4)\n",
      "Vector(6.6000000000000005, 13.200000000000001, 18, 24)\n",
      "id(v1):  140160956965664\n",
      "id(v2):  140160956966784\n"
     ]
    }
   ],
   "source": [
    "v1 = Vector(1.1, 2.2, 3, 4)\n",
    "v2 = v1 * 6\n",
    "print(v1)\n",
    "print(v2)\n",
    "print('id(v1): ', id(v1))\n",
    "print('id(v2): ', id(v2))"
   ]
  },
  {
   "cell_type": "markdown",
   "metadata": {
    "slideshow": {
     "slide_type": "subslide"
    }
   },
   "source": [
    "### \\_\\_rmul\\_\\_\n",
    "Mnożenie liczby przez wektor powinno dawać taki sam wektor jak mnożenie wektora przez liczbę:\n",
    "\n",
    "* Wskazówka: https://docs.python.org/3/reference/datamodel.html#object.__rmul__"
   ]
  },
  {
   "cell_type": "code",
   "execution_count": 30,
   "metadata": {
    "slideshow": {
     "slide_type": "subslide"
    }
   },
   "outputs": [
    {
     "name": "stdout",
     "output_type": "stream",
     "text": [
      "Vector(1.1, 2.2, 3, 4)\n",
      "Vector(6, 12)\n",
      "Vector(1.1, 2.2, 3, 4)\n",
      "Vector(6.6000000000000005, 13.200000000000001, 18, 24)\n",
      "Vector(6.6000000000000005, 13.200000000000001, 18, 24)\n",
      "True\n",
      "id(v1):  140160956965664\n",
      "id(v2):  140160956966784\n",
      "id(v3):  140160957088152\n"
     ]
    }
   ],
   "source": [
    "v1 = Vector(1.1, 2.2, 3, 4)\n",
    "v2 = v * 6\n",
    "print(v1)\n",
    "print(v2)\n",
    "v1 = Vector(1.1, 2.2, 3, 4)\n",
    "v2 = v1 * 6\n",
    "v3 = 6 * v1\n",
    "print(v1)\n",
    "print(v2)\n",
    "print(v3)\n",
    "print(v2 == v3)\n",
    "print('id(v1): ', id(v1))\n",
    "print('id(v2): ', id(v2))\n",
    "print('id(v3): ', id(v3))"
   ]
  },
  {
   "cell_type": "markdown",
   "metadata": {
    "slideshow": {
     "slide_type": "notes"
    }
   },
   "source": [
    "### \\_\\_getitem\\_\\_"
   ]
  },
  {
   "cell_type": "markdown",
   "metadata": {
    "slideshow": {
     "slide_type": "notes"
    }
   },
   "source": [
    "### \\_\\_getattribute\\_\\_"
   ]
  },
  {
   "cell_type": "markdown",
   "metadata": {
    "slideshow": {
     "slide_type": "notes"
    }
   },
   "source": [
    "### \\_\\_getattr\\_\\_"
   ]
  },
  {
   "cell_type": "markdown",
   "metadata": {
    "slideshow": {
     "slide_type": "notes"
    }
   },
   "source": [
    "### \\_\\_iter\\_\\_"
   ]
  },
  {
   "cell_type": "markdown",
   "metadata": {
    "slideshow": {
     "slide_type": "slide"
    }
   },
   "source": [
    "### Pytania do sali\n",
    "- Czy obiekt może generować atrybuty \"na rządanie\"?\n",
    "- Czy można dynamicznie ustawiac atrybuty na obiekcie?\n",
    "- Co trzeba zrobić, żeby odwołać się do obiektu przez indeks (nawiasy `[]`)?\n",
    "- Czym się różni `repr()` od `str()` w zastosowaniu?\n",
    "- Czy można (jeśli tak to jak) zawołać obiekt/instancję klasy?\n",
    "- Co trzeba zrobić, żeby dało się obiektu w pętli `for` użyć?"
   ]
  },
  {
   "cell_type": "markdown",
   "metadata": {
    "slideshow": {
     "slide_type": "slide"
    }
   },
   "source": [
    "## 11. Generatory"
   ]
  },
  {
   "cell_type": "markdown",
   "metadata": {
    "slideshow": {
     "slide_type": "notes"
    }
   },
   "source": [
    "# TODO: Na następne zajęcia `__iter__`, generator expressions z `()`, `yield`"
   ]
  }
 ],
 "metadata": {
  "celltoolbar": "Slideshow",
  "kernelspec": {
   "display_name": "Python 3",
   "language": "python",
   "name": "python3"
  },
  "language_info": {
   "codemirror_mode": {
    "name": "ipython",
    "version": 3
   },
   "file_extension": ".py",
   "mimetype": "text/x-python",
   "name": "python",
   "nbconvert_exporter": "python",
   "pygments_lexer": "ipython3",
   "version": "3.5.2"
  }
 },
 "nbformat": 4,
 "nbformat_minor": 2
}
