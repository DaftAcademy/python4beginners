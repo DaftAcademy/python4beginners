{
 "cells": [
  {
   "cell_type": "markdown",
   "metadata": {
    "slideshow": {
     "slide_type": "slide"
    }
   },
   "source": [
    "# Testowanie\n",
    "## Jakub Szponder\n",
    "### 07.12.2017, Python 4 Beginners"
   ]
  },
  {
   "cell_type": "markdown",
   "metadata": {
    "slideshow": {
     "slide_type": "subslide"
    }
   },
   "source": [
    "# Testowanie kodu jest ważne"
   ]
  },
  {
   "cell_type": "markdown",
   "metadata": {
    "slideshow": {
     "slide_type": "slide"
    }
   },
   "source": [
    "# Co to jest testowanie?\n",
    "- uruchamianie kodu naszego programu w celu sprawdzenia, czy robi to, co powinien\n",
    "\n"
   ]
  },
  {
   "cell_type": "markdown",
   "metadata": {
    "slideshow": {
     "slide_type": "fragment"
    }
   },
   "source": [
    "### Program testing can be used to show the presence of bugs, but never to show their absence!\n",
    "Edsker D. Dijkstra (1970)"
   ]
  },
  {
   "cell_type": "markdown",
   "metadata": {
    "slideshow": {
     "slide_type": "subslide"
    }
   },
   "source": [
    "# Testy automatyczne \n",
    "- dodatkowe fragmenty kodu, które uruchamiają nasz główny kod, a następnie porównują wyniki z oczekiwaniami\n",
    "- szybko się je odpala\n",
    "- są powtarzalne\n",
    "- wszyscy z zespołu są w stanie powtórzyć test\n",
    "- tylko tym rodzajem testów będziemy się dzisiaj zajmować"
   ]
  },
  {
   "cell_type": "markdown",
   "metadata": {
    "slideshow": {
     "slide_type": "subslide"
    }
   },
   "source": [
    "# Debugowanie\n",
    "- proces szukania błędu w kodzie, a następnie naprawiania go"
   ]
  },
  {
   "cell_type": "markdown",
   "metadata": {
    "slideshow": {
     "slide_type": "slide"
    }
   },
   "source": [
    "# Dlaczego testujemy\n",
    "- testowanie pozwala upewnić się, że w wybranych przez nas warunkach wszystko działa tak jak chcemy\n",
    "- zmniejsza strach przed zmianami\n",
    "- łatwiejsze niż debugowanie!"
   ]
  },
  {
   "cell_type": "markdown",
   "metadata": {
    "slideshow": {
     "slide_type": "slide"
    }
   },
   "source": [
    "1. Tworzymy nowy virtualenv\n",
    "2. Aktywujemy go\n",
    "3. Instalujemy z pip __pytest__"
   ]
  },
  {
   "cell_type": "markdown",
   "metadata": {
    "slideshow": {
     "slide_type": "subslide"
    }
   },
   "source": [
    "Tworzymy nowy virtualenv:\n",
    "```\n",
    "mkdir testing_venv\n",
    "python3.6 -m venv testing_venv\n",
    "```"
   ]
  },
  {
   "cell_type": "markdown",
   "metadata": {
    "slideshow": {
     "slide_type": "subslide"
    }
   },
   "source": [
    "Aktywowanie na Linux/Mac:\n",
    "```\n",
    "source testing_vent/bin/activate\n",
    "```\n",
    "Aktywowanie na Windows:\n",
    "```\n",
    "testing_venv\\Scripts\\activate\n",
    "```"
   ]
  },
  {
   "cell_type": "markdown",
   "metadata": {
    "slideshow": {
     "slide_type": "subslide"
    }
   },
   "source": [
    "Instalacja pytest\n",
    "```\n",
    "pip install pytest\n",
    "```"
   ]
  },
  {
   "cell_type": "markdown",
   "metadata": {
    "slideshow": {
     "slide_type": "slide"
    }
   },
   "source": [
    "Framework do testowania:\n",
    "- ułatwia pisanie i organizację testów\n",
    "- daje narzędzie do odpalania i wyszukiwania testów\n",
    "- wyświetla wyniki w ładnej formie\n",
    "\n",
    "Przykład:\n",
    "- __pytest__ - zewnętrzna paczka, pozwala pisać ładniejsze testy\n",
    "\n",
    "http://pythontesting.net/framework/pytest/pytest-introduction/"
   ]
  },
  {
   "cell_type": "markdown",
   "metadata": {
    "slideshow": {
     "slide_type": "subslide"
    }
   },
   "source": [
    "# pytest\n",
    "- rozbudowany framework do testowania\n",
    "- aktywnie rozwijany zarówno dla pythona 3 jak i pythona 2\n",
    "- najlepszy aktualnie wybór"
   ]
  },
  {
   "cell_type": "markdown",
   "metadata": {
    "slideshow": {
     "slide_type": "slide"
    }
   },
   "source": [
    "# Zadanie\n",
    "Napisać funkcję __flatten__, która dostaję listę zagnieżdżonych list i zwraca je jako listę na jednym poziomie.\n",
    "\n",
    "np. flatten([1, 2, 3, [4, 5]]) == [1, 2, 3, 4, 5]"
   ]
  },
  {
   "cell_type": "code",
   "execution_count": 7,
   "metadata": {
    "slideshow": {
     "slide_type": "subslide"
    }
   },
   "outputs": [],
   "source": [
    "def flatten(element):\n",
    "    return list(flatten_gen(element))\n",
    "\n",
    "\n",
    "def flatten_gen(element):\n",
    "    for e in element:\n",
    "        if isinstance(e, list):\n",
    "            for e_elem in flatten_gen(e):\n",
    "                yield e_elem\n",
    "        else:\n",
    "            yield e\n"
   ]
  },
  {
   "cell_type": "code",
   "execution_count": null,
   "metadata": {
    "slideshow": {
     "slide_type": "subslide"
    }
   },
   "outputs": [],
   "source": [
    "def test_flatten_not_nested_list():\n",
    "    test_list = [1, 2, 3]\n",
    "\n",
    "    result = flatten(test_list)\n",
    "\n",
    "    assert result == [1, 2, 3]\n",
    "\n",
    "\n",
    "def test_flatten_nested_list():\n",
    "    test_list = [1, [2, 3], 4]\n",
    "\n",
    "    result = flatten(test_list)\n",
    "\n",
    "    assert result == [1, 2, 3, 4]\n",
    "\n",
    "\n",
    "def test_flatten_empty_list():\n",
    "    test_list = []\n",
    "\n",
    "    result = flatten(test_list)\n",
    "\n",
    "    assert result == []\n",
    "\n",
    "\n",
    "def test_flatten_different_nestings():\n",
    "    test_list = [[1, 2, [3, 4, 5], [6], 7, 8], 9]\n",
    "\n",
    "    result = flatten(test_list)\n",
    "\n",
    "    assert result == [1, 2, 3, 4, 5, 6, 7, 8, 9]"
   ]
  },
  {
   "cell_type": "markdown",
   "metadata": {
    "slideshow": {
     "slide_type": "slide"
    }
   },
   "source": [
    "# Test Driven Development (TDD)\n",
    "1. napisać nieprzechodzący test\n",
    "2. zmienić kod w najłatwiejszy możliwy sposób żeby test przeszedł\n",
    "3. zrobić refactor"
   ]
  },
  {
   "cell_type": "markdown",
   "metadata": {
    "slideshow": {
     "slide_type": "subslide"
    }
   },
   "source": [
    "# Refaktoryzacja\n",
    "- zmiana struktury programu bez zmiany jego funkcjonalności\n",
    "- ma na celu poprawę jakości kodu"
   ]
  },
  {
   "cell_type": "markdown",
   "metadata": {
    "slideshow": {
     "slide_type": "slide"
    }
   },
   "source": [
    "# Zadanie\n",
    "\n",
    "Napisać klasę BankAccount (konto bankowe). Ma udostępniać trzy metody: \n",
    "- get_current_balance - zwracającą aktualny stan konta\n",
    "- deposit - dodającą pieniądze do konta\n",
    "- withdraw - zabierającą pieniądze z konta\n",
    "\n",
    "Zastosować TDD!"
   ]
  },
  {
   "cell_type": "markdown",
   "metadata": {
    "slideshow": {
     "slide_type": "slide"
    }
   },
   "source": [
    "# Dobre testy\n",
    "- szybkie\n",
    "- zautomatyzonwane\n",
    "- przewidywalne\n",
    "- dające dobrą informację zwrotną\n",
    "- skupiające się na jednym aspekcie na raz\n",
    "- dobrze izolowane"
   ]
  },
  {
   "cell_type": "markdown",
   "metadata": {
    "slideshow": {
     "slide_type": "subslide"
    }
   },
   "source": [
    "# Izolacja testów\n",
    "- testy nie powinny mieć wpływu na siebie nawzajem\n",
    "- błąd w jednym teście ne przerywa wykonania testów\n",
    "- każdy test powinien przejść zarówno odpalany pojedynczo jak i w grupie"
   ]
  },
  {
   "cell_type": "markdown",
   "metadata": {
    "slideshow": {
     "slide_type": "slide"
    }
   },
   "source": [
    "# Fixtures\n",
    "pytestowy sposób na skrócenie kodu testów i ograniczenie zduplikowanego kodu"
   ]
  },
  {
   "cell_type": "code",
   "execution_count": 11,
   "metadata": {
    "slideshow": {
     "slide_type": "fragment"
    }
   },
   "outputs": [],
   "source": [
    "import pytest\n",
    "\n",
    "@pytest.fixture\n",
    "def my_list():\n",
    "    return [1, 2, 3, 4, 5]\n",
    "\n",
    "def test_append(my_list):\n",
    "    my_list.append(6)\n",
    "    \n",
    "    assert my_list == [1, 2, 3, 4, 5, 6]\n"
   ]
  },
  {
   "cell_type": "markdown",
   "metadata": {
    "slideshow": {
     "slide_type": "slide"
    }
   },
   "source": [
    "# Zadanie\n",
    "Rozszerzyć klasę BankAccount o obsługę promocji.\n",
    "\n",
    "Promocja polega na tym, że w przypadku wpłacania pieniędzy do banku, wpłacający ma 10% szans na otrzymanie dodatkowej złotówki."
   ]
  },
  {
   "cell_type": "markdown",
   "metadata": {
    "slideshow": {
     "slide_type": "subslide"
    }
   },
   "source": [
    "# Mock\n",
    "- zachowuje się jak dowolny obiekt\n",
    "- zapisuje co się z nim dzieje (jakie akcje sę na nim wykonywane itp)\n",
    "- można na tym potem wywoływać asserty\n",
    "- łatwiej popsuć testy, bo polegamy na dokładnej implementacji danego kawałka\n",
    "\n",
    "\n",
    "https://docs.python.org/3/library/unittest.mock.html"
   ]
  },
  {
   "cell_type": "code",
   "execution_count": 8,
   "metadata": {
    "slideshow": {
     "slide_type": "subslide"
    }
   },
   "outputs": [
    {
     "name": "stdout",
     "output_type": "stream",
     "text": [
      "Przed mockowaniem\n",
      "0.8234714723494972\n",
      "0.8263488923710834\n",
      "0.0890493109094096\n",
      "Zamockowany random\n",
      "0.05\n",
      "0.05\n",
      "0.05\n",
      "Po mockowaniu\n",
      "0.1416876662261768\n",
      "0.8828365501612419\n",
      "0.37485739451984523\n"
     ]
    }
   ],
   "source": [
    "import random\n",
    "from unittest.mock import patch\n",
    "\n",
    "print('Przed mockowaniem')\n",
    "for i in range(3):\n",
    "    print(random.random())\n",
    "\n",
    "with patch('random.random') as mock_random:\n",
    "    print('Zamockowany random')\n",
    "    mock_random.return_value = 0.05\n",
    "    for i in range(3):\n",
    "        print(random.random())\n",
    "        \n",
    "print('Po mockowaniu')\n",
    "for i in range(3):\n",
    "    print(random.random())\n"
   ]
  },
  {
   "cell_type": "markdown",
   "metadata": {
    "slideshow": {
     "slide_type": "slide"
    }
   },
   "source": [
    "# Debugowanie - jak sobie z tym radzić\n",
    "- najprostszy sposób - wstawianie printów do kodu\n",
    "- lepszy sposób - użycie interaktywnego debuggera"
   ]
  },
  {
   "cell_type": "markdown",
   "metadata": {
    "slideshow": {
     "slide_type": "fragment"
    }
   },
   "source": [
    "Debugger jest dostępny w bibliotece standardowej:\n",
    "\n",
    "https://docs.python.org/3.6/library/pdb.html\n",
    "\n",
    "https://github.com/nblock/pdb-cheatsheet"
   ]
  },
  {
   "cell_type": "code",
   "execution_count": 9,
   "metadata": {
    "slideshow": {
     "slide_type": "subslide"
    }
   },
   "outputs": [],
   "source": [
    "def test_function():\n",
    "    ...\n",
    "    import pdb;pdb.set_trace()"
   ]
  },
  {
   "cell_type": "markdown",
   "metadata": {
    "slideshow": {
     "slide_type": "subslide"
    }
   },
   "source": [
    "# Zadanie\n",
    "\n",
    "Zlokalizować błędy w pliku ugly_roman_numbers.py. Wiemy, że:\n",
    "- źle działa dla liczby 4\n",
    "- źle działa dla liczby 1479"
   ]
  },
  {
   "cell_type": "markdown",
   "metadata": {
    "slideshow": {
     "slide_type": "slide"
    }
   },
   "source": [
    "# Materiały do samodzielnej nauki po zakończeniu kursu\n",
    "\n",
    "- https://www.packtpub.com/packt/offers/free-learning - codziennie inny darmowy ebook, często pythonowe\n",
    "- https://www.codingame.com/start - różnorodne zadania programistyczne\n",
    "- https://www.hackerrank.com/ - j/w\n",
    "- https://codility.com/programmers/lessons/1-iterations/ - podstawy algorytmiki\n",
    "- http://shop.oreilly.com/product/0636920032519.do - dobra książka o pythonie\n",
    "- https://www.udacity.com/course/design-of-computer-programs--cs212 - kurs projektowania programów\n",
    "- https://www.learnpython.org/ - podstawy pythona, interaktywne zadania\n",
    "- https://www.reddit.com/r/learnprogramming/wiki/index - subreddit dla uczących się programować\n",
    "- https://www.analyticsvidhya.com/learning-paths-data-science-business-analytics-business-intelligence-big-data/learning-path-data-science-python/ - plan nauki data science\n",
    "- https://www.fullstackpython.com - baza wiedzy o aplikacjach webowych\n",
    "- https://www.udacity.com/course/programming-foundations-with-python--ud036 - kurs podstawowy\n",
    "- https://www.udacity.com/course/introduction-to-python--ud1110 - kurs podstawowy/powtórzenie z zajęć\n",
    "- https://www.udacity.com/learn/python - sporo linków z dodatkowymi źródłami\n",
    "- https://automatetheboringstuff.com/ - sporo praktycznych zastosowań pythona\n",
    "- https://docs.djangoproject.com/en/2.0/intro/tutorial01/ - tutorial django, stworzenie pierwszej aplikacji webowej\n",
    "- https://www.apress.com/la/book/9781430227571 - zaawansowana książka o pythonie"
   ]
  },
  {
   "cell_type": "markdown",
   "metadata": {
    "slideshow": {
     "slide_type": "subslide"
    }
   },
   "source": [
    "# Najlepiej wymyślić sobie jakiś projekt do zaprogramowania ;)"
   ]
  }
 ],
 "metadata": {
  "celltoolbar": "Slideshow",
  "kernelspec": {
   "display_name": "Python 3",
   "language": "python",
   "name": "python3"
  },
  "language_info": {
   "codemirror_mode": {
    "name": "ipython",
    "version": 3
   },
   "file_extension": ".py",
   "mimetype": "text/x-python",
   "name": "python",
   "nbconvert_exporter": "python",
   "pygments_lexer": "ipython3",
   "version": "3.6.3"
  }
 },
 "nbformat": 4,
 "nbformat_minor": 2
}
