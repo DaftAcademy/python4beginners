{
 "cells": [
  {
   "cell_type": "markdown",
   "metadata": {
    "slideshow": {
     "slide_type": "slide"
    }
   },
   "source": [
    "# Praca z plikami w pythonie\n",
    "## Jakub Szponder\n",
    "### 14.11.2017, Python 4 Beginners"
   ]
  },
  {
   "cell_type": "code",
   "execution_count": 1,
   "metadata": {
    "slideshow": {
     "slide_type": "slide"
    }
   },
   "outputs": [],
   "source": [
    "f = open('test.txt', 'w')\n",
    "f.write('Linia pierwsza\\n')\n",
    "f.write('Linia druga\\n')\n",
    "f.write('Linia trzecia\\n')\n",
    "f.close()"
   ]
  },
  {
   "cell_type": "markdown",
   "metadata": {
    "slideshow": {
     "slide_type": "subslide"
    }
   },
   "source": [
    "# Otwieranie pliku:\n",
    "- przyjmuje nazwę pliku do otwarcia\n",
    "- reszta argumentów jest opcjonalna, często używa się argumentu mode\n",
    "- mode określa w jakim trybie otwieramy plik\n",
    "- dostępne tryby: 'r' (read), 'w' (write), 'a' (append), 'r+' (read+write)\n",
    "- domyślny tryb to 'r' (read)\n",
    "- write nadpisuje plik, append dodaje do końca\n",
    "- mode określa dodatkowo tryb tekstowy ('t' - domyślnie) lub binarny ('b')\n",
    "- zwraca obiekt pliku\n",
    "\n",
    "\n"
   ]
  },
  {
   "cell_type": "markdown",
   "metadata": {
    "slideshow": {
     "slide_type": "subslide"
    }
   },
   "source": [
    "## Przydatne linki\n",
    "\n",
    "- https://docs.python.org/3/tutorial/inputoutput.html#reading-and-writing-files\n",
    "- https://docs.python.org/3/library/functions.html#open\n",
    "- https://docs.python.org/3/glossary.html#term-file-object\n"
   ]
  },
  {
   "cell_type": "markdown",
   "metadata": {
    "slideshow": {
     "slide_type": "subslide"
    }
   },
   "source": [
    "# Zamykanie pliku:\n",
    "- metoda close dostępna na obiekcie pliku\n",
    "- CPython dzięki garbage collectorowi z licznikiem referencji sam zadba o zamknięcie pliku\n",
    "- mimo tego powinniśmy ZAWSZE zadbać o to sami - to, że CPython zamknie plik to szczegół tej implementacji, część innych implementacji tego nie zapewnia"
   ]
  },
  {
   "cell_type": "markdown",
   "metadata": {
    "slideshow": {
     "slide_type": "subslide"
    }
   },
   "source": [
    "# Dlaczego nie można zostawić otwartego pliku?\n",
    "- wpisane przez nas zmiany mogą nie zostać sflushowane na dysk (zależne od implementacji - flush zapewnia, że dane z bufora zapisują się na dysku)\n",
    "- systemy operacyjne mają limit otwartych plików - możemy dostać wyjątek w przypadku otwarcia zbyt dużej liczby plików\n",
    "- czasami niezamknięty plik uniemożliwia odmontowanie, wyjęcie jakiegoś nośnika danych\n"
   ]
  },
  {
   "cell_type": "markdown",
   "metadata": {
    "slideshow": {
     "slide_type": "subslide"
    }
   },
   "source": [
    "## Przydatne linki:\n",
    "- https://stackoverflow.com/questions/3167494/how-often-does-python-flush-to-a-file\n",
    "- https://askubuntu.com/questions/701491/is-closing-a-file-after-having-opened-it-with-open-required-in-python"
   ]
  },
  {
   "cell_type": "code",
   "execution_count": 76,
   "metadata": {
    "slideshow": {
     "slide_type": "subslide"
    }
   },
   "outputs": [
    {
     "ename": "ZeroDivisionError",
     "evalue": "division by zero",
     "output_type": "error",
     "traceback": [
      "\u001b[0;31m---------------------------------------------------------------------------\u001b[0m",
      "\u001b[0;31mZeroDivisionError\u001b[0m                         Traceback (most recent call last)",
      "\u001b[0;32m<ipython-input-76-50239462e239>\u001b[0m in \u001b[0;36m<module>\u001b[0;34m()\u001b[0m\n\u001b[1;32m      3\u001b[0m \u001b[0mf\u001b[0m\u001b[0;34m.\u001b[0m\u001b[0mwrite\u001b[0m\u001b[0;34m(\u001b[0m\u001b[0;34m'Linia druga\\n'\u001b[0m\u001b[0;34m)\u001b[0m\u001b[0;34m\u001b[0m\u001b[0m\n\u001b[1;32m      4\u001b[0m \u001b[0mf\u001b[0m\u001b[0;34m.\u001b[0m\u001b[0mwrite\u001b[0m\u001b[0;34m(\u001b[0m\u001b[0;34m'Linia trzecia\\n'\u001b[0m\u001b[0;34m)\u001b[0m\u001b[0;34m\u001b[0m\u001b[0m\n\u001b[0;32m----> 5\u001b[0;31m \u001b[0mx\u001b[0m \u001b[0;34m=\u001b[0m \u001b[0;36m1\u001b[0m \u001b[0;34m/\u001b[0m \u001b[0;36m0\u001b[0m\u001b[0;34m\u001b[0m\u001b[0m\n\u001b[0m\u001b[1;32m      6\u001b[0m \u001b[0mf\u001b[0m\u001b[0;34m.\u001b[0m\u001b[0mclose\u001b[0m\u001b[0;34m(\u001b[0m\u001b[0;34m)\u001b[0m\u001b[0;34m\u001b[0m\u001b[0m\n",
      "\u001b[0;31mZeroDivisionError\u001b[0m: division by zero"
     ]
    }
   ],
   "source": [
    "f = open('test.txt', 'w')\n",
    "f.write('Linia pierwsza\\n')\n",
    "f.write('Linia druga\\n')\n",
    "f.write('Linia trzecia\\n')\n",
    "x = 1 / 0\n",
    "f.close()"
   ]
  },
  {
   "cell_type": "markdown",
   "metadata": {
    "slideshow": {
     "slide_type": "slide"
    }
   },
   "source": [
    "# Wyjątki"
   ]
  },
  {
   "cell_type": "markdown",
   "metadata": {
    "slideshow": {
     "slide_type": "subslide"
    }
   },
   "source": [
    "# Syntax Error\n",
    "- błąd z czasu parsowania\n",
    "- błąd składniowy\n",
    "- python nie jest w stanie sparsować naszego kodu\n",
    "\n",
    "https://docs.python.org/3.6/tutorial/errors.html#syntax-errors"
   ]
  },
  {
   "cell_type": "code",
   "execution_count": 2,
   "metadata": {
    "scrolled": true,
    "slideshow": {
     "slide_type": "subslide"
    }
   },
   "outputs": [
    {
     "ename": "SyntaxError",
     "evalue": "invalid syntax (<ipython-input-2-7234bef2bf69>, line 1)",
     "output_type": "error",
     "traceback": [
      "\u001b[0;36m  File \u001b[0;32m\"<ipython-input-2-7234bef2bf69>\"\u001b[0;36m, line \u001b[0;32m1\u001b[0m\n\u001b[0;31m    for i in range(10) print('HELLO')\u001b[0m\n\u001b[0m                           ^\u001b[0m\n\u001b[0;31mSyntaxError\u001b[0m\u001b[0;31m:\u001b[0m invalid syntax\n"
     ]
    }
   ],
   "source": [
    "for i in range(10) print('HELLO')"
   ]
  },
  {
   "cell_type": "markdown",
   "metadata": {
    "slideshow": {
     "slide_type": "subslide"
    }
   },
   "source": [
    "# Exceptions\n",
    "- błędy w trakcie wykonywania programu\n",
    "- zazwyczaj zwracają jakiś opis błędu\n",
    "- można sobie z nimi radzić\n",
    "\n",
    "\n",
    "- https://docs.python.org/3.6/tutorial/errors.html#exceptions\n",
    "- https://jeffknupp.com/blog/2013/02/06/write-cleaner-python-use-exceptions/"
   ]
  },
  {
   "cell_type": "markdown",
   "metadata": {
    "slideshow": {
     "slide_type": "subslide"
    }
   },
   "source": [
    "# Wbudowane wyjątki\n",
    "- instancje klasy dziedziczącej z BaseException\n",
    "- rozbudowana hierarchia błędów - można się uczyć z czasem ;)\n",
    "\n",
    "\n",
    "- https://docs.python.org/3.6/library/exceptions.html#bltin-exceptions"
   ]
  },
  {
   "cell_type": "code",
   "execution_count": 9,
   "metadata": {
    "slideshow": {
     "slide_type": "subslide"
    }
   },
   "outputs": [
    {
     "ename": "ValueError",
     "evalue": "invalid literal for int() with base 10: 'nie int :('",
     "output_type": "error",
     "traceback": [
      "\u001b[0;31m---------------------------------------------------------------------------\u001b[0m",
      "\u001b[0;31mValueError\u001b[0m                                Traceback (most recent call last)",
      "\u001b[0;32m<ipython-input-9-60cdb4e24337>\u001b[0m in \u001b[0;36m<module>\u001b[0;34m()\u001b[0m\n\u001b[0;32m----> 1\u001b[0;31m \u001b[0mmy_int\u001b[0m \u001b[0;34m=\u001b[0m \u001b[0mint\u001b[0m\u001b[0;34m(\u001b[0m\u001b[0;34m'nie int :('\u001b[0m\u001b[0;34m)\u001b[0m\u001b[0;34m\u001b[0m\u001b[0m\n\u001b[0m\u001b[1;32m      2\u001b[0m \u001b[0mprint\u001b[0m\u001b[0;34m(\u001b[0m\u001b[0mmy_int\u001b[0m\u001b[0;34m)\u001b[0m\u001b[0;34m\u001b[0m\u001b[0m\n",
      "\u001b[0;31mValueError\u001b[0m: invalid literal for int() with base 10: 'nie int :('"
     ]
    }
   ],
   "source": [
    "my_int = int('nie int :(')\n",
    "print(my_int)"
   ]
  },
  {
   "cell_type": "code",
   "execution_count": 8,
   "metadata": {
    "slideshow": {
     "slide_type": "subslide"
    }
   },
   "outputs": [
    {
     "name": "stdout",
     "output_type": "stream",
     "text": [
      "Dostalem value error!\n"
     ]
    }
   ],
   "source": [
    "try:\n",
    "    my_int = int('nie int :(')\n",
    "    print(my_int)\n",
    "except ValueError:\n",
    "    print('Dostalem value error!')"
   ]
  },
  {
   "cell_type": "code",
   "execution_count": 7,
   "metadata": {
    "slideshow": {
     "slide_type": "subslide"
    }
   },
   "outputs": [
    {
     "name": "stdout",
     "output_type": "stream",
     "text": [
      "4\n"
     ]
    }
   ],
   "source": [
    "try:\n",
    "    my_int = int('4')\n",
    "    print(my_int)\n",
    "except ValueError:\n",
    "    print('Dostalem value error!')"
   ]
  },
  {
   "cell_type": "code",
   "execution_count": 4,
   "metadata": {
    "slideshow": {
     "slide_type": "subslide"
    }
   },
   "outputs": [
    {
     "name": "stdout",
     "output_type": "stream",
     "text": [
      "4\n",
      "Dostalem ValueError lub KeyError\n"
     ]
    }
   ],
   "source": [
    "try:\n",
    "    my_int = int('4')\n",
    "    print(my_int)\n",
    "    a = {'b': 'c'}\n",
    "    print(a['d'])\n",
    "except (ValueError, KeyError):  # te nawiasy są ważne!\n",
    "    print('Dostalem ValueError lub KeyError')\n"
   ]
  },
  {
   "cell_type": "code",
   "execution_count": 2,
   "metadata": {
    "slideshow": {
     "slide_type": "subslide"
    }
   },
   "outputs": [
    {
     "name": "stdout",
     "output_type": "stream",
     "text": [
      "4\n",
      "Dostalem KeyError\n"
     ]
    }
   ],
   "source": [
    "try:\n",
    "    my_int = int('4')\n",
    "    print(my_int)\n",
    "    a = {'b': 'c'}\n",
    "    print(a['d'])\n",
    "except ValueError:\n",
    "    print('Dostalem ValueError')\n",
    "except KeyError:\n",
    "    print('Dostalem KeyError')"
   ]
  },
  {
   "cell_type": "markdown",
   "metadata": {
    "slideshow": {
     "slide_type": "subslide"
    }
   },
   "source": [
    "- Na początek wykonywany jest kod pomiędzy try, a except\n",
    "- Jeżeli nie ma błędu, kod spomiędzy try a except jest wykonany w całości, a kod w except jest pomijany\n",
    "- Jeżeli pojawi się błąd, wykonanie kodu spomiędzy try a except jest przerwane\n",
    "- Jeżeli błąd jest łapanego przez nas typu, to wykonywany jest kod w except\n",
    "- Jeżeli inny błąd - błąd nie jest łapany i program kończy się z takim błędem"
   ]
  },
  {
   "cell_type": "markdown",
   "metadata": {
    "slideshow": {
     "slide_type": "subslide"
    }
   },
   "source": [
    "Możliwe jest łapanie dowolnego rodzaju błędu - używać z rozwagą - zazwyczaj chcemy łapać konkretny błąd.\n",
    "\n",
    "W ten sposób można łatwo przegapić zwykły błąd programistyczny jak staramy się obsługiwać wszystkie błędy na raz"
   ]
  },
  {
   "cell_type": "code",
   "execution_count": 3,
   "metadata": {
    "slideshow": {
     "slide_type": "subslide"
    }
   },
   "outputs": [
    {
     "name": "stdout",
     "output_type": "stream",
     "text": [
      "xx {'a': 'b'}\n",
      "Dostalem dowolny błąd\n",
      "******\n",
      "4 {'c': 'd'}\n",
      "Dostalem dowolny błąd\n"
     ]
    }
   ],
   "source": [
    "def fun(my_int, my_dict):\n",
    "    print (my_int, my_dict)\n",
    "    try:\n",
    "        int(my_int)\n",
    "        my_dict['a']\n",
    "    except:\n",
    "        print('Dostalem dowolny błąd')\n",
    "\n",
    "fun('xx', {'a': 'b'})\n",
    "print('******')\n",
    "fun('4', {'c': 'd'})"
   ]
  },
  {
   "cell_type": "markdown",
   "metadata": {
    "slideshow": {
     "slide_type": "subslide"
    }
   },
   "source": [
    "Możliwe jest w klauzuli except ponowne rzucenie obsługiwanego właśnie błędu"
   ]
  },
  {
   "cell_type": "code",
   "execution_count": 2,
   "metadata": {
    "slideshow": {
     "slide_type": "subslide"
    }
   },
   "outputs": [
    {
     "name": "stdout",
     "output_type": "stream",
     "text": [
      "xx {'a': 'b'}\n",
      "Dostalem ValueError\n"
     ]
    },
    {
     "ename": "ValueError",
     "evalue": "invalid literal for int() with base 10: 'xx'",
     "output_type": "error",
     "traceback": [
      "\u001b[0;31m---------------------------------------------------------------------------\u001b[0m",
      "\u001b[0;31mValueError\u001b[0m                                Traceback (most recent call last)",
      "\u001b[0;32m<ipython-input-2-40fb02239d3c>\u001b[0m in \u001b[0;36m<module>\u001b[0;34m()\u001b[0m\n\u001b[1;32m      8\u001b[0m         \u001b[0;32mraise\u001b[0m\u001b[0;34m\u001b[0m\u001b[0m\n\u001b[1;32m      9\u001b[0m \u001b[0;34m\u001b[0m\u001b[0m\n\u001b[0;32m---> 10\u001b[0;31m \u001b[0mfun\u001b[0m\u001b[0;34m(\u001b[0m\u001b[0;34m'xx'\u001b[0m\u001b[0;34m,\u001b[0m \u001b[0;34m{\u001b[0m\u001b[0;34m'a'\u001b[0m\u001b[0;34m:\u001b[0m \u001b[0;34m'b'\u001b[0m\u001b[0;34m}\u001b[0m\u001b[0;34m)\u001b[0m\u001b[0;34m\u001b[0m\u001b[0m\n\u001b[0m",
      "\u001b[0;32m<ipython-input-2-40fb02239d3c>\u001b[0m in \u001b[0;36mfun\u001b[0;34m(my_int, my_dict)\u001b[0m\n\u001b[1;32m      2\u001b[0m     \u001b[0mprint\u001b[0m \u001b[0;34m(\u001b[0m\u001b[0mmy_int\u001b[0m\u001b[0;34m,\u001b[0m \u001b[0mmy_dict\u001b[0m\u001b[0;34m)\u001b[0m\u001b[0;34m\u001b[0m\u001b[0m\n\u001b[1;32m      3\u001b[0m     \u001b[0;32mtry\u001b[0m\u001b[0;34m:\u001b[0m\u001b[0;34m\u001b[0m\u001b[0m\n\u001b[0;32m----> 4\u001b[0;31m         \u001b[0mint\u001b[0m\u001b[0;34m(\u001b[0m\u001b[0mmy_int\u001b[0m\u001b[0;34m)\u001b[0m\u001b[0;34m\u001b[0m\u001b[0m\n\u001b[0m\u001b[1;32m      5\u001b[0m         \u001b[0mmy_dict\u001b[0m\u001b[0;34m[\u001b[0m\u001b[0;34m'a'\u001b[0m\u001b[0;34m]\u001b[0m\u001b[0;34m\u001b[0m\u001b[0m\n\u001b[1;32m      6\u001b[0m     \u001b[0;32mexcept\u001b[0m \u001b[0mValueError\u001b[0m\u001b[0;34m:\u001b[0m\u001b[0;34m\u001b[0m\u001b[0m\n",
      "\u001b[0;31mValueError\u001b[0m: invalid literal for int() with base 10: 'xx'"
     ]
    }
   ],
   "source": [
    "def fun(my_int, my_dict):\n",
    "    print (my_int, my_dict)\n",
    "    try:\n",
    "        int(my_int)\n",
    "        my_dict['a']\n",
    "    except ValueError:\n",
    "        print('Dostalem ValueError')\n",
    "        raise\n",
    "\n",
    "fun('xx', {'a': 'b'})"
   ]
  },
  {
   "cell_type": "markdown",
   "metadata": {
    "slideshow": {
     "slide_type": "subslide"
    }
   },
   "source": [
    "Do klauzuli except możemy otrzymać obiekt wyjątku"
   ]
  },
  {
   "cell_type": "code",
   "execution_count": 4,
   "metadata": {
    "slideshow": {
     "slide_type": "subslide"
    }
   },
   "outputs": [
    {
     "name": "stdout",
     "output_type": "stream",
     "text": [
      "x\n",
      "Dostalem błąd\n",
      "type: <class 'ValueError'>\n",
      "args: (\"invalid literal for int() with base 10: 'x'\",)\n",
      "instance: invalid literal for int() with base 10: 'x'\n"
     ]
    }
   ],
   "source": [
    "def fun(my_int):\n",
    "    print (my_int)\n",
    "    try:\n",
    "        int(my_int)\n",
    "    except Exception as exc:\n",
    "        print('Dostalem błąd')\n",
    "        print('type:', type(exc))\n",
    "        print('args:', exc.args)\n",
    "        print('instance:', exc)    \n",
    "fun('x')"
   ]
  },
  {
   "cell_type": "markdown",
   "metadata": {
    "slideshow": {
     "slide_type": "subslide"
    }
   },
   "source": [
    "Rzucanie wyjątków\n",
    "- instrukcja `raise`"
   ]
  },
  {
   "cell_type": "code",
   "execution_count": 43,
   "metadata": {
    "slideshow": {
     "slide_type": "subslide"
    }
   },
   "outputs": [
    {
     "ename": "ValueError",
     "evalue": "Poważny błąd!",
     "output_type": "error",
     "traceback": [
      "\u001b[0;31m---------------------------------------------------------------------------\u001b[0m",
      "\u001b[0;31mValueError\u001b[0m                                Traceback (most recent call last)",
      "\u001b[0;32m<ipython-input-43-f64d36392cbe>\u001b[0m in \u001b[0;36m<module>\u001b[0;34m()\u001b[0m\n\u001b[0;32m----> 1\u001b[0;31m \u001b[0;32mraise\u001b[0m \u001b[0mValueError\u001b[0m\u001b[0;34m(\u001b[0m\u001b[0;34m'Poważny błąd!'\u001b[0m\u001b[0;34m)\u001b[0m\u001b[0;34m\u001b[0m\u001b[0m\n\u001b[0m",
      "\u001b[0;31mValueError\u001b[0m: Poważny błąd!"
     ]
    }
   ],
   "source": [
    "raise ValueError('Poważny błąd!')"
   ]
  },
  {
   "cell_type": "markdown",
   "metadata": {
    "slideshow": {
     "slide_type": "subslide"
    }
   },
   "source": [
    "Możemy rzucać zarówno instancję wyjątku, jak i klasę"
   ]
  },
  {
   "cell_type": "code",
   "execution_count": 50,
   "metadata": {
    "slideshow": {
     "slide_type": "subslide"
    }
   },
   "outputs": [
    {
     "ename": "ValueError",
     "evalue": "",
     "output_type": "error",
     "traceback": [
      "\u001b[0;31m---------------------------------------------------------------------------\u001b[0m",
      "\u001b[0;31mValueError\u001b[0m                                Traceback (most recent call last)",
      "\u001b[0;32m<ipython-input-50-e4c8e09828d5>\u001b[0m in \u001b[0;36m<module>\u001b[0;34m()\u001b[0m\n\u001b[0;32m----> 1\u001b[0;31m \u001b[0;32mraise\u001b[0m \u001b[0mValueError\u001b[0m\u001b[0;34m\u001b[0m\u001b[0m\n\u001b[0m",
      "\u001b[0;31mValueError\u001b[0m: "
     ]
    }
   ],
   "source": [
    "raise ValueError"
   ]
  },
  {
   "cell_type": "markdown",
   "metadata": {
    "slideshow": {
     "slide_type": "subslide"
    }
   },
   "source": [
    "Definiowanie własnych błędów\n",
    "- błąd musi dziedziczyć po Exception\n",
    "- zazwyczaj klasy błędów są proste\n",
    "- często, gdy planujemy stworzyć więcej niż jeden błąd, tworzy się wspólną nadklasę"
   ]
  },
  {
   "cell_type": "code",
   "execution_count": 19,
   "metadata": {
    "slideshow": {
     "slide_type": "subslide"
    }
   },
   "outputs": [
    {
     "name": "stdout",
     "output_type": "stream",
     "text": [
      "Za malo o 6\n"
     ]
    }
   ],
   "source": [
    "class IncorrectGuessError(Exception):\n",
    "    def __init__(self, difference):\n",
    "        self.difference = difference\n",
    "\n",
    "class NumberTooSmall(IncorrectGuessError):\n",
    "    pass\n",
    "\n",
    "class NumberTooBig(IncorrectGuessError):\n",
    "    pass\n",
    "\n",
    "def guess_number(guess):\n",
    "    number = 10\n",
    "    if guess > number:\n",
    "        raise NumberToBig(guess - number)\n",
    "    elif guess < number:\n",
    "        raise NumberTooSmall(number - guess)\n",
    "    else:\n",
    "        print('Brawo')\n",
    "\n",
    "try:\n",
    "    guess_number(4)\n",
    "except NumberTooSmall as exc:\n",
    "    print('Za malo o {}'.format(exc.difference))\n",
    "except NumberTooBig:\n",
    "    print('Za duzo o {}'.format(exc.difference))"
   ]
  },
  {
   "cell_type": "markdown",
   "metadata": {
    "slideshow": {
     "slide_type": "subslide"
    }
   },
   "source": [
    "Dzięki instrukcji `else` możemy wykonać jakiś kod TYLKO wtedy, gdy wybrany kod wykona się bez błędu"
   ]
  },
  {
   "cell_type": "code",
   "execution_count": 21,
   "metadata": {
    "slideshow": {
     "slide_type": "subslide"
    }
   },
   "outputs": [
    {
     "name": "stdout",
     "output_type": "stream",
     "text": [
      "4 {'a': 'b'}\n",
      "Bez błędu!\n",
      "******\n",
      "x {'c': 'd'}\n",
      "Dostalem błąd\n",
      "******\n",
      "4 {'c': 'd'}\n"
     ]
    },
    {
     "ename": "KeyError",
     "evalue": "'a'",
     "output_type": "error",
     "traceback": [
      "\u001b[0;31m---------------------------------------------------------------------------\u001b[0m",
      "\u001b[0;31mKeyError\u001b[0m                                  Traceback (most recent call last)",
      "\u001b[0;32m<ipython-input-21-8aa260a8ac52>\u001b[0m in \u001b[0;36m<module>\u001b[0;34m()\u001b[0m\n\u001b[1;32m     13\u001b[0m \u001b[0mfun\u001b[0m\u001b[0;34m(\u001b[0m\u001b[0;34m'x'\u001b[0m\u001b[0;34m,\u001b[0m \u001b[0;34m{\u001b[0m\u001b[0;34m'c'\u001b[0m\u001b[0;34m:\u001b[0m \u001b[0;34m'd'\u001b[0m\u001b[0;34m}\u001b[0m\u001b[0;34m)\u001b[0m\u001b[0;34m\u001b[0m\u001b[0m\n\u001b[1;32m     14\u001b[0m \u001b[0mprint\u001b[0m\u001b[0;34m(\u001b[0m\u001b[0;34m'******'\u001b[0m\u001b[0;34m)\u001b[0m\u001b[0;34m\u001b[0m\u001b[0m\n\u001b[0;32m---> 15\u001b[0;31m \u001b[0mfun\u001b[0m\u001b[0;34m(\u001b[0m\u001b[0;34m'4'\u001b[0m\u001b[0;34m,\u001b[0m \u001b[0;34m{\u001b[0m\u001b[0;34m'c'\u001b[0m\u001b[0;34m:\u001b[0m \u001b[0;34m'd'\u001b[0m\u001b[0;34m}\u001b[0m\u001b[0;34m)\u001b[0m\u001b[0;34m\u001b[0m\u001b[0m\n\u001b[0m",
      "\u001b[0;32m<ipython-input-21-8aa260a8ac52>\u001b[0m in \u001b[0;36mfun\u001b[0;34m(my_int, my_dict)\u001b[0m\n\u001b[1;32m      3\u001b[0m     \u001b[0;32mtry\u001b[0m\u001b[0;34m:\u001b[0m\u001b[0;34m\u001b[0m\u001b[0m\n\u001b[1;32m      4\u001b[0m         \u001b[0mint\u001b[0m\u001b[0;34m(\u001b[0m\u001b[0mmy_int\u001b[0m\u001b[0;34m)\u001b[0m\u001b[0;34m\u001b[0m\u001b[0m\n\u001b[0;32m----> 5\u001b[0;31m         \u001b[0mmy_dict\u001b[0m\u001b[0;34m[\u001b[0m\u001b[0;34m'a'\u001b[0m\u001b[0;34m]\u001b[0m\u001b[0;34m\u001b[0m\u001b[0m\n\u001b[0m\u001b[1;32m      6\u001b[0m     \u001b[0;32mexcept\u001b[0m \u001b[0mValueError\u001b[0m\u001b[0;34m:\u001b[0m\u001b[0;34m\u001b[0m\u001b[0m\n\u001b[1;32m      7\u001b[0m         \u001b[0mprint\u001b[0m\u001b[0;34m(\u001b[0m\u001b[0;34m'Dostalem błąd'\u001b[0m\u001b[0;34m)\u001b[0m\u001b[0;34m\u001b[0m\u001b[0m\n",
      "\u001b[0;31mKeyError\u001b[0m: 'a'"
     ]
    }
   ],
   "source": [
    "def fun(my_int, my_dict):\n",
    "    print (my_int, my_dict)\n",
    "    try:\n",
    "        int(my_int)\n",
    "        my_dict['a']\n",
    "    except ValueError:\n",
    "        print('Dostalem błąd')\n",
    "    else:\n",
    "        print('Bez błędu!')\n",
    "\n",
    "fun('4', {'a': 'b'})\n",
    "print('******')\n",
    "fun('x', {'c': 'd'})\n",
    "print('******')\n",
    "fun('4', {'c': 'd'})"
   ]
  },
  {
   "cell_type": "markdown",
   "metadata": {
    "slideshow": {
     "slide_type": "subslide"
    }
   },
   "source": [
    "Kod, który chcemy żeby wykonał się zawsze umieszczamy w bloku `finally`"
   ]
  },
  {
   "cell_type": "code",
   "execution_count": 22,
   "metadata": {
    "slideshow": {
     "slide_type": "subslide"
    }
   },
   "outputs": [
    {
     "name": "stdout",
     "output_type": "stream",
     "text": [
      "4 {'a': 'b'}\n",
      "Bez błędu!\n",
      "Zawsze!\n",
      "******\n",
      "x {'c': 'd'}\n",
      "Dostalem błąd\n",
      "Zawsze!\n",
      "******\n",
      "4 {'c': 'd'}\n",
      "Zawsze!\n"
     ]
    },
    {
     "ename": "KeyError",
     "evalue": "'a'",
     "output_type": "error",
     "traceback": [
      "\u001b[0;31m---------------------------------------------------------------------------\u001b[0m",
      "\u001b[0;31mKeyError\u001b[0m                                  Traceback (most recent call last)",
      "\u001b[0;32m<ipython-input-22-bdd8e5ffd7d9>\u001b[0m in \u001b[0;36m<module>\u001b[0;34m()\u001b[0m\n\u001b[1;32m     15\u001b[0m \u001b[0mfun\u001b[0m\u001b[0;34m(\u001b[0m\u001b[0;34m'x'\u001b[0m\u001b[0;34m,\u001b[0m \u001b[0;34m{\u001b[0m\u001b[0;34m'c'\u001b[0m\u001b[0;34m:\u001b[0m \u001b[0;34m'd'\u001b[0m\u001b[0;34m}\u001b[0m\u001b[0;34m)\u001b[0m\u001b[0;34m\u001b[0m\u001b[0m\n\u001b[1;32m     16\u001b[0m \u001b[0mprint\u001b[0m\u001b[0;34m(\u001b[0m\u001b[0;34m'******'\u001b[0m\u001b[0;34m)\u001b[0m\u001b[0;34m\u001b[0m\u001b[0m\n\u001b[0;32m---> 17\u001b[0;31m \u001b[0mfun\u001b[0m\u001b[0;34m(\u001b[0m\u001b[0;34m'4'\u001b[0m\u001b[0;34m,\u001b[0m \u001b[0;34m{\u001b[0m\u001b[0;34m'c'\u001b[0m\u001b[0;34m:\u001b[0m \u001b[0;34m'd'\u001b[0m\u001b[0;34m}\u001b[0m\u001b[0;34m)\u001b[0m\u001b[0;34m\u001b[0m\u001b[0m\n\u001b[0m",
      "\u001b[0;32m<ipython-input-22-bdd8e5ffd7d9>\u001b[0m in \u001b[0;36mfun\u001b[0;34m(my_int, my_dict)\u001b[0m\n\u001b[1;32m      3\u001b[0m     \u001b[0;32mtry\u001b[0m\u001b[0;34m:\u001b[0m\u001b[0;34m\u001b[0m\u001b[0m\n\u001b[1;32m      4\u001b[0m         \u001b[0mint\u001b[0m\u001b[0;34m(\u001b[0m\u001b[0mmy_int\u001b[0m\u001b[0;34m)\u001b[0m\u001b[0;34m\u001b[0m\u001b[0m\n\u001b[0;32m----> 5\u001b[0;31m         \u001b[0mmy_dict\u001b[0m\u001b[0;34m[\u001b[0m\u001b[0;34m'a'\u001b[0m\u001b[0;34m]\u001b[0m\u001b[0;34m\u001b[0m\u001b[0m\n\u001b[0m\u001b[1;32m      6\u001b[0m     \u001b[0;32mexcept\u001b[0m \u001b[0mValueError\u001b[0m\u001b[0;34m:\u001b[0m\u001b[0;34m\u001b[0m\u001b[0m\n\u001b[1;32m      7\u001b[0m         \u001b[0mprint\u001b[0m\u001b[0;34m(\u001b[0m\u001b[0;34m'Dostalem błąd'\u001b[0m\u001b[0;34m)\u001b[0m\u001b[0;34m\u001b[0m\u001b[0m\n",
      "\u001b[0;31mKeyError\u001b[0m: 'a'"
     ]
    }
   ],
   "source": [
    "def fun(my_int, my_dict):\n",
    "    print (my_int, my_dict)\n",
    "    try:\n",
    "        int(my_int)\n",
    "        my_dict['a']\n",
    "    except ValueError:\n",
    "        print('Dostalem błąd')\n",
    "    else:\n",
    "        print('Bez błędu!')\n",
    "    finally:\n",
    "        print('Zawsze!')\n",
    "\n",
    "fun('4', {'a': 'b'})\n",
    "print('******')\n",
    "fun('x', {'c': 'd'})\n",
    "print('******')\n",
    "fun('4', {'c': 'd'})"
   ]
  },
  {
   "cell_type": "markdown",
   "metadata": {
    "slideshow": {
     "slide_type": "slide"
    }
   },
   "source": [
    "# Zamykanie pliku c.d."
   ]
  },
  {
   "cell_type": "code",
   "execution_count": 3,
   "metadata": {
    "slideshow": {
     "slide_type": "subslide"
    }
   },
   "outputs": [
    {
     "name": "stdout",
     "output_type": "stream",
     "text": [
      "Zamykam plik\n",
      "Plik zamkniety\n"
     ]
    },
    {
     "ename": "ZeroDivisionError",
     "evalue": "division by zero",
     "output_type": "error",
     "traceback": [
      "\u001b[0;31m---------------------------------------------------------------------------\u001b[0m",
      "\u001b[0;31mZeroDivisionError\u001b[0m                         Traceback (most recent call last)",
      "\u001b[0;32m<ipython-input-3-016b748dc8e7>\u001b[0m in \u001b[0;36m<module>\u001b[0;34m()\u001b[0m\n\u001b[1;32m      4\u001b[0m     \u001b[0mf\u001b[0m\u001b[0;34m.\u001b[0m\u001b[0mwrite\u001b[0m\u001b[0;34m(\u001b[0m\u001b[0;34m'Linia druga\\n'\u001b[0m\u001b[0;34m)\u001b[0m\u001b[0;34m\u001b[0m\u001b[0m\n\u001b[1;32m      5\u001b[0m     \u001b[0mf\u001b[0m\u001b[0;34m.\u001b[0m\u001b[0mwrite\u001b[0m\u001b[0;34m(\u001b[0m\u001b[0;34m'Linia trzecia\\n'\u001b[0m\u001b[0;34m)\u001b[0m\u001b[0;34m\u001b[0m\u001b[0m\n\u001b[0;32m----> 6\u001b[0;31m     \u001b[0mx\u001b[0m \u001b[0;34m=\u001b[0m \u001b[0;36m1\u001b[0m \u001b[0;34m/\u001b[0m \u001b[0;36m0\u001b[0m\u001b[0;34m\u001b[0m\u001b[0m\n\u001b[0m\u001b[1;32m      7\u001b[0m \u001b[0;32mfinally\u001b[0m\u001b[0;34m:\u001b[0m\u001b[0;34m\u001b[0m\u001b[0m\n\u001b[1;32m      8\u001b[0m     \u001b[0mprint\u001b[0m\u001b[0;34m(\u001b[0m\u001b[0;34m'Zamykam plik'\u001b[0m\u001b[0;34m)\u001b[0m\u001b[0;34m\u001b[0m\u001b[0m\n",
      "\u001b[0;31mZeroDivisionError\u001b[0m: division by zero"
     ]
    }
   ],
   "source": [
    "try:\n",
    "    f = open('test.txt', 'w')\n",
    "    f.write('Linia pierwsza\\n')\n",
    "    f.write('Linia druga\\n')\n",
    "    f.write('Linia trzecia\\n')\n",
    "    x = 1 / 0\n",
    "finally:\n",
    "    print('Zamykam plik')\n",
    "    f.close()\n",
    "    print('Plik zamkniety')"
   ]
  },
  {
   "cell_type": "markdown",
   "metadata": {
    "slideshow": {
     "slide_type": "subslide"
    }
   },
   "source": [
    "O zamknięcie pliku da się zadbać łatwiej"
   ]
  },
  {
   "cell_type": "code",
   "execution_count": 80,
   "metadata": {
    "slideshow": {
     "slide_type": "subslide"
    }
   },
   "outputs": [
    {
     "ename": "ZeroDivisionError",
     "evalue": "division by zero",
     "output_type": "error",
     "traceback": [
      "\u001b[0;31m---------------------------------------------------------------------------\u001b[0m",
      "\u001b[0;31mZeroDivisionError\u001b[0m                         Traceback (most recent call last)",
      "\u001b[0;32m<ipython-input-80-40cb5219ce7d>\u001b[0m in \u001b[0;36m<module>\u001b[0;34m()\u001b[0m\n\u001b[1;32m      3\u001b[0m     \u001b[0mf\u001b[0m\u001b[0;34m.\u001b[0m\u001b[0mwrite\u001b[0m\u001b[0;34m(\u001b[0m\u001b[0;34m'Linia druga\\n'\u001b[0m\u001b[0;34m)\u001b[0m\u001b[0;34m\u001b[0m\u001b[0m\n\u001b[1;32m      4\u001b[0m     \u001b[0mf\u001b[0m\u001b[0;34m.\u001b[0m\u001b[0mwrite\u001b[0m\u001b[0;34m(\u001b[0m\u001b[0;34m'Linia trzecia\\n'\u001b[0m\u001b[0;34m)\u001b[0m\u001b[0;34m\u001b[0m\u001b[0m\n\u001b[0;32m----> 5\u001b[0;31m     \u001b[0mx\u001b[0m \u001b[0;34m=\u001b[0m \u001b[0;36m1\u001b[0m \u001b[0;34m/\u001b[0m \u001b[0;36m0\u001b[0m\u001b[0;34m\u001b[0m\u001b[0m\n\u001b[0m",
      "\u001b[0;31mZeroDivisionError\u001b[0m: division by zero"
     ]
    }
   ],
   "source": [
    "with open('test.txt', 'w') as f:\n",
    "    f.write('Linia pierwsza\\n')\n",
    "    f.write('Linia druga\\n')\n",
    "    f.write('Linia trzecia\\n')\n",
    "    x = 1 / 0"
   ]
  },
  {
   "cell_type": "markdown",
   "metadata": {
    "slideshow": {
     "slide_type": "subslide"
    }
   },
   "source": [
    "# with\n",
    "\n",
    "- with jest używane do owinięcia bloku kodu za pomocą metod określonych w context managerze\n",
    "- używane do zarządzania zasobami, które są używane w danym bloku\n",
    "- da się dzięki temu ładnie owinąć try...except...finally\n",
    "\n",
    "\n",
    "- https://docs.python.org/3/reference/compound_stmts.html#with\n",
    "- https://www.python.org/dev/peps/pep-0343/"
   ]
  },
  {
   "cell_type": "markdown",
   "metadata": {
    "slideshow": {
     "slide_type": "subslide"
    }
   },
   "source": [
    "# contextmanager\n",
    "\n",
    "- obiekt, który definiuje w jakim kontekście ma się wywołać owijany kod\n",
    "- określa, co ma zrobić kod, który ma zostać wykonany na początku takiego bloku i na koniec\n",
    "- zazwyczaj wywoływane ze pomocą with, ale da się też bezpośrednio wywołać poszczególne metody\n",
    "- przykłady użycia: zamykanie otwartych plików, zwalnianie zasobów/locków, przywracanie jakeigoś globalnego stanu\n",
    "\n",
    "\n",
    "- https://docs.python.org/3/reference/datamodel.html#context-managers\n",
    "- https://docs.python.org/3/library/stdtypes.html#typecontextmanager"
   ]
  },
  {
   "cell_type": "markdown",
   "metadata": {
    "slideshow": {
     "slide_type": "slide"
    }
   },
   "source": [
    "# Praca z plikami w trybie tekstowym"
   ]
  },
  {
   "cell_type": "code",
   "execution_count": 4,
   "metadata": {
    "slideshow": {
     "slide_type": "subslide"
    }
   },
   "outputs": [
    {
     "name": "stdout",
     "output_type": "stream",
     "text": [
      "<class 'str'>\n",
      "Linia 1\n",
      "Linia 2\n",
      "Linia 3\n",
      "Linia 4\n",
      "\n"
     ]
    }
   ],
   "source": [
    "# czytanie całego tekstu z pliku na raz\n",
    "with open('multiline_file.txt', 'r') as file:\n",
    "    file_data = file.read()\n",
    "    print(type(file_data))\n",
    "    print(file_data)"
   ]
  },
  {
   "cell_type": "code",
   "execution_count": 7,
   "metadata": {
    "slideshow": {
     "slide_type": "subslide"
    }
   },
   "outputs": [
    {
     "name": "stdout",
     "output_type": "stream",
     "text": [
      "Lini\n",
      "a 1\n",
      "\n",
      "Lini\n"
     ]
    }
   ],
   "source": [
    "# czytanie wybranej liczby znaków\n",
    "with open('multiline_file.txt', 'r') as file:\n",
    "    print(file.read(4))\n",
    "    print(file.read(4))\n",
    "    print(file.read(4))"
   ]
  },
  {
   "cell_type": "code",
   "execution_count": 8,
   "metadata": {
    "slideshow": {
     "slide_type": "subslide"
    }
   },
   "outputs": [
    {
     "name": "stdout",
     "output_type": "stream",
     "text": [
      "Linia 1\n",
      "Linia 2\n",
      "Linia 3\n",
      "Linia 4\n"
     ]
    }
   ],
   "source": [
    "# czytanie pojedynczej linii\n",
    "with open('multiline_file.txt', 'r') as file:\n",
    "    print(file.readline(), end='')\n",
    "    print(file.readline(), end='')\n",
    "    print(file.readline(), end='')\n",
    "    print(file.readline(), end='')"
   ]
  },
  {
   "cell_type": "code",
   "execution_count": 9,
   "metadata": {
    "slideshow": {
     "slide_type": "subslide"
    }
   },
   "outputs": [
    {
     "name": "stdout",
     "output_type": "stream",
     "text": [
      "<class 'list'>\n",
      "['Linia 1\\n', 'Linia 2\\n', 'Linia 3\\n', 'Linia 4\\n']\n"
     ]
    }
   ],
   "source": [
    "# wczytanie wszystkich linii\n",
    "with open('multiline_file.txt', 'r') as file:\n",
    "    file_data = file.readlines()\n",
    "    print(type(file_data))\n",
    "    print(file_data)\n"
   ]
  },
  {
   "cell_type": "code",
   "execution_count": 10,
   "metadata": {
    "slideshow": {
     "slide_type": "subslide"
    }
   },
   "outputs": [
    {
     "name": "stdout",
     "output_type": "stream",
     "text": [
      "Linia 1\n",
      "Linia 2\n",
      "Linia 3\n",
      "Linia 4\n"
     ]
    }
   ],
   "source": [
    "# iterowanie po liniach w pliku\n",
    "with open('multiline_file.txt', 'r') as file:\n",
    "    for line in file:\n",
    "        print(line, end='')\n"
   ]
  },
  {
   "cell_type": "code",
   "execution_count": 11,
   "metadata": {
    "slideshow": {
     "slide_type": "subslide"
    }
   },
   "outputs": [
    {
     "name": "stdout",
     "output_type": "stream",
     "text": [
      "Nowa linia 1\n",
      "Nowa linia 2\n",
      "Nowa linia 3\n",
      "Nowa linia 4\n"
     ]
    }
   ],
   "source": [
    "# tryb write powoduje nadpisanie zawartości pliku\n",
    "with open('multiline_file.txt', 'w') as file:\n",
    "    file.write('Nowa linia 1\\n')\n",
    "    file.write('Nowa linia 2\\n')\n",
    "    file.write('Nowa linia 3\\n')\n",
    "    file.write('Nowa linia 4\\n')\n",
    "    \n",
    "with open('multiline_file.txt', 'r') as file:\n",
    "    for line in file:\n",
    "        print(line, end='')"
   ]
  },
  {
   "cell_type": "code",
   "execution_count": 12,
   "metadata": {
    "slideshow": {
     "slide_type": "subslide"
    }
   },
   "outputs": [
    {
     "name": "stdout",
     "output_type": "stream",
     "text": [
      "Nowa linia 1\n",
      "Nowa linia 2\n",
      "Nowa linia 3\n",
      "Nowa linia 4\n",
      "APPEND Nowa linia\n"
     ]
    }
   ],
   "source": [
    "# tryb append pozwala dodawać treść na koniec pliku\n",
    "with open('multiline_file.txt', 'a') as file:\n",
    "    file.write('APPEND Nowa linia\\n')\n",
    "\n",
    "with open('multiline_file.txt', 'r') as file:\n",
    "    for line in file:\n",
    "        print(line, end='')"
   ]
  },
  {
   "cell_type": "code",
   "execution_count": 13,
   "metadata": {
    "slideshow": {
     "slide_type": "subslide"
    }
   },
   "outputs": [
    {
     "name": "stdout",
     "output_type": "stream",
     "text": [
      "13\n"
     ]
    }
   ],
   "source": [
    "# file.write() zwraca liczbe zapisanych znakow\n",
    "with open('another_file.txt', 'w') as file:\n",
    "    how_many = file.write('Nowa linia 1\\n')\n",
    "print(how_many)"
   ]
  },
  {
   "cell_type": "markdown",
   "metadata": {
    "slideshow": {
     "slide_type": "slide"
    }
   },
   "source": [
    "# Rozwiążmy zadanie rekrutacyjne w pythonie\n",
    "\n",
    "Jesteś organizatorem Bardzo Popularnej Światowej Konferencji.\n",
    "Zorganizowałeś już kilka edycji.\n",
    "Listę e-maili uczestników konferencji przechowujesz w pliku CSV (pola\n",
    "oddzielone średnikiem (`;`), wiersze oddzielone pojedynczym znakiem nowej\n",
    "linii (`\\n`)).\n",
    "Wiesz, że każdy uczestnik ma adres email w formie:\n",
    "    aaaaaa@bbbbb.cc\n",
    "gdzie:\n",
    "aaaaaa - login\n",
    "bbbbb - domena firmy w jakiej pracuje uczestnik\n",
    "cc - kraj zamieszkania uczestnika\n",
    "długość pól a, b, nie jest stała. \n",
    "maile takie jak:\n",
    "ala@xyz.pl i ala@xyz.at reprezentują dwie różne osoby.\n",
    "\n",
    "Chciałbyś czegoś dowiedzieć się o uczestnikach konferencji. \n",
    "\n",
    "Proszę odpowiedz na poniższe pytania:"
   ]
  },
  {
   "cell_type": "markdown",
   "metadata": {
    "slideshow": {
     "slide_type": "subslide"
    }
   },
   "source": [
    "### 1. Ilu uczestników było na więcej niż jednej konferencji?\n",
    "### 2. Ilu pracowników z Wielkiej Ogólnoświatowej Korporacji (WOK) uczestniczyło w przynajmniej jednej konferencji?\n",
    "### 3. Z ilu krajów pochodzą uczestnicy wszystkich konferencji?"
   ]
  },
  {
   "cell_type": "code",
   "execution_count": 58,
   "metadata": {
    "slideshow": {
     "slide_type": "subslide"
    }
   },
   "outputs": [],
   "source": [
    "import csv\n",
    "\n",
    "def get_conferences_for_emails():\n",
    "    with open('conferences_data.csv') as csv_file:\n",
    "        reader = csv.reader(csv_file, delimiter=';')\n",
    "        next(reader)\n",
    "        conferences_for_emails = {}\n",
    "        for row in reader:\n",
    "            for conference, email in enumerate(row):\n",
    "                if not email:  # pomijamy puste emaile (listy uczestnikow sa roznej dlugosci)\n",
    "                    continue\n",
    "                try:\n",
    "                    conferences = conferences_for_emails[email]\n",
    "                except KeyError:\n",
    "                    conferences = set()\n",
    "                    conferences_for_emails[email] = conferences\n",
    "                conferences.add(conference)\n",
    "    return conferences_for_emails\n",
    "\n",
    "conferences_for_emails = get_conferences_for_emails()"
   ]
  },
  {
   "cell_type": "code",
   "execution_count": 54,
   "metadata": {
    "slideshow": {
     "slide_type": "subslide"
    }
   },
   "outputs": [
    {
     "name": "stdout",
     "output_type": "stream",
     "text": [
      "210\n"
     ]
    }
   ],
   "source": [
    "# 1. Ilu uczestników było na więcej niż jednej konferencji?\n",
    "result1 = len([x for x, y in conferences_for_emails.items() if len(y) > 1])\n",
    "print(result1)"
   ]
  },
  {
   "cell_type": "code",
   "execution_count": 55,
   "metadata": {
    "slideshow": {
     "slide_type": "subslide"
    }
   },
   "outputs": [
    {
     "name": "stdout",
     "output_type": "stream",
     "text": [
      "74\n"
     ]
    }
   ],
   "source": [
    "# 2. Ilu pracowników z Wielkiej Ogólnoświatowej Korporacji (WOK) uczestniczyło w przynajmniej jednej konferencji?\n",
    "\n",
    "def get_company_from_email(email):\n",
    "    _, domain = email.split('@')\n",
    "    company, _ = domain.split('.')\n",
    "    return company\n",
    "\n",
    "result2 = len([email for email in conferences_for_emails if get_company_from_email(email) == 'wok'])\n",
    "print(result2)"
   ]
  },
  {
   "cell_type": "code",
   "execution_count": 56,
   "metadata": {
    "slideshow": {
     "slide_type": "subslide"
    }
   },
   "outputs": [
    {
     "name": "stdout",
     "output_type": "stream",
     "text": [
      "19\n"
     ]
    }
   ],
   "source": [
    "# 3. Z ilu krajów pochodzą uczestnicy wszystkich konferencji?\n",
    "\n",
    "def get_country_from_email(email):\n",
    "    _, domain = email.split('@')\n",
    "    _, country = domain.split('.')\n",
    "    return country\n",
    "\n",
    "result3 = len(set([get_country_from_email(email) for email in conferences_for_emails]))\n",
    "print(result3)"
   ]
  },
  {
   "cell_type": "markdown",
   "metadata": {
    "slideshow": {
     "slide_type": "slide"
    }
   },
   "source": [
    "## Wypisać 10 najczęściej występujących słów w Panu Tadeuszu"
   ]
  },
  {
   "cell_type": "code",
   "execution_count": 49,
   "metadata": {
    "slideshow": {
     "slide_type": "subslide"
    }
   },
   "outputs": [
    {
     "name": "stdout",
     "output_type": "stream",
     "text": [
      "[('i', 1046), ('w', 949), ('się', 649), ('na', 622), ('z', 417), ('jak', 302), ('do', 278), ('s', 262), ('nie', 253), ('że', 251)]\n"
     ]
    }
   ],
   "source": [
    "# Wypisać 10 najczęściej występujących słów w Panu Tadeuszu\n",
    "# https://www.gutenberg.org/ebooks/31536\n",
    "# https://docs.python.org/2/library/collections.html#collections.Counter\n",
    "\n",
    "from collections import Counter\n",
    "counter = Counter()\n",
    "with open('pan_tadeusz.txt', 'r') as file:\n",
    "    book_started = False\n",
    "    for line in file:\n",
    "        if not book_started:\n",
    "            if '*** START OF THIS PROJECT GUTENBERG EBOOK' in line:\n",
    "                book_started = True\n",
    "            else:\n",
    "                continue\n",
    "        if '*** END OF THIS PROJECT GUTENBERG EBOOK' in line:\n",
    "            break\n",
    "\n",
    "        words = [word.lower() for word in line.split() if word.isalpha()]\n",
    "        counter.update(words)\n",
    "\n",
    "print(counter.most_common(10))"
   ]
  },
  {
   "cell_type": "markdown",
   "metadata": {
    "slideshow": {
     "slide_type": "slide"
    }
   },
   "source": [
    "# Praca z plikami w trybie binarnym\n",
    "\n",
    "- tryb otwarcia pliku z 'b' na końcu\n",
    "- umożliwia pracę z plikami niezawierającymi tekstu\n"
   ]
  },
  {
   "cell_type": "code",
   "execution_count": 16,
   "metadata": {
    "slideshow": {
     "slide_type": "subslide"
    }
   },
   "outputs": [
    {
     "name": "stdout",
     "output_type": "stream",
     "text": [
      "<class 'bytes'>\n"
     ]
    }
   ],
   "source": [
    "with open('p4b_logo.bmp', 'rb') as fr:\n",
    "    data = fr.read()\n",
    "    print(type(data))\n",
    "with open('copy_p4b_logo.bmp', 'wb') as fw:\n",
    "    fw.write(data)"
   ]
  },
  {
   "cell_type": "markdown",
   "metadata": {
    "slideshow": {
     "slide_type": "subslide"
    }
   },
   "source": [
    "Przydatne funkcje\n",
    "- seek - ustawia aktualną pozycję wskaźnika pozycji w pliku na wybraną\n",
    "- tell - zwraca aktualną pozycję wskaźnika w pliku"
   ]
  },
  {
   "cell_type": "code",
   "execution_count": 15,
   "metadata": {
    "slideshow": {
     "slide_type": "subslide"
    }
   },
   "outputs": [
    {
     "name": "stdout",
     "output_type": "stream",
     "text": [
      "0\n",
      "10\n",
      "0\n",
      "100\n"
     ]
    }
   ],
   "source": [
    "with open('p4b_logo.bmp', 'rb') as fr:\n",
    "    print(fr.tell())\n",
    "    ten_bytes = fr.read(10)\n",
    "    print(fr.tell())\n",
    "    fr.seek(0)\n",
    "    print(fr.tell())\n",
    "    fr.seek(100)\n",
    "    print(fr.tell())"
   ]
  },
  {
   "cell_type": "markdown",
   "metadata": {
    "slideshow": {
     "slide_type": "subslide"
    }
   },
   "source": [
    "## bytes\n",
    "- wczytywane dane binarne są typu bytes - niezmiennej sekwencji 8-bitowych wartości (0-255)\n",
    "\n",
    "\n",
    "## bytearray\n",
    "- zmienna (mutowalna) wersja bytes\n",
    "- jeżeli chcemy zmodyfikować plik, lepiej używać bytearray\n",
    "\n",
    "\n",
    "- https://www.w3resource.com/python/python-bytes.php#bytes\n",
    "- https://www.devdungeon.com/content/working-binary-data-python"
   ]
  },
  {
   "cell_type": "code",
   "execution_count": 19,
   "metadata": {
    "slideshow": {
     "slide_type": "subslide"
    }
   },
   "outputs": [
    {
     "name": "stdout",
     "output_type": "stream",
     "text": [
      "<class 'bytes'>\n",
      "<class 'bytearray'>\n"
     ]
    }
   ],
   "source": [
    "with open('p4b_logo.bmp', 'rb') as fr:\n",
    "    data = fr.read()\n",
    "    print(type(data))\n",
    "    data = bytearray(data)\n",
    "    print(type(data))\n",
    "with open('another_copy_p4b_logo.bmp', 'wb') as fw:\n",
    "    fw.write(data)"
   ]
  }
 ],
 "metadata": {
  "celltoolbar": "Slideshow",
  "kernelspec": {
   "display_name": "Python 3",
   "language": "python",
   "name": "python3"
  },
  "language_info": {
   "codemirror_mode": {
    "name": "ipython",
    "version": 3
   },
   "file_extension": ".py",
   "mimetype": "text/x-python",
   "name": "python",
   "nbconvert_exporter": "python",
   "pygments_lexer": "ipython3",
   "version": "3.5.2"
  }
 },
 "nbformat": 4,
 "nbformat_minor": 2
}
