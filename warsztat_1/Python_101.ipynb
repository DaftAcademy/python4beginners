{
 "cells": [
  {
   "cell_type": "markdown",
   "metadata": {
    "slideshow": {
     "slide_type": "slide"
    }
   },
   "source": [
    "# Szybkie wprowadzenie do języka Python\n",
    "## Marcin Jaroszewski\n",
    "### 24.X.2017, Python4Beginners"
   ]
  },
  {
   "cell_type": "markdown",
   "metadata": {
    "slideshow": {
     "slide_type": "slide"
    }
   },
   "source": [
    "## 1. Python jest interpretowany\n"
   ]
  },
  {
   "cell_type": "markdown",
   "metadata": {
    "slideshow": {
     "slide_type": "subslide"
    }
   },
   "source": [
    "To znaczy, że nie musimy kompilować naszych programów do plików wykonywalnych. (Zaleta)"
   ]
  },
  {
   "cell_type": "markdown",
   "metadata": {
    "slideshow": {
     "slide_type": "subslide"
    }
   },
   "source": [
    "Jednakże musimy mieć interpreter, żeby uruchomić program napisany w Python. (Wada)"
   ]
  },
  {
   "cell_type": "markdown",
   "metadata": {
    "slideshow": {
     "slide_type": "subslide"
    }
   },
   "source": [
    "Dzięki interpretowalności większość programów napisanych w Python można łatwo przenieść z jednej platformy na inną (np Windows <-> Linux <-> MacOS). (Zaleta)"
   ]
  },
  {
   "cell_type": "markdown",
   "metadata": {
    "slideshow": {
     "slide_type": "slide"
    }
   },
   "source": [
    "## 2. Zmienne"
   ]
  },
  {
   "cell_type": "markdown",
   "metadata": {
    "slideshow": {
     "slide_type": "subslide"
    }
   },
   "source": [
    "### Python jest dynamicznie typowany\n",
    "Nie trzeba deklarować typu zmiennej przed przypisaniem jej wartości."
   ]
  },
  {
   "cell_type": "code",
   "execution_count": 22,
   "metadata": {
    "slideshow": {
     "slide_type": "subslide"
    }
   },
   "outputs": [
    {
     "name": "stdout",
     "output_type": "stream",
     "text": [
      "1\n",
      "<class 'int'>\n",
      "2.3\n",
      "<class 'float'>\n",
      "tralala\n",
      "<class 'str'>\n",
      "Podwójne ciapki też dają string\n",
      "<class 'str'>\n"
     ]
    }
   ],
   "source": [
    "# Linie zaczynające się od znaku # nie są wykonywane\n",
    "# Przykłady prostych zmiennych\n",
    "a = 1  # Liczba całkowita - int\n",
    "print(a)  # Wypisanie wartości zmiennej na ekran\n",
    "print(type(a))  # Wypisanie typu zmiennej na ekran\n",
    "b = 2.3  # Liczba zmiennoprzecinkowa - float\n",
    "print(b)\n",
    "print(type(b))\n",
    "c = 'tralala'  # Ciąg znaków - string\n",
    "print(c)\n",
    "print(type(c))\n",
    "d = \"Podwójne ciapki też dają string\"\n",
    "print(d)\n",
    "print(type(d))"
   ]
  },
  {
   "cell_type": "markdown",
   "metadata": {
    "slideshow": {
     "slide_type": "subslide"
    }
   },
   "source": [
    "### Typowanie jest silne\n",
    "Oznacz to, ze typy mają znaczenie przy wykonywaniu operacji"
   ]
  },
  {
   "cell_type": "markdown",
   "metadata": {
    "slideshow": {
     "slide_type": "subslide"
    }
   },
   "source": [
    "Nazwy zmiennych to tylko wskaźniki/referencje do obiektów \"pod spodem\", a nie obiekty wprost.\n"
   ]
  },
  {
   "cell_type": "markdown",
   "metadata": {
    "slideshow": {
     "slide_type": "slide"
    }
   },
   "source": [
    "## 3. Podstawowe typy danych"
   ]
  },
  {
   "cell_type": "markdown",
   "metadata": {
    "slideshow": {
     "slide_type": "subslide"
    }
   },
   "source": [
    "### bool - typ logiczny"
   ]
  },
  {
   "cell_type": "markdown",
   "metadata": {
    "slideshow": {
     "slide_type": "subslide"
    }
   },
   "source": [
    "Są dwie dozwolone wartości `True` i `False` oznaczająco kolejno prawdę i fałsz.\n",
    "Obiekty wielu innych typów danych mogą być prztestowane na wartość logiczną."
   ]
  },
  {
   "cell_type": "markdown",
   "metadata": {
    "slideshow": {
     "slide_type": "subslide"
    }
   },
   "source": [
    "### int - Liczby całkowite"
   ]
  },
  {
   "cell_type": "markdown",
   "metadata": {
    "slideshow": {
     "slide_type": "subslide"
    }
   },
   "source": [
    "Niezmienne."
   ]
  },
  {
   "cell_type": "markdown",
   "metadata": {
    "slideshow": {
     "slide_type": "subslide"
    }
   },
   "source": [
    "Jedynym ograniczeniem na długość liczby jest całkowita dostępna pamięć."
   ]
  },
  {
   "cell_type": "markdown",
   "metadata": {
    "slideshow": {
     "slide_type": "subslide"
    }
   },
   "source": [
    "Należy jednak pamietać, że operacje na bardzo wielkich liczbach są powolne."
   ]
  },
  {
   "cell_type": "code",
   "execution_count": 23,
   "metadata": {
    "slideshow": {
     "slide_type": "subslide"
    }
   },
   "outputs": [
    {
     "name": "stdout",
     "output_type": "stream",
     "text": [
      "<class 'int'> 5\n",
      "<class 'int'> -3\n",
      "<class 'int'> 123456789123456789\n"
     ]
    }
   ],
   "source": [
    "a = 5\n",
    "b = -3\n",
    "c = 123456789123456789\n",
    "print(type(a), a)\n",
    "print(type(b), b)\n",
    "print(type(c), c)"
   ]
  },
  {
   "cell_type": "markdown",
   "metadata": {
    "slideshow": {
     "slide_type": "subslide"
    }
   },
   "source": [
    "### float - liczby zmiennoprzecinkowe"
   ]
  },
  {
   "cell_type": "markdown",
   "metadata": {
    "slideshow": {
     "slide_type": "subslide"
    }
   },
   "source": [
    "Niezmienne."
   ]
  },
  {
   "cell_type": "markdown",
   "metadata": {
    "slideshow": {
     "slide_type": "subslide"
    }
   },
   "source": [
    "Ogólnie działają, maję te same problemy co w innych językach.  \n",
    "Do poważnych zastosowań są specjalne biblioteki.  \n",
    "Więcej informacji: https://docs.python.org/3/tutorial/floatingpoint.html"
   ]
  },
  {
   "cell_type": "markdown",
   "metadata": {
    "slideshow": {
     "slide_type": "subslide"
    }
   },
   "source": [
    "Trzeba uważać na błąd zaokrąglenia.\n",
    "Np: 0.1 jest ułamkiem niewymiernym w ststemie dwójkowym."
   ]
  },
  {
   "cell_type": "code",
   "execution_count": 24,
   "metadata": {
    "slideshow": {
     "slide_type": "subslide"
    }
   },
   "outputs": [
    {
     "name": "stdout",
     "output_type": "stream",
     "text": [
      "True\n",
      "False\n",
      "0.30000000000000004\n",
      "0.3\n"
     ]
    }
   ],
   "source": [
    "a = 0.1 + 0.1\n",
    "b = 0.1 + 0.1 + 0.1\n",
    "c = 0.3\n",
    "print(a == 0.2)\n",
    "print(b == c)\n",
    "print(b)\n",
    "print(c)"
   ]
  },
  {
   "cell_type": "markdown",
   "metadata": {
    "slideshow": {
     "slide_type": "subslide"
    }
   },
   "source": [
    "### string - napisy"
   ]
  },
  {
   "cell_type": "markdown",
   "metadata": {
    "slideshow": {
     "slide_type": "subslide"
    }
   },
   "source": [
    "Niezmienne."
   ]
  },
  {
   "cell_type": "markdown",
   "metadata": {
    "slideshow": {
     "slide_type": "subslide"
    }
   },
   "source": [
    "Do deklarowania można używać znaków pojedyńczych `'` i podwójnych `\"`, ale nie wymiennie."
   ]
  },
  {
   "cell_type": "code",
   "execution_count": 25,
   "metadata": {
    "slideshow": {
     "slide_type": "subslide"
    }
   },
   "outputs": [
    {
     "name": "stdout",
     "output_type": "stream",
     "text": [
      "<class 'str'> Ala\n",
      "<class 'str'> As\n"
     ]
    }
   ],
   "source": [
    "a = 'Ala'\n",
    "b = \"As\"\n",
    "print(type(a), a)\n",
    "print(type(b), b)"
   ]
  },
  {
   "cell_type": "code",
   "execution_count": 26,
   "metadata": {
    "slideshow": {
     "slide_type": "subslide"
    }
   },
   "outputs": [
    {
     "name": "stdout",
     "output_type": "stream",
     "text": [
      "139883600420912 Python is the best\n",
      "139883600420912 Python is the best\n",
      "139883600421056 Python is the best!\n",
      "139883600420912 Python is the best\n"
     ]
    }
   ],
   "source": [
    "a = 'Python is the best'\n",
    "b = a\n",
    "print(id(a), a)\n",
    "print(id(b), b)\n",
    "a += '!'\n",
    "print(id(a), a)\n",
    "print(id(b), b)"
   ]
  },
  {
   "cell_type": "markdown",
   "metadata": {
    "slideshow": {
     "slide_type": "subslide"
    }
   },
   "source": [
    "Można indeksować."
   ]
  },
  {
   "cell_type": "code",
   "execution_count": 27,
   "metadata": {
    "slideshow": {
     "slide_type": "subslide"
    }
   },
   "outputs": [
    {
     "name": "stdout",
     "output_type": "stream",
     "text": [
      "Python is the best!\n",
      "len(a):  19\n",
      "a[0]:  P\n",
      "a[1]:  y\n",
      "a[len(a) - 1]:  !\n",
      "a[0]:  !\n",
      "a[-19]:  P\n"
     ]
    }
   ],
   "source": [
    "print(a)\n",
    "print('len(a): ', len(a))\n",
    "print('a[0]: ', a[0]) # pierwszy element ma zawsze indeks 0!!!\n",
    "print('a[1]: ', a[1])\n",
    "print('a[len(a) - 1]: ', a[len(a) - 1]) # Ostatni element zawsze całkowita długość - 1\n",
    "# ponieważ indeksujemy od 0\n",
    "print('a[0]: ', a[-1]) # indeksy ujemne liczą od ostatniego znaku\n",
    "print('a[-19]: ', a[-19])"
   ]
  },
  {
   "cell_type": "markdown",
   "metadata": {
    "slideshow": {
     "slide_type": "subslide"
    }
   },
   "source": [
    "Domyślne kodowanie to `UTF-8`. `UTF-8` - znaki mogą mieć różną długość mierzoną w bajtach. Jest to najbogatszy system zapisu znaków."
   ]
  },
  {
   "cell_type": "code",
   "execution_count": 28,
   "metadata": {
    "slideshow": {
     "slide_type": "subslide"
    }
   },
   "outputs": [
    {
     "name": "stdout",
     "output_type": "stream",
     "text": [
      "ż ó ł ć\n",
      "4\n"
     ]
    }
   ],
   "source": [
    "a = 'żółć'\n",
    "print(a[0], a[1], a[2], a[3])\n",
    "print(len(a))"
   ]
  },
  {
   "cell_type": "markdown",
   "metadata": {
    "slideshow": {
     "slide_type": "subslide"
    }
   },
   "source": [
    "### list - Listy, tablice"
   ]
  },
  {
   "cell_type": "markdown",
   "metadata": {
    "slideshow": {
     "slide_type": "subslide"
    }
   },
   "source": [
    "Zmienne."
   ]
  },
  {
   "cell_type": "markdown",
   "metadata": {
    "slideshow": {
     "slide_type": "subslide"
    }
   },
   "source": [
    "Może przechowywac obiekty dowolnego typu.  \n",
    "Można indeksować."
   ]
  },
  {
   "cell_type": "code",
   "execution_count": 29,
   "metadata": {
    "slideshow": {
     "slide_type": "subslide"
    }
   },
   "outputs": [
    {
     "name": "stdout",
     "output_type": "stream",
     "text": [
      "[1, 2.3, (4+5j), 'Ala ma kota']\n",
      "len(a):  4\n",
      "[1, 2.3, (4+5j), ['zupełnie', 'inna', 'lista']]\n",
      "len(a):  4\n",
      "<class 'complex'> (4+5j)\n"
     ]
    }
   ],
   "source": [
    "a = [1, 2.3, 4 + 5j, 'Ala ma kota'] # nawiasy kwadratowe [] sa używane do deklarowania list\n",
    "b = ['zupełnie', 'inna', 'lista']\n",
    "print(a)\n",
    "print('len(a): ', len(a))\n",
    "a[-1] = b\n",
    "print(a)\n",
    "print('len(a): ', len(a))\n",
    "print(type(a[2]), a[2])"
   ]
  },
  {
   "cell_type": "code",
   "execution_count": 30,
   "metadata": {
    "slideshow": {
     "slide_type": "subslide"
    }
   },
   "outputs": [
    {
     "name": "stdout",
     "output_type": "stream",
     "text": [
      "33.9\n"
     ]
    }
   ],
   "source": [
    "a = [3, 4, 5, 6, 7, 8.9]\n",
    "print(sum(a))"
   ]
  },
  {
   "cell_type": "markdown",
   "metadata": {
    "slideshow": {
     "slide_type": "subslide"
    }
   },
   "source": [
    "###  tuple - Niezmienne tablice, krotki"
   ]
  },
  {
   "cell_type": "markdown",
   "metadata": {
    "slideshow": {
     "slide_type": "subslide"
    }
   },
   "source": [
    "Niezmienne."
   ]
  },
  {
   "cell_type": "markdown",
   "metadata": {
    "slideshow": {
     "slide_type": "subslide"
    }
   },
   "source": [
    "Do deklaracji wystarczą wartości oddzielone przecinkami - trzeba uważać, żeby \"przypadkiem\" nie zadeklarować tupli.  Bardzo często do deklaracji tupli używa się też nawiasów okrągłych `()`.  \n",
    "Ale to przecinki są ważne a nie nawiasy!  \n",
    "Tuple są wykorzystwane w bardzo wielu miejscach wewnątrz języka, jest to jedna z najistotniejszych struktur danych.  \n"
   ]
  },
  {
   "cell_type": "code",
   "execution_count": 31,
   "metadata": {
    "slideshow": {
     "slide_type": "subslide"
    }
   },
   "outputs": [
    {
     "name": "stdout",
     "output_type": "stream",
     "text": [
      "<class 'tuple'> (1, 2)\n",
      "<class 'tuple'> ('Ala',)\n"
     ]
    }
   ],
   "source": [
    "a = 1, 2\n",
    "print(type(a), a)\n",
    "b = 'Ala',\n",
    "print(type(b), b)"
   ]
  },
  {
   "cell_type": "markdown",
   "metadata": {
    "slideshow": {
     "slide_type": "subslide"
    }
   },
   "source": [
    "### dict - mapy, słowniki"
   ]
  },
  {
   "cell_type": "markdown",
   "metadata": {
    "slideshow": {
     "slide_type": "subslide"
    }
   },
   "source": [
    "Zmienne."
   ]
  },
  {
   "cell_type": "markdown",
   "metadata": {
    "slideshow": {
     "slide_type": "subslide"
    }
   },
   "source": [
    "Słowniki (mapy) umożliwiają przypisanie jakiemuś obiektowi (kluczowi) innego obieku (wartości).  \n",
    "Kluczami mogą być obiekty niezmienne (hashowalne).  \n",
    "Wartościami mogą być dowolne obiekty.  \n",
    "Jeden klucz może mieć tylko jedną wartość.  \n",
    "Słowniki nie gwarantują kolejności par klucz-wartość."
   ]
  },
  {
   "cell_type": "code",
   "execution_count": 32,
   "metadata": {
    "slideshow": {
     "slide_type": "subslide"
    }
   },
   "outputs": [
    {
     "name": "stdout",
     "output_type": "stream",
     "text": [
      "<class 'dict'> <class 'dict'> <class 'dict'>\n",
      "{} {} {'klucz': 'wartość'}\n",
      "{(1, 2): ['a', 'b', 'c'], 'Ala': 'As'}\n",
      "['a', 'b', 'c']\n"
     ]
    }
   ],
   "source": [
    "a = dict() # utworzenie nowego pustego słownika\n",
    "b = {} # alternatywna deklaracja nowego pustego słownika\n",
    "c = {'klucz': 'wartość'}\n",
    "print(type(a), type(b), type(c))\n",
    "print(a, b, c)\n",
    "a['Ala'] = 'As' # przypisanie wartości 'As' pod klucz 'Ala' \n",
    "a[(1, 2)] = ['a', 'b', 'c']\n",
    "print(a)\n",
    "print(a[(1, 2)]) "
   ]
  },
  {
   "cell_type": "code",
   "execution_count": 33,
   "metadata": {
    "slideshow": {
     "slide_type": "subslide"
    }
   },
   "outputs": [
    {
     "ename": "TypeError",
     "evalue": "unhashable type: 'list'",
     "output_type": "error",
     "traceback": [
      "\u001b[0;31m---------------------------------------------------------------------------\u001b[0m",
      "\u001b[0;31mTypeError\u001b[0m                                 Traceback (most recent call last)",
      "\u001b[0;32m<ipython-input-33-22bfdaf8f163>\u001b[0m in \u001b[0;36m<module>\u001b[0;34m()\u001b[0m\n\u001b[1;32m      1\u001b[0m \u001b[0ma\u001b[0m \u001b[0;34m=\u001b[0m \u001b[0;34m{\u001b[0m\u001b[0;34m}\u001b[0m\u001b[0;34m\u001b[0m\u001b[0m\n\u001b[0;32m----> 2\u001b[0;31m \u001b[0ma\u001b[0m\u001b[0;34m[\u001b[0m\u001b[0;34m[\u001b[0m\u001b[0;36m1\u001b[0m\u001b[0;34m,\u001b[0m \u001b[0;36m2\u001b[0m\u001b[0;34m]\u001b[0m\u001b[0;34m]\u001b[0m \u001b[0;34m=\u001b[0m \u001b[0;34m'nie ma takiej opcji'\u001b[0m\u001b[0;34m\u001b[0m\u001b[0m\n\u001b[0m",
      "\u001b[0;31mTypeError\u001b[0m: unhashable type: 'list'"
     ]
    }
   ],
   "source": [
    "a = {}\n",
    "a[[1, 2]] = 'nie ma takiej opcji'"
   ]
  },
  {
   "cell_type": "markdown",
   "metadata": {
    "slideshow": {
     "slide_type": "subslide"
    }
   },
   "source": [
    "### set - zbiory"
   ]
  },
  {
   "cell_type": "markdown",
   "metadata": {
    "slideshow": {
     "slide_type": "subslide"
    }
   },
   "source": [
    "Zmienne"
   ]
  },
  {
   "cell_type": "markdown",
   "metadata": {
    "slideshow": {
     "slide_type": "subslide"
    }
   },
   "source": [
    "Zbiory służą do tworzenia nieuporządkowanych kolekcji obiektów.  \n",
    "Zbiory mogą przechowywać obiekty niezmienne (hashowalne).  \n",
    "Czas sprawdzenia czy jakis obiekt jest w zbiorze jest stały, a nie jak w liście albo tupli liniowo zależny od liczby elementów (bardzo istotna cecha).  \n",
    "W zbiorze dany obiekt możne być wcale albo jeden raz - nie da się być wiele razy."
   ]
  },
  {
   "cell_type": "code",
   "execution_count": 34,
   "metadata": {
    "slideshow": {
     "slide_type": "subslide"
    }
   },
   "outputs": [],
   "source": [
    "a = set() # deklaracja nowego pustego słownika\n",
    "b = {1, 2.3, 'jakaś inna wartość'} # deklaracja nowego niepustego słownika "
   ]
  },
  {
   "cell_type": "markdown",
   "metadata": {
    "slideshow": {
     "slide_type": "subslide"
    }
   },
   "source": [
    "### pytania do sali"
   ]
  },
  {
   "cell_type": "markdown",
   "metadata": {
    "slideshow": {
     "slide_type": "subslide"
    }
   },
   "source": [
    "1. Co to znaczy, że obiekt jest zmienny?\n",
    "2. Jakie typy obiektów zmiennych poznaliśmy do tej pory?\n",
    "3. Jakie typy obiektów niezmiennych poznaliśmy?\n",
    "4. Co to znaczy, że python jest typowany dynamicznie?\n",
    "5. Jakie typy danych i w jakich okolicznościach mają wartość logiczną `False`? # TODO: opisać testowanie wartości logicznych."
   ]
  },
  {
   "cell_type": "markdown",
   "metadata": {
    "slideshow": {
     "slide_type": "slide"
    }
   },
   "source": [
    "## 3. Podstawowe operatory"
   ]
  },
  {
   "cell_type": "markdown",
   "metadata": {
    "slideshow": {
     "slide_type": "subslide"
    }
   },
   "source": [
    "### arytmetyczne"
   ]
  },
  {
   "cell_type": "markdown",
   "metadata": {
    "slideshow": {
     "slide_type": "subslide"
    }
   },
   "source": [
    "- `+` dodawanie\n",
    "- `-` odejmowanie\n",
    "- `*` mnożenie\n",
    "- `**` potęgowanie\n",
    "- `/` dzielenie -> float\n",
    "- `//` dzielenie z zaokrągleniem do najbliższego int w dół\n",
    "- `%` reszta z dzielenia"
   ]
  },
  {
   "cell_type": "markdown",
   "metadata": {
    "slideshow": {
     "slide_type": "subslide"
    }
   },
   "source": [
    "### porównania"
   ]
  },
  {
   "cell_type": "markdown",
   "metadata": {
    "slideshow": {
     "slide_type": "subslide"
    }
   },
   "source": [
    "- `==` równe co do wartości\n",
    "- `!=` różne co do wartości\n",
    "- `is` tożsamość obiektów - porównuje wyniki funkcji `id` (adresy obiektów w pamięci)\n",
    "- `is not` sprawdza czy obiekty nie są tożsame\n",
    "- `<` mniejsze\n",
    "- `>` większe\n",
    "- `<=` mniejsze lub równe\n",
    "- `>=` większe lub równe\n",
    "- `in` czy obiekt jest zawarty w innym obiekcie (np litera w stringu)\n",
    "- `not in` czy obiekt nie jest zawarty w innym obiekcie"
   ]
  },
  {
   "cell_type": "markdown",
   "metadata": {
    "slideshow": {
     "slide_type": "subslide"
    }
   },
   "source": [
    "Operator `is` nie służy do porównywania wartości obiektów. Można się bardzo łatwo naciąć. Niewielikie liczby są zadeklarowane w przód i każde użycie takiej liczby pobiera ją z cache dlatego mają te same adresy. Ale liczby większe są tworzone za każdym razem od nowa - co skutkuje różnymi obiektami w pamięci mimo, że mają te same wartości.  \n",
    "Do porównywania wartości obiektór należy zawsze używać operatora `==`!"
   ]
  },
  {
   "cell_type": "code",
   "execution_count": 35,
   "metadata": {
    "slideshow": {
     "slide_type": "subslide"
    }
   },
   "outputs": [
    {
     "name": "stdout",
     "output_type": "stream",
     "text": [
      "id(a) 9136608\n",
      "id(b) 9136608\n",
      "a is b True\n",
      "a == b True\n"
     ]
    }
   ],
   "source": [
    "a = 256\n",
    "b = 256\n",
    "print('id(a)', id(a))\n",
    "print('id(b)', id(b))\n",
    "print('a is b', a is b)\n",
    "print('a == b', a == b)"
   ]
  },
  {
   "cell_type": "code",
   "execution_count": 36,
   "metadata": {
    "slideshow": {
     "slide_type": "subslide"
    }
   },
   "outputs": [
    {
     "name": "stdout",
     "output_type": "stream",
     "text": [
      "id(a) 139883601099536\n",
      "id(b) 139883601099152\n",
      "a is b False\n",
      "a == b True\n"
     ]
    }
   ],
   "source": [
    "a = 257\n",
    "b = 257\n",
    "print('id(a)', id(a))\n",
    "print('id(b)', id(b))\n",
    "print('a is b', a is b)\n",
    "print('a == b', a == b)"
   ]
  },
  {
   "cell_type": "code",
   "execution_count": 37,
   "metadata": {
    "slideshow": {
     "slide_type": "subslide"
    }
   },
   "outputs": [
    {
     "name": "stdout",
     "output_type": "stream",
     "text": [
      "True\n",
      "False\n"
     ]
    }
   ],
   "source": [
    "print(257 is 257)\n",
    "print((255 + 2) is (250 + 7))"
   ]
  },
  {
   "cell_type": "markdown",
   "metadata": {
    "slideshow": {
     "slide_type": "subslide"
    }
   },
   "source": [
    "Troche o operatorze `in`:\n",
    "* W listach sa przeszukiwane wszsytkie elementy po kolei. Czas wyszukiwania zależy od rozmiaru listy.\n",
    "* W zbiorach wyszukiwanie nie zależy od rozmiaru zbioru - jest stałe\n",
    "* W słownikach wyszukiwane są tylko klucze, czas wyszukiwania nie zależy od liczby elementów w słowniku"
   ]
  },
  {
   "cell_type": "markdown",
   "metadata": {
    "slideshow": {
     "slide_type": "subslide"
    }
   },
   "source": [
    "### pytania do sali"
   ]
  },
  {
   "cell_type": "markdown",
   "metadata": {
    "slideshow": {
     "slide_type": "subslide"
    }
   },
   "source": [
    "1. Co to znaczy, że typowanie jest silne?\n",
    "2. Co sie stanie jak pomnożymy string przez liczbę całkowitą?\n",
    "3. Co sie stanie jak pomnożymy string przez liczbę zmiennoprzecinkową?\n",
    "4. A gdybyśmy mnożyli listy?\n",
    "5. Co z porównywaniem liczb zmiennoprzecinkowych?"
   ]
  },
  {
   "cell_type": "markdown",
   "metadata": {
    "slideshow": {
     "slide_type": "slide"
    }
   },
   "source": [
    "## 4. Wyrażenia warunkowe"
   ]
  },
  {
   "cell_type": "markdown",
   "metadata": {
    "slideshow": {
     "slide_type": "subslide"
    }
   },
   "source": [
    "### if, elif, else"
   ]
  },
  {
   "cell_type": "code",
   "execution_count": 38,
   "metadata": {
    "slideshow": {
     "slide_type": "subslide"
    }
   },
   "outputs": [
    {
     "name": "stdout",
     "output_type": "stream",
     "text": [
      "przed ifem\n",
      "warunek spełniony!\n",
      "i już po ifie\n"
     ]
    }
   ],
   "source": [
    "# Python 3 zakłada, że pliki z kodem źródłowym są zapisane z kodowaniem UTF-8\n",
    "# można wtedy bez problemów używać literałów ze znakami spoza ACII\n",
    "# nawet zmienne mogą zawierać \"ogonki\", co nie znaczy, że jest to dobra praktyka\n",
    "ąę = 3\n",
    "print('przed ifem')\n",
    "if ąę == 3:\n",
    "    # tu jest wcięcie w kodzie, standardowo 4 spacje na poziom zagnieżdżenia\n",
    "    # nie ma żadnych nawiasów {}, żadnego BEGIN, END\n",
    "    # tylko obowiązkowe wcięcia\n",
    "    # dzięki temu sam język wymusza czytelne formatowanie kodu\n",
    "    # jest to jedna z większych zalet pythona\n",
    "    print('warunek spełniony!')\n",
    "print('i już po ifie')"
   ]
  },
  {
   "cell_type": "code",
   "execution_count": 39,
   "metadata": {
    "slideshow": {
     "slide_type": "subslide"
    }
   },
   "outputs": [
    {
     "name": "stdout",
     "output_type": "stream",
     "text": [
      "przed ifem\n",
      "nie trafiliśmy w ifa\n",
      "i już po ifie\n"
     ]
    }
   ],
   "source": [
    "a = 4\n",
    "print('przed ifem')\n",
    "if a == 3:\n",
    "    print('warunek spełniony!')\n",
    "else:\n",
    "    print('nie trafiliśmy w ifa')\n",
    "print('i już po ifie')"
   ]
  },
  {
   "cell_type": "code",
   "execution_count": 40,
   "metadata": {
    "slideshow": {
     "slide_type": "subslide"
    }
   },
   "outputs": [
    {
     "name": "stdout",
     "output_type": "stream",
     "text": [
      "przed ifem\n",
      "cztery\n",
      "i już po ifie\n"
     ]
    }
   ],
   "source": [
    "a = 4\n",
    "print('przed ifem')\n",
    "if a == 3:\n",
    "    print('trzy')\n",
    "elif a == 4:\n",
    "    print('cztery')\n",
    "elif a == 5:\n",
    "    print('pięć')\n",
    "else:\n",
    "    print('dalej mi się nie chce')\n",
    "print('i już po ifie')"
   ]
  },
  {
   "cell_type": "markdown",
   "metadata": {
    "slideshow": {
     "slide_type": "subslide"
    }
   },
   "source": [
    "### for, continue, break, else"
   ]
  },
  {
   "cell_type": "code",
   "execution_count": 41,
   "metadata": {
    "slideshow": {
     "slide_type": "subslide"
    }
   },
   "outputs": [
    {
     "name": "stdout",
     "output_type": "stream",
     "text": [
      "a\n",
      "b\n",
      "c\n",
      "d\n",
      "e\n",
      "f\n"
     ]
    }
   ],
   "source": [
    "literki = ['a', 'b', 'c', 'd', 'e', 'f']\n",
    "for x in literki:\n",
    "    print(x)"
   ]
  },
  {
   "cell_type": "code",
   "execution_count": 42,
   "metadata": {
    "slideshow": {
     "slide_type": "subslide"
    }
   },
   "outputs": [
    {
     "name": "stdout",
     "output_type": "stream",
     "text": [
      "a\n",
      "b\n",
      "c\n",
      "d\n",
      "e\n",
      "f\n",
      "g\n",
      "h\n",
      "i\n",
      "j\n",
      "k\n",
      "l\n"
     ]
    }
   ],
   "source": [
    "literki = 'abcdefghijkl'\n",
    "for x in literki:\n",
    "    print(x)"
   ]
  },
  {
   "cell_type": "code",
   "execution_count": 43,
   "metadata": {
    "slideshow": {
     "slide_type": "subslide"
    }
   },
   "outputs": [
    {
     "name": "stdout",
     "output_type": "stream",
     "text": [
      "0\n",
      "2\n",
      "4\n",
      "6\n",
      "8\n"
     ]
    }
   ],
   "source": [
    "# range to generator (będziemy o nich poźniej szczegółowo powiadać)\n",
    "# w skrócie: da się po nim iterować\n",
    "# podaje kolejne liczby całkowite od, do, skok\n",
    "# od - domyślnie 0\n",
    "# do - trzeba podać, pierwsza liczba której range nie zwróci\n",
    "# skok - domyślnie 1\n",
    "\n",
    "for x in range(10):\n",
    "    if x % 2 != 0:\n",
    "        continue\n",
    "    print(x)"
   ]
  },
  {
   "cell_type": "code",
   "execution_count": 44,
   "metadata": {
    "slideshow": {
     "slide_type": "subslide"
    }
   },
   "outputs": [
    {
     "name": "stdout",
     "output_type": "stream",
     "text": [
      "1\n",
      "2\n",
      "3\n",
      "4\n"
     ]
    }
   ],
   "source": [
    "for x in range(1, 10):\n",
    "    if x % 5 == 0:\n",
    "        break\n",
    "    print(x)"
   ]
  },
  {
   "cell_type": "code",
   "execution_count": 45,
   "metadata": {
    "slideshow": {
     "slide_type": "subslide"
    }
   },
   "outputs": [
    {
     "name": "stdout",
     "output_type": "stream",
     "text": [
      "nie znaleziono\n"
     ]
    }
   ],
   "source": [
    "for x in range(1, 10):\n",
    "    if x == 10:\n",
    "        print(x)\n",
    "        break\n",
    "else:\n",
    "    # ten blok kodu wykona się jeśli pętla zakończyła się normalnie\n",
    "    # (nie za pomocą break)\n",
    "    print('nie znaleziono')"
   ]
  },
  {
   "cell_type": "markdown",
   "metadata": {
    "slideshow": {
     "slide_type": "subslide"
    }
   },
   "source": [
    "### while, continue, break, else"
   ]
  },
  {
   "cell_type": "code",
   "execution_count": 46,
   "metadata": {
    "slideshow": {
     "slide_type": "subslide"
    }
   },
   "outputs": [
    {
     "name": "stdout",
     "output_type": "stream",
     "text": [
      "3  jest liczbą pierwszą\n",
      "5  jest liczbą pierwszą\n",
      "7  jest liczbą pierwszą\n",
      "11  jest liczbą pierwszą\n",
      "13  jest liczbą pierwszą\n",
      "17  jest liczbą pierwszą\n",
      "19  jest liczbą pierwszą\n",
      "23  jest liczbą pierwszą\n",
      "29  jest liczbą pierwszą\n",
      "31  jest liczbą pierwszą\n",
      "37  jest liczbą pierwszą\n",
      "41  jest liczbą pierwszą\n",
      "43  jest liczbą pierwszą\n",
      "47  jest liczbą pierwszą\n",
      "53  jest liczbą pierwszą\n",
      "59  jest liczbą pierwszą\n",
      "61  jest liczbą pierwszą\n",
      "67  jest liczbą pierwszą\n",
      "71  jest liczbą pierwszą\n",
      "73  jest liczbą pierwszą\n",
      "79  jest liczbą pierwszą\n",
      "83  jest liczbą pierwszą\n",
      "89  jest liczbą pierwszą\n",
      "97  jest liczbą pierwszą\n"
     ]
    }
   ],
   "source": [
    "# proste wyznaczanie liczb pierwszych (niezbyt wydajne)\n",
    "limit = 100\n",
    "# skok = 2 <- omijamy liczby parzyste, które i tak nie są pierwsze\n",
    "for n in range(3, limit, 2):\n",
    "    sqrt_n = int(n**0.5) + 1\n",
    "    q = 2\n",
    "    while q <= sqrt_n:\n",
    "        if n % q == 0:\n",
    "            break\n",
    "        q += 1\n",
    "    else:\n",
    "        print(n, ' jest liczbą pierwszą')"
   ]
  },
  {
   "cell_type": "markdown",
   "metadata": {
    "slideshow": {
     "slide_type": "slide"
    }
   },
   "source": [
    "## 5. Garść przydatnych informacji i trików"
   ]
  },
  {
   "cell_type": "markdown",
   "metadata": {
    "slideshow": {
     "slide_type": "subslide"
    }
   },
   "source": [
    "### szybkie tworzenie list o danym rozmiarze"
   ]
  },
  {
   "cell_type": "code",
   "execution_count": 47,
   "metadata": {
    "slideshow": {
     "slide_type": "subslide"
    }
   },
   "outputs": [
    {
     "name": "stdout",
     "output_type": "stream",
     "text": [
      "[0, 0, 0, 0, 0, 0, 0, 0, 0, 0]\n",
      "10\n"
     ]
    }
   ],
   "source": [
    "a = [0] * 10\n",
    "print(a)\n",
    "print(len(a))"
   ]
  },
  {
   "cell_type": "markdown",
   "metadata": {
    "slideshow": {
     "slide_type": "subslide"
    }
   },
   "source": [
    "### wycinki (slices)"
   ]
  },
  {
   "cell_type": "markdown",
   "metadata": {
    "slideshow": {
     "slide_type": "subslide"
    }
   },
   "source": [
    "Wycinek zazwyczaj (zawsze?) tworzy nowy obiekt.\n",
    "`a[start:end:step]`\n",
    "* `start` pierwszy element, który wejdzie do wycinka\n",
    "* `end` pierwszy, który znajdzie się poza wycinkiem\n",
    "* `step` co, który element zostanie wzięty\n",
    "Wartości start, end, step mogą być ujemne. Ujemne wartości znaczą - liczymy od końca a nie od początku. Mogą też być wrtością `None` - wtedy zostaną zinterpretowane jakby nie były podane.\n",
    "Szersze wyjaśnienie: http://stackoverflow.com/a/509295"
   ]
  },
  {
   "cell_type": "code",
   "execution_count": 48,
   "metadata": {
    "slideshow": {
     "slide_type": "subslide"
    }
   },
   "outputs": [
    {
     "name": "stdout",
     "output_type": "stream",
     "text": [
      "19\n",
      "[19]\n",
      "[18, 19]\n",
      "[0, 1, 2, 3, 4, 5, 6, 7, 8, 9, 10, 11, 12, 13, 14, 15, 16, 17]\n",
      "[19, 18, 17, 16, 15, 14, 13, 12, 11, 10, 9, 8, 7, 6, 5, 4, 3, 2, 1, 0]\n",
      "[0, 2, 4, 6, 8, 10, 12, 14, 16, 18]\n",
      "[1, 3, 5, 7, 9, 11, 13, 15, 17, 19]\n"
     ]
    }
   ],
   "source": [
    "a = list(range(20))\n",
    "print(a[-1])    # ostatni element - nie jako sekwencja\n",
    "print(a[-1:])    # ostatni element - jako sekwencja\n",
    "print(a[-2:])   # ostatnie dwa elementy - jako sekwencja\n",
    "print(a[:-2])   # cała sekwencja poza ostatnimi dwoma elementami\n",
    "print(a[::-1])  # tworzy nową sekwencję w odwrotnej kolejności\n",
    "print(a[::2]) # stworzy nową sekwencję z elementami parzystymi\n",
    "print(a[1::2]) # stworzy nową sekwencję z elementami nieparzystymi"
   ]
  },
  {
   "cell_type": "markdown",
   "metadata": {
    "slideshow": {
     "slide_type": "subslide"
    }
   },
   "source": [
    "### list comprehension - listy składane, wyrażenia listowe (i tak wszyscy nazywają to po angielsku)"
   ]
  },
  {
   "cell_type": "code",
   "execution_count": 49,
   "metadata": {
    "slideshow": {
     "slide_type": "subslide"
    }
   },
   "outputs": [
    {
     "name": "stdout",
     "output_type": "stream",
     "text": [
      "[0, 1, 2, 3, 4, 5, 6, 7, 8, 9]\n",
      "[0, 3, 6, 9]\n"
     ]
    }
   ],
   "source": [
    "a = [x for x in range(10)]\n",
    "print(a)\n",
    "b = [x for x in range(10) if not x%3] # lista liczb podzielnych przez 3, mniejszych od 10 \n",
    "print(b)"
   ]
  },
  {
   "cell_type": "markdown",
   "metadata": {
    "slideshow": {
     "slide_type": "subslide"
    }
   },
   "source": [
    "Oprócz list można składać zbiory i słowniki. Tuple nie za bardzo, bo wychodzą generatory :)"
   ]
  },
  {
   "cell_type": "code",
   "execution_count": 50,
   "metadata": {
    "slideshow": {
     "slide_type": "subslide"
    }
   },
   "outputs": [
    {
     "name": "stdout",
     "output_type": "stream",
     "text": [
      "<class 'generator'>\n",
      "<class 'tuple'>\n"
     ]
    }
   ],
   "source": [
    "a = (x for x in range(10))\n",
    "print(type(a))\n",
    "b = tuple(x for x in range(10))\n",
    "print(type(b))"
   ]
  }
 ],
 "metadata": {
  "celltoolbar": "Slideshow",
  "kernelspec": {
   "display_name": "Python 3",
   "language": "python",
   "name": "python3"
  },
  "language_info": {
   "codemirror_mode": {
    "name": "ipython",
    "version": 3
   },
   "file_extension": ".py",
   "mimetype": "text/x-python",
   "name": "python",
   "nbconvert_exporter": "python",
   "pygments_lexer": "ipython3",
   "version": "3.5.2"
  }
 },
 "nbformat": 4,
 "nbformat_minor": 2
}
